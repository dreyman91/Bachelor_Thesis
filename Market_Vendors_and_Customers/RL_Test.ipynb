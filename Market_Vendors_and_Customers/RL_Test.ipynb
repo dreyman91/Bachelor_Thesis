{
 "cells": [
  {
   "cell_type": "code",
   "id": "initial_id",
   "metadata": {
    "collapsed": true,
    "ExecuteTime": {
     "end_time": "2025-02-02T20:05:36.198476Z",
     "start_time": "2025-02-02T20:05:35.910414Z"
    }
   },
   "source": [
    "from Custom_API.AEC_API.AEC_Env_Sample import truncated\n",
    "from Market_Vendors_and_Customers.market_aec import Market_AEC_Env\n",
    "\n",
    "env = Market_AEC_Env(customers=3, vendors=3, admin=1)\n",
    "env.reset()\n",
    "print(\"Environment initiated succesfully\")\n",
    "\n"
   ],
   "outputs": [
    {
     "name": "stdout",
     "output_type": "stream",
     "text": [
      "Environment initiated succesfully\n"
     ]
    }
   ],
   "execution_count": 1
  },
  {
   "metadata": {
    "ExecuteTime": {
     "end_time": "2025-02-02T20:08:24.292249Z",
     "start_time": "2025-02-02T20:08:24.282739Z"
    }
   },
   "cell_type": "code",
   "source": [
    "for _ in range(5):\n",
    "    agent = env.agent_selection\n",
    "    action = env.action_spaces[agent].sample()\n",
    "    obs, reward, terminations,truncations, info = env.step(action)\n",
    "    print(f\"Agent {agent}'s action: {action} and reward: {reward}\")"
   ],
   "id": "c40bb0a4e0b5e823",
   "outputs": [
    {
     "name": "stdout",
     "output_type": "stream",
     "text": [
      "[DEBUG] Done Customers: set() | Done Vendors: set()\n",
      "Agent customer_0's action: 0 and reward: 0\n",
      "[DEBUG] Done Customers: set() | Done Vendors: set()\n",
      "Agent customer_1's action: 5 and reward: 0\n",
      "customer_2 is comparing vendors and prefers vendor_2\n",
      "[DEBUG] Done Customers: set() | Done Vendors: set()\n",
      "Agent customer_2's action: 1 and reward: 2\n",
      "[DEBUG] Done Customers: set() | Done Vendors: set()\n",
      "Agent vendor_0's action: 2 and reward: 0\n",
      "[DEBUG] Done Customers: set() | Done Vendors: set()\n",
      "Agent vendor_1's action: 2 and reward: 0\n"
     ]
    }
   ],
   "execution_count": 6
  },
  {
   "metadata": {
    "ExecuteTime": {
     "end_time": "2025-02-02T20:07:21.432552Z",
     "start_time": "2025-02-02T20:07:21.423795Z"
    }
   },
   "cell_type": "code",
   "source": [
    "obs = env.observe(env.agent_selection)\n",
    "print(\"Observation Structure:\", obs)"
   ],
   "id": "2b29016e654c2cba",
   "outputs": [
    {
     "name": "stdout",
     "output_type": "stream",
     "text": [
      "Observation Structure: {'vendors': array([1, 1, 1]), 'prices': array([270.33334, 284.66666, 222.     ], dtype=float32), 'stock': array([ 88, 257, 109], dtype=int32), 'market_trend': 0, 'budget': array([1086.], dtype=float32)}\n"
     ]
    }
   ],
   "execution_count": 3
  },
  {
   "metadata": {
    "ExecuteTime": {
     "end_time": "2025-02-02T20:07:41.289495Z",
     "start_time": "2025-02-02T20:07:41.268485Z"
    }
   },
   "cell_type": "code",
   "source": [
    "env.done_agents = set(env.agents)  # Mark all agents as done\n",
    "terminations = env.terminations()\n",
    "print(f\"Terminations: {terminations}\")\n"
   ],
   "id": "1c023fb7aa706366",
   "outputs": [
    {
     "name": "stdout",
     "output_type": "stream",
     "text": [
      "Terminations: {'customer_0': True, 'customer_1': True, 'customer_2': True, 'vendor_0': True, 'vendor_1': True, 'vendor_2': True, 'admin_0': True}\n"
     ]
    }
   ],
   "execution_count": 4
  },
  {
   "metadata": {
    "ExecuteTime": {
     "end_time": "2025-02-02T20:07:57.767570Z",
     "start_time": "2025-02-02T20:07:57.751261Z"
    }
   },
   "cell_type": "code",
   "source": [
    "env.reset()\n",
    "print(\"Reset successful! Agents:\", env.agents)\n"
   ],
   "id": "b0b6f78ec0d06182",
   "outputs": [
    {
     "name": "stdout",
     "output_type": "stream",
     "text": [
      "Reset successful! Agents: ['customer_0', 'customer_1', 'customer_2', 'vendor_0', 'vendor_1', 'vendor_2', 'admin_0']\n"
     ]
    }
   ],
   "execution_count": 5
  },
  {
   "metadata": {
    "ExecuteTime": {
     "end_time": "2025-02-02T20:10:18.017139Z",
     "start_time": "2025-02-02T20:10:18.011901Z"
    }
   },
   "cell_type": "code",
   "source": [
    "env.render()\n",
    "env.close()\n",
    "print(\"Render and Close Test Completed!\")\n"
   ],
   "id": "be19848e4bf27ed3",
   "outputs": [
    {
     "name": "stdout",
     "output_type": "stream",
     "text": [
      "Current agent: vendor_2\n",
      "Market Prices: [36 37 31]\n",
      "Vendors Status: {'vendor_0': 'active', 'vendor_1': 'active', 'vendor_2': 'active'}\n",
      "Customer Budgets: {'customer_0': 473, 'customer_1': 1086, 'customer_2': 1852}\n",
      "Current Actions: {'customer_0': np.int64(0), 'customer_1': np.int64(5), 'customer_2': np.int64(1), 'vendor_0': np.int64(2), 'vendor_1': np.int64(2), 'vendor_2': None, 'admin_0': None}\n",
      "Total Transactions: 0\n",
      "===============================================\n",
      "Market environment closed.\n",
      "Render and Close Test Completed!\n"
     ]
    }
   ],
   "execution_count": 7
  },
  {
   "metadata": {},
   "cell_type": "code",
   "outputs": [],
   "execution_count": null,
   "source": "pylint marke",
   "id": "3a41dafefdeb4d77"
  }
 ],
 "metadata": {
  "kernelspec": {
   "display_name": "Python 3",
   "language": "python",
   "name": "python3"
  },
  "language_info": {
   "codemirror_mode": {
    "name": "ipython",
    "version": 2
   },
   "file_extension": ".py",
   "mimetype": "text/x-python",
   "name": "python",
   "nbconvert_exporter": "python",
   "pygments_lexer": "ipython2",
   "version": "2.7.6"
  }
 },
 "nbformat": 4,
 "nbformat_minor": 5
}
