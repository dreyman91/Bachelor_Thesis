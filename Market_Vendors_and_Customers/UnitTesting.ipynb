{
 "cells": [
  {
   "cell_type": "code",
   "id": "initial_id",
   "metadata": {
    "collapsed": true,
    "ExecuteTime": {
     "end_time": "2025-01-31T01:08:38.169148Z",
     "start_time": "2025-01-31T01:08:38.146552Z"
    }
   },
   "source": [
    "import unittest\n",
    "import numpy as np\n",
    "from Market_Vendors_and_Customers.Market_AEC import Market_AEC_Env, Product\n",
    "\n",
    "class Market_Vendors_and_Customers_and_UnitTesting(unittest.TestCase):\n",
    "    def setUp(self):\n",
    "        self.env = Market_AEC_Env(vendors=3, customers=3, admin=1)\n",
    "        self.env.reset()\n",
    "\n",
    "        ## test Environment\n",
    "        self.assertEqual(len(self.env.agents), 7)\n",
    "        self.assertEqual(len(self.env.vendors_products), 3)\n",
    "        self.assertIsInstance(self.env.market_prices, np.ndarray)\n",
    "\n",
    "    def test_reset_fucntion(self):\n",
    "        self.env.reset()\n",
    "        self.assertEqual(len(self.env.agent_selection), self.env.agents[0])\n",
    "        self.assertEqual(len(self.env.vendors_products), 3)\n",
    "\n",
    "    def test_observation_fucntion(self):\n",
    "        for agent in self.agents:\n",
    "            obs = self.env.observe(agent)\n",
    "            self.assertIsNotNone(obs)\n",
    "            self.assertTrue(isinstance(obs, dict))\n",
    "\n",
    "    def customer_purchase(self):\n",
    "        customer = \"customer_0\"\n",
    "        vendor = \"vendor_0\"\n",
    "        product = self.env.vendors_products[vendor][0]\n",
    "        initial_budget = self.env.customer_budgets[customer]\n",
    "        initial_vendor_stock = product.stock\n",
    "        self.env.purchase(customer, vendor, product)\n",
    "\n",
    "        self.assertLess(self.env.customer_budgets[customer], initial_budget)\n",
    "        self.assertLess(product.stock, initial_vendor_stock)\n",
    "\n",
    "    def test_customer_check_market_trend(self):\n",
    "        customer = \"customer_0\"\n",
    "        self.env.check_market_trend(customer)\n",
    "\n",
    "    if __name__ == \"__main__\":\n",
    "        unittest.main()"
   ],
   "outputs": [
    {
     "name": "stderr",
     "output_type": "stream",
     "text": [
      "E\n",
      "======================================================================\n",
      "ERROR: /home/oluwadamilare-adegun/ (unittest.loader._FailedTest./home/oluwadamilare-adegun/)\n",
      "----------------------------------------------------------------------\n",
      "AttributeError: module '__main__' has no attribute '/home/oluwadamilare-adegun/'\n",
      "\n",
      "----------------------------------------------------------------------\n",
      "Ran 1 test in 0.001s\n",
      "\n",
      "FAILED (errors=1)\n"
     ]
    },
    {
     "ename": "SystemExit",
     "evalue": "True",
     "output_type": "error",
     "traceback": [
      "An exception has occurred, use %tb to see the full traceback.\n",
      "\u001B[0;31mSystemExit\u001B[0m\u001B[0;31m:\u001B[0m True\n"
     ]
    },
    {
     "name": "stderr",
     "output_type": "stream",
     "text": [
      "/home/oluwadamilare-adegun/PycharmProjects/Bachelor_Thesis/venv/lib/python3.11/site-packages/IPython/core/interactiveshell.py:3585: UserWarning: To exit: use 'exit', 'quit', or Ctrl-D.\n",
      "  warn(\"To exit: use 'exit', 'quit', or Ctrl-D.\", stacklevel=1)\n"
     ]
    }
   ],
   "execution_count": 5
  },
  {
   "metadata": {},
   "cell_type": "code",
   "outputs": [],
   "execution_count": null,
   "source": "",
   "id": "c40bb0a4e0b5e823"
  }
 ],
 "metadata": {
  "kernelspec": {
   "display_name": "Python 3",
   "language": "python",
   "name": "python3"
  },
  "language_info": {
   "codemirror_mode": {
    "name": "ipython",
    "version": 2
   },
   "file_extension": ".py",
   "mimetype": "text/x-python",
   "name": "python",
   "nbconvert_exporter": "python",
   "pygments_lexer": "ipython2",
   "version": "2.7.6"
  }
 },
 "nbformat": 4,
 "nbformat_minor": 5
}
