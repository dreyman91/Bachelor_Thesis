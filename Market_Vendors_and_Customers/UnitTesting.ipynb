{
 "cells": [
  {
   "cell_type": "code",
   "id": "initial_id",
   "metadata": {
    "collapsed": true,
    "ExecuteTime": {
     "end_time": "2025-01-29T17:08:52.953503Z",
     "start_time": "2025-01-29T17:08:52.922393Z"
    }
   },
   "source": [
    "import pytest\n",
    "from Market_AEC import Market_AEC_Env, Product\n",
    "\n",
    "def test_customer_purchase():\n",
    "    env = Market_AEC_Env(vendors=2, customers=2)\n",
    "    customer = \"customer_v0\"\n",
    "    vendor = \"vendor_v0\"\n",
    "\n",
    "    product = Product(product_id=\"1\", price=50, name=\"test_product\", category=\"General\", stock=10)\n",
    "    env.vendors_products[vendor] = [product]\n",
    "    env.customer_budgets[customer] = 100\n",
    "\n",
    "    env.purchase(customer, vendor, product)\n",
    "\n",
    "    assert product.stock == 9\n",
    "    assert env.customer_budgets[customer] == 50"
   ],
   "outputs": [],
   "execution_count": 3
  },
  {
   "metadata": {},
   "cell_type": "code",
   "outputs": [],
   "execution_count": null,
   "source": "",
   "id": "c40bb0a4e0b5e823"
  }
 ],
 "metadata": {
  "kernelspec": {
   "display_name": "Python 3",
   "language": "python",
   "name": "python3"
  },
  "language_info": {
   "codemirror_mode": {
    "name": "ipython",
    "version": 2
   },
   "file_extension": ".py",
   "mimetype": "text/x-python",
   "name": "python",
   "nbconvert_exporter": "python",
   "pygments_lexer": "ipython2",
   "version": "2.7.6"
  }
 },
 "nbformat": 4,
 "nbformat_minor": 5
}
