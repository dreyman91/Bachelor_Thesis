{
 "cells": [
  {
   "metadata": {
    "ExecuteTime": {
     "end_time": "2025-01-26T13:30:41.666944Z",
     "start_time": "2025-01-26T13:30:41.637570Z"
    }
   },
   "cell_type": "code",
   "source": [
    "from Market_Vendors_and_Customers.Market_AEC import Market_AEC_Env\n",
    "import pandas as pd\n",
    "\n",
    "env = Market_AEC_Env()\n",
    "env.reset()\n",
    "\n",
    "env.step(3)  # Example action\n",
    "env.render()\n",
    "\n"
   ],
   "id": "d242bddc3dc6f18",
   "outputs": [
    {
     "name": "stdout",
     "output_type": "stream",
     "text": [
      "Market Prices: [25 16 19]\n"
     ]
    }
   ],
   "execution_count": 4
  },
  {
   "metadata": {
    "ExecuteTime": {
     "end_time": "2025-01-26T20:08:45.886825Z",
     "start_time": "2025-01-26T20:08:45.838085Z"
    }
   },
   "cell_type": "code",
   "source": [
    "from Market_Vendors_and_Customers.Market_AEC import Market_AEC_Env\n",
    "\n",
    "# Import the environment\n",
    "env = Market_AEC_Env()\n",
    "\n",
    "# Reset the environment\n",
    "env.reset()\n",
    "\n",
    "# Test vendor functionalities\n",
    "try:\n",
    "    env.add_product(\"vendor_0\", \"Apple\")\n",
    "    print(\"✅ add_product works\")\n",
    "\n",
    "    env.add_product(\"vendor_1\", \"Banana\")\n",
    "    print(\"✅ add_product works for another vendor\")\n",
    "\n",
    "    env.remove_product(\"vendor_1\", \"Banana\")\n",
    "    print(\"✅ remove_product works\")\n",
    "\n",
    "    env.sell_product(\"vendor_0\", \"Apple\")\n",
    "    print(\"✅ sell_product works\")\n",
    "\n",
    "    env.update_status(\"vendor_0\", \"inactive\")\n",
    "    print(\"✅ update_status works\")\n",
    "\n",
    "    trend = env.analyze_market_trends()\n",
    "    print(f\"✅ analyze_trends works, Market Trend: {trend}\")\n",
    "\n",
    "    env.render()\n",
    "\n",
    "except AttributeError as e:\n",
    "    print(f\"❌ Error: {e}\")"
   ],
   "id": "500d201031c6a49",
   "outputs": [
    {
     "name": "stdout",
     "output_type": "stream",
     "text": [
      "✅ add_product works\n",
      "✅ add_product works for another vendor\n",
      "vendor_1 sold Banana\n",
      "✅ remove_product works\n",
      "✅ sell_product works\n",
      "✅ update_status works\n",
      "✅ analyze_trends works, Market Trend: 35.666666666666664\n",
      "Market Prices: [36 34 37]\n",
      "Vendors Products: {'vendor_0': [], 'vendor_1': [], 'vendor_2': []}\n",
      "Vendors Status: {'vendor_0': 'inactive', 'vendor_1': 'active', 'vendor_2': 'active'}\n"
     ]
    }
   ],
   "execution_count": 2
  },
  {
   "metadata": {
    "ExecuteTime": {
     "end_time": "2025-01-26T20:28:34.615770Z",
     "start_time": "2025-01-26T20:28:34.480211Z"
    }
   },
   "cell_type": "code",
   "source": [
    "from Market_Vendors_and_Customers.Market_AEC import Market_AEC_Env\n",
    "env = Market_AEC_Env()\n",
    "env.reset()\n",
    "\n",
    "env.add_product(\"vendor_0\", \"Apple\")\n",
    "env.purchase(\"customer_0\", \"vendor_0\", \"Apple\")\n",
    "env.negotiate(\"customer_0\", \"vendor_0\", \"Apple\", 20)\n",
    "env.walk_away(\"customer_0\")\n",
    "env.observe_market(\"customer_0\")\n",
    "env.browse_products(\"customer_0\")\n"
   ],
   "id": "b0f736c3e8550b68",
   "outputs": [
    {
     "name": "stdout",
     "output_type": "stream",
     "text": [
      "customer_0 purchased Apple from vendor_0\n",
      "customer_0 walked away\n",
      "customer_0 observes market prices: [23 37 17]\n",
      "customer_0 is browsing products\n"
     ]
    }
   ],
   "execution_count": 1
  },
  {
   "metadata": {
    "ExecuteTime": {
     "end_time": "2025-01-27T18:18:10.398186Z",
     "start_time": "2025-01-27T18:18:10.258212Z"
    }
   },
   "cell_type": "code",
   "source": [
    "from Market_Vendors_and_Customers.Market_AEC import Product, Market_AEC_Env\n",
    "\n",
    "# Initialize the environment\n",
    "env = Market_AEC_Env()\n",
    "env.reset()\n",
    "\n",
    "# Test vendor functionalities\n",
    "print(\"\\n--- Testing Vendor Functionalities ---\\n\")\n",
    "\n",
    "# Create a product\n",
    "apple = Product(product_id=1, name=\"Apple\", category=\"Fruit\", price=5, stock=10)\n",
    "\n",
    "# Add product\n",
    "env.add_product(\"vendor_0\", apple)\n",
    "print(\"✅ add_product works:\", env.vendors_products)\n",
    "\n",
    "# Update stock\n",
    "env.update_product_stock(\"vendor_0\", apple, 5)\n",
    "print(\"✅ update_product_stock works:\", env.vendors_products[\"vendor_0\"][0].stock)\n",
    "\n",
    "# Set product price\n",
    "env.set_product_price(\"vendor_0\", apple, 8)\n",
    "print(\"✅ set_product_price works:\", env.vendors_products[\"vendor_0\"][0].price)\n",
    "\n",
    "# Remove product\n",
    "env.remove_product(\"vendor_0\", apple)\n",
    "print(\"✅ remove_product works:\", env.vendors_products)\n",
    "\n",
    "# Test customer functionalities\n",
    "print(\"\\n--- Testing Customer Functionalities ---\\n\")\n",
    "\n",
    "# Re-add the product for customer tests\n",
    "env.add_product(\"vendor_0\", apple)\n",
    "\n",
    "# Customer purchases the product\n",
    "env.purchase(\"customer_0\", \"vendor_0\", apple)\n",
    "\n",
    "# Customer negotiates a price\n",
    "env.negotiate(\"customer_0\", \"vendor_0\", apple, 6)\n",
    "\n",
    "# Customer walks away\n",
    "env.walk_away(\"customer_0\")\n",
    "\n",
    "# Customer observes the market\n",
    "env.observe_market(\"customer_0\")\n",
    "\n",
    "# Customer browses products\n",
    "env.browse_products(\"customer_0\")\n",
    "\n",
    "# Market trend analysis\n",
    "market_trend = env.analyze_market_trends()\n",
    "print(\"\\n✅ analyze_market_trends works:\", market_trend)\n",
    "\n",
    "# Render current environment state\n",
    "env.render()\n"
   ],
   "id": "7fad0ff1c9afbe3e",
   "outputs": [
    {
     "name": "stdout",
     "output_type": "stream",
     "text": [
      "\n",
      "--- Testing Vendor Functionalities ---\n",
      "\n",
      "✅ add_product works: {'vendor_0': [<Market_Vendors_and_Customers.Market_AEC.Product object at 0x702ca5675c90>], 'vendor_1': [], 'vendor_2': []}\n",
      "✅ update_product_stock works: 15\n",
      "✅ set_product_price works: 8\n",
      "vendor_0 sold <Market_Vendors_and_Customers.Market_AEC.Product object at 0x702ca5675c90>\n",
      "✅ remove_product works: {'vendor_0': [], 'vendor_1': [], 'vendor_2': []}\n",
      "\n",
      "--- Testing Customer Functionalities ---\n",
      "\n",
      "customer_0 purchased <Market_Vendors_and_Customers.Market_AEC.Product object at 0x702ca5675c90> from vendor_0\n",
      "customer_0 walked away\n",
      "customer_0 observes market prices: [37 40 41]\n",
      "customer_0 is browsing products\n",
      "\n",
      "✅ analyze_market_trends works: 39.333333333333336\n",
      "Market Prices: [37 40 41]\n",
      "Vendors Products: {'vendor_0': [], 'vendor_1': [], 'vendor_2': []}\n",
      "Vendors Status: {'vendor_0': 'active', 'vendor_1': 'active', 'vendor_2': 'active'}\n"
     ]
    }
   ],
   "execution_count": 1
  },
  {
   "metadata": {
    "ExecuteTime": {
     "end_time": "2025-01-27T20:38:18.611573Z",
     "start_time": "2025-01-27T20:38:18.573155Z"
    }
   },
   "cell_type": "code",
   "source": [
    "from Market_Vendors_and_Customers.Market_AEC import Product, Market_AEC_Env\n",
    "# Initialize the environment\n",
    "env = Market_AEC_Env()\n",
    "env.reset()\n",
    "\n",
    "# Create products\n",
    "apple = Product(product_id=1, name=\"Apple\", category=\"Fruit\", price=5, stock=5)  # Low stock\n",
    "banana = Product(product_id=2, name=\"Banana\", category=\"Fruit\", price=3, stock=12)  # High stock\n",
    "\n",
    "# Add products to vendor\n",
    "env.add_product(\"vendor_0\", apple)\n",
    "env.add_product(\"vendor_0\", banana)\n",
    "\n",
    "# Check initial prices\n",
    "print(\"\\n--- Initial Prices ---\")\n",
    "env.render()\n",
    "\n",
    "# Simulate a customer purchase\n",
    "env.purchase(\"customer_0\", \"vendor_0\", apple)\n",
    "\n",
    "# Check updated prices\n",
    "print(\"\\n--- Prices After Purchase ---\")\n",
    "env.render()\n"
   ],
   "id": "bee7a797aff2c8b9",
   "outputs": [
    {
     "name": "stdout",
     "output_type": "stream",
     "text": [
      "\n",
      "--- Initial Prices ---\n",
      "Market Prices: [44 25 27]\n",
      "Vendors Products: {'vendor_0': [Apple (Fruit): $5, Stock: 5, Banana (Fruit): $3, Stock: 12], 'vendor_1': [], 'vendor_2': []}\n",
      "Vendors Status: {'vendor_0': 'active', 'vendor_1': 'active', 'vendor_2': 'active'}\n",
      "customer_0 purchased Apple (Fruit): $5, Stock: 4 from vendor_0\n",
      "vendor_0 increased Apple's price to 6.0\n",
      "\n",
      "--- Prices After Purchase ---\n",
      "Market Prices: [36.1, 25.0, 27.0]\n",
      "Vendors Products: {'vendor_0': [Apple (Fruit): $6.0, Stock: 4, Banana (Fruit): $3, Stock: 12], 'vendor_1': [], 'vendor_2': []}\n",
      "Vendors Status: {'vendor_0': 'active', 'vendor_1': 'active', 'vendor_2': 'active'}\n"
     ]
    }
   ],
   "execution_count": 3
  },
  {
   "metadata": {
    "ExecuteTime": {
     "end_time": "2025-01-27T20:38:15.936945Z",
     "start_time": "2025-01-27T20:38:15.516374Z"
    }
   },
   "cell_type": "code",
   "source": [
    "for i in range(self.vendors):\n",
    "    print(f\"vendor_{i}\")"
   ],
   "id": "113a946136650ba6",
   "outputs": [
    {
     "ename": "NameError",
     "evalue": "name 'self' is not defined",
     "output_type": "error",
     "traceback": [
      "\u001B[0;31m---------------------------------------------------------------------------\u001B[0m",
      "\u001B[0;31mNameError\u001B[0m                                 Traceback (most recent call last)",
      "Cell \u001B[0;32mIn[2], line 1\u001B[0m\n\u001B[0;32m----> 1\u001B[0m \u001B[38;5;28;01mfor\u001B[39;00m i \u001B[38;5;129;01min\u001B[39;00m \u001B[38;5;28mrange\u001B[39m(\u001B[38;5;28;43mself\u001B[39;49m\u001B[38;5;241m.\u001B[39mvendors):\n\u001B[1;32m      2\u001B[0m     \u001B[38;5;28mprint\u001B[39m(\u001B[38;5;124mf\u001B[39m\u001B[38;5;124m\"\u001B[39m\u001B[38;5;124mvendor_\u001B[39m\u001B[38;5;132;01m{\u001B[39;00mi\u001B[38;5;132;01m}\u001B[39;00m\u001B[38;5;124m\"\u001B[39m)\n",
      "\u001B[0;31mNameError\u001B[0m: name 'self' is not defined"
     ]
    }
   ],
   "execution_count": 2
  },
  {
   "metadata": {
    "ExecuteTime": {
     "end_time": "2025-01-27T22:15:32.782033Z",
     "start_time": "2025-01-27T22:15:32.616126Z"
    }
   },
   "cell_type": "code",
   "source": [
    "from Market_Vendors_and_Customers.Market_AEC import Product, Market_AEC_Env\n",
    "\n",
    "# Initialize Market Environment\n",
    "env = Market_AEC_Env(vendors=3, customers=2)\n",
    "\n",
    "# Add sample products to vendors\n",
    "apple = Product(product_id=1, name=\"Apple\", category=\"Fruit\", price=5, stock=5)\n",
    "banana = Product(product_id=2, name=\"Banana\", category=\"Fruit\", price=3, stock=12)\n",
    "\n",
    "env.add_product(\"vendor_0\", apple)\n",
    "env.add_product(\"vendor_0\", banana)\n",
    "\n",
    "env.add_product(\"vendor_1\", Product(product_id=3, name=\"Apple\", category=\"Fruit\", price=6, stock=8))\n",
    "env.add_product(\"vendor_2\", Product(product_id=4, name=\"Apple\", category=\"Fruit\", price=7, stock=2))\n",
    "\n",
    "# Display Initial State\n",
    "print(\"\\n--- Initial Market State ---\")\n",
    "env.render()\n",
    "\n",
    "# Simulate customer purchases\n",
    "print(\"\\n--- Customers Purchasing ---\")\n",
    "env.purchase(\"customer_0\", \"vendor_0\", apple)  # Buy one apple from vendor_0\n",
    "env.purchase(\"customer_1\", \"vendor_2\", apple)  # Buy from vendor_2 (low stock)\n",
    "\n",
    "# Check vendor status updates\n",
    "print(\"\\n--- Checking Vendor Status After Purchases ---\")\n",
    "env.update_status(\"vendor_0\")\n",
    "env.update_status(\"vendor_2\")\n",
    "\n",
    "# Adjust vendor prices based on market conditions\n",
    "print(\"\\n--- Adjusting Prices Based on Market Trends & Stock Levels ---\")\n",
    "env.adjust_prices(\"vendor_0\")\n",
    "env.adjust_prices(\"vendor_1\")\n",
    "env.adjust_prices(\"vendor_2\")\n",
    "\n",
    "# Display Market Prices & Vendor Status After Adjustments\n",
    "print(\"\\n--- Market State After Adjustments ---\")\n",
    "env.render()\n"
   ],
   "id": "75a935a2eabb704",
   "outputs": [
    {
     "name": "stdout",
     "output_type": "stream",
     "text": [
      "\n",
      "--- Initial Market State ---\n",
      "Market Prices: [25 45 24]\n",
      "Vendors Products: {'vendor_0': [Apple (Fruit): $5, Stock: 5, Banana (Fruit): $3, Stock: 12], 'vendor_1': [Apple (Fruit): $6, Stock: 8], 'vendor_2': [Apple (Fruit): $7, Stock: 2]}\n",
      "Vendors Status: {'vendor_0': 'active', 'vendor_1': 'active', 'vendor_2': 'active'}\n",
      "\n",
      "--- Customers Purchasing ---\n",
      "customer_0 purchased Apple (Fruit): $5, Stock: 4 from vendor_0\n",
      "vendor_0 increased Apple's price to 6.0\n",
      "vendor_0 adjusted Apple's price to 6.25\n",
      "vendor_0 adjusted Banana's price to 3\n",
      "\n",
      "--- Checking Vendor Status After Purchases ---\n",
      "\n",
      "--- Adjusting Prices Based on Market Trends & Stock Levels ---\n",
      "vendor_0 increased Apple's price to 7.5\n",
      "vendor_0 adjusted Apple's price to 7.0\n",
      "vendor_0 adjusted Banana's price to 3\n",
      "vendor_1 adjusted Apple's price to 6.5\n",
      "vendor_2 increased Apple's price to 8.4\n",
      "vendor_2 adjusted Apple's price to 7.575\n",
      "\n",
      "--- Market State After Adjustments ---\n",
      "Market Prices: [25 45 24]\n",
      "Vendors Products: {'vendor_0': [Apple (Fruit): $7.0, Stock: 4, Banana (Fruit): $3, Stock: 12], 'vendor_1': [Apple (Fruit): $6.5, Stock: 8], 'vendor_2': [Apple (Fruit): $7.575, Stock: 2]}\n",
      "Vendors Status: {'vendor_0': 'active', 'vendor_1': 'active', 'vendor_2': 'active'}\n"
     ]
    }
   ],
   "execution_count": 1
  },
  {
   "metadata": {
    "ExecuteTime": {
     "end_time": "2025-01-27T22:13:22.682302Z",
     "start_time": "2025-01-27T22:13:22.670529Z"
    }
   },
   "cell_type": "code",
   "source": "",
   "id": "81ab8bd2623df470",
   "outputs": [],
   "execution_count": null
  },
  {
   "metadata": {
    "ExecuteTime": {
     "end_time": "2025-01-28T20:53:06.825930Z",
     "start_time": "2025-01-28T20:53:06.674888Z"
    }
   },
   "cell_type": "code",
   "source": [
    "\n",
    "from Market_Vendors_and_Customers.Market_AEC import Product, Market_AEC_Env"
   ],
   "id": "b0dacc471a2e0bb1",
   "outputs": [],
   "execution_count": 1
  },
  {
   "metadata": {
    "ExecuteTime": {
     "end_time": "2025-01-28T20:53:08.124622Z",
     "start_time": "2025-01-28T20:53:08.113926Z"
    }
   },
   "cell_type": "code",
   "source": [
    "env = Market_AEC_Env()\n",
    "print(\"Environment initialized successfully!\")\n",
    "print(\"Agents:\", env.agents)\n",
    "print(\"Action Spaces:\", env.action_spaces)\n",
    "print(\"Observation Spaces:\", env.observe('customer_0'))\n"
   ],
   "id": "281469d9f4127150",
   "outputs": [
    {
     "name": "stdout",
     "output_type": "stream",
     "text": [
      "Environment initialized successfully!\n",
      "Agents: ['customer_0', 'customer_1', 'customer_2', 'vendor_0', 'vendor_1', 'vendor_2']\n",
      "Action Spaces: {'customer_0': Discrete(6), 'customer_1': Discrete(6), 'customer_2': Discrete(6)}\n",
      "Observation Spaces: {'vendors': [0, 1, 0], 'prices': [12.0, 18.0, 46.0], 'stock': [0, 0, 0], 'market_trend': 0, 'budget': 62.0}\n"
     ]
    }
   ],
   "execution_count": 2
  },
  {
   "metadata": {
    "ExecuteTime": {
     "end_time": "2025-01-28T20:20:24.629713Z",
     "start_time": "2025-01-28T20:20:24.621926Z"
    }
   },
   "cell_type": "code",
   "source": [
    "env.reset()\n",
    "print(\"Environment reset successfully!\")\n",
    "print(\"Market Prices:\", env.market_prices)\n",
    "print(\"Vendor Status:\", env.vendors_status)\n"
   ],
   "id": "152faed2e536ff9d",
   "outputs": [
    {
     "name": "stdout",
     "output_type": "stream",
     "text": [
      "Environment reset successfully!\n",
      "Market Prices: [15 42 43]\n",
      "Vendor Status: {'vendor_0': 'active', 'vendor_1': 'active', 'vendor_2': 'active'}\n"
     ]
    }
   ],
   "execution_count": 4
  },
  {
   "metadata": {
    "ExecuteTime": {
     "end_time": "2025-01-28T20:20:29.025694Z",
     "start_time": "2025-01-28T20:20:29.012745Z"
    }
   },
   "cell_type": "code",
   "source": [
    "obs = env.observe(\"customer_0\")\n",
    "print(\"Customer 0 Observation:\", obs)\n"
   ],
   "id": "23c3cd89fcb6ab7a",
   "outputs": [
    {
     "name": "stdout",
     "output_type": "stream",
     "text": [
      "Customer 0 Observation: {'vendors': array([1, 1, 0]), 'prices': array([15., 42., 43.], dtype=float32), 'stock': array([0, 0, 0], dtype=int32), 'market_trend': 0, 'budget': 82.0}\n"
     ]
    }
   ],
   "execution_count": 5
  },
  {
   "metadata": {
    "ExecuteTime": {
     "end_time": "2025-01-28T19:47:01.275579Z",
     "start_time": "2025-01-28T19:47:01.270461Z"
    }
   },
   "cell_type": "code",
   "source": [
    "env.step(2)  # Taking a random action\n",
    "print(\"Step executed successfully!\")\n",
    "print(\"Current Agent Selection:\", env.agent_selection)\n"
   ],
   "id": "1f321aaf6db11bf3",
   "outputs": [
    {
     "name": "stdout",
     "output_type": "stream",
     "text": [
      "customer_0 takes actiion 2\n",
      "Step executed successfully!\n",
      "Current Agent Selection: customer_1\n"
     ]
    }
   ],
   "execution_count": 6
  },
  {
   "metadata": {
    "ExecuteTime": {
     "end_time": "2025-01-28T19:47:19.002079Z",
     "start_time": "2025-01-28T19:47:18.995926Z"
    }
   },
   "cell_type": "code",
   "source": [
    "apple = Product(product_id=1, price=5, name=\"Apple\", category=\"Fruit\", stock=10)\n",
    "env.add_product(\"vendor_0\", apple)  # Adding a product to vendor_0\n",
    "env.purchase(\"customer_0\", \"vendor_0\", apple)\n",
    "print(\"Purchase function executed successfully!\")\n",
    "print(\"Updated Vendor Products:\", env.vendors_products)\n"
   ],
   "id": "7d540522e6a6c897",
   "outputs": [
    {
     "name": "stdout",
     "output_type": "stream",
     "text": [
      "customer_0 purchased Apple (Fruit): $5, Stock: 9 from vendor_0\n",
      "vendor_0 adjusted Apple's price to 5\n",
      "Purchase function executed successfully!\n",
      "Updated Vendor Products: {'vendor_0': [Apple (Fruit): $5, Stock: 9], 'vendor_1': [], 'vendor_2': []}\n"
     ]
    }
   ],
   "execution_count": 7
  },
  {
   "metadata": {
    "ExecuteTime": {
     "end_time": "2025-01-28T19:47:29.304845Z",
     "start_time": "2025-01-28T19:47:29.298550Z"
    }
   },
   "cell_type": "code",
   "source": "env.browse_products(\"customer_0\")\n",
   "id": "e5215ab235eb9f83",
   "outputs": [
    {
     "name": "stdout",
     "output_type": "stream",
     "text": [
      "customer_0 is browsing products: [0 1 1]\n"
     ]
    }
   ],
   "execution_count": 8
  },
  {
   "metadata": {
    "ExecuteTime": {
     "end_time": "2025-01-28T19:50:02.913193Z",
     "start_time": "2025-01-28T19:50:02.904572Z"
    }
   },
   "cell_type": "code",
   "source": [
    "trend = env.analyze_market_trends(\"vendor_1\")\n",
    "print(\"Market Trend Analysis for Vendor 1:\", trend)\n"
   ],
   "id": "4355eca9daf6845d",
   "outputs": [
    {
     "name": "stdout",
     "output_type": "stream",
     "text": [
      "Market Trend Analysis for Vendor 1: Insufficient Data\n"
     ]
    }
   ],
   "execution_count": 12
  },
  {
   "metadata": {
    "ExecuteTime": {
     "end_time": "2025-01-28T19:50:14.213488Z",
     "start_time": "2025-01-28T19:50:14.195754Z"
    }
   },
   "cell_type": "code",
   "source": [
    "env.adjust_prices(\"vendor_0\")\n",
    "print(\"Updated Prices After Adjustment:\", env.market_prices)\n"
   ],
   "id": "246fdc679fda775",
   "outputs": [
    {
     "name": "stdout",
     "output_type": "stream",
     "text": [
      "vendor_0 adjusted Apple's price to 5\n",
      "Updated Prices After Adjustment: [22 46 23]\n"
     ]
    }
   ],
   "execution_count": 13
  },
  {
   "metadata": {
    "ExecuteTime": {
     "end_time": "2025-01-28T20:54:25.736800Z",
     "start_time": "2025-01-28T20:54:24.530525Z"
    }
   },
   "cell_type": "code",
   "source": "env.observe_all()",
   "id": "ba50aef62840dfbd",
   "outputs": [
    {
     "ename": "AttributeError",
     "evalue": "'Market_AEC_Env' object has no attribute 'observe_all'",
     "output_type": "error",
     "traceback": [
      "\u001B[0;31m---------------------------------------------------------------------------\u001B[0m",
      "\u001B[0;31mAttributeError\u001B[0m                            Traceback (most recent call last)",
      "Cell \u001B[0;32mIn[3], line 1\u001B[0m\n\u001B[0;32m----> 1\u001B[0m \u001B[43menv\u001B[49m\u001B[38;5;241;43m.\u001B[39;49m\u001B[43mobserve_all\u001B[49m()\n",
      "\u001B[0;31mAttributeError\u001B[0m: 'Market_AEC_Env' object has no attribute 'observe_all'"
     ]
    }
   ],
   "execution_count": 3
  },
  {
   "metadata": {},
   "cell_type": "code",
   "outputs": [],
   "execution_count": null,
   "source": "",
   "id": "48a60e7bf689776d"
  }
 ],
 "metadata": {
  "kernelspec": {
   "display_name": "Python 3",
   "language": "python",
   "name": "python3"
  },
  "language_info": {
   "codemirror_mode": {
    "name": "ipython",
    "version": 2
   },
   "file_extension": ".py",
   "mimetype": "text/x-python",
   "name": "python",
   "nbconvert_exporter": "python",
   "pygments_lexer": "ipython2",
   "version": "2.7.6"
  }
 },
 "nbformat": 4,
 "nbformat_minor": 5
}
