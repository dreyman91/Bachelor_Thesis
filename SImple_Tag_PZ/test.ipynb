{
 "cells": [
  {
   "cell_type": "code",
   "id": "initial_id",
   "metadata": {
    "collapsed": true,
    "ExecuteTime": {
     "end_time": "2025-01-25T21:30:08.101147Z",
     "start_time": "2025-01-25T21:30:07.982773Z"
    }
   },
   "source": [
    "import pettingzoo.mpe as mpe\n",
    "\n",
    "import numpy as np\n",
    "import pandas as pd\n",
    "\n",
    "from Market_Vendors_and_Customers.market_aec import MarketEnv\n",
    "\n",
    "env = mpe.simple_tag_v3.env(render_mode=None)\n",
    "env.reset()\n",
    "\n",
    "agent = env.agent_selection\n",
    "\n",
    "initial_observation = env.observe(agent)\n",
    "\n",
    "action = env.action_space(agent).sample()\n",
    "env.step(action)\n",
    "\n",
    "new_observation = env.observe(agent)\n",
    "\n",
    "def format_observation(observation):\n",
    "    \"\"\"Converts observation to an array of structured form\"\"\"\n",
    "    return pd.DataFrame(observation.reshape(1, -1), columns=[f\"Feature_{i}\" for i in range(len(observation))])\n",
    "\n",
    "print(\"Observation Analysis**\")\n",
    "print(f\"Agent: {agent}\\n\")\n",
    "print(\"Initial Observation\")\n",
    "print(format_observation(initial_observation))\n",
    "print(\"New Observation (After action)\")\n",
    "print(format_observation(new_observation))\n",
    "\n"
   ],
   "outputs": [
    {
     "name": "stdout",
     "output_type": "stream",
     "text": [
      "Observation Analysis**\n",
      "Agent: adversary_0\n",
      "\n",
      "Initial Observation\n",
      "   Feature_0  Feature_1  Feature_2  Feature_3  Feature_4  Feature_5  \\\n",
      "0        0.0        0.0   0.343572  -0.850956   0.153152   0.496528   \n",
      "\n",
      "   Feature_6  Feature_7  Feature_8  Feature_9  Feature_10  Feature_11  \\\n",
      "0  -0.842495   0.455492  -0.308144   0.590372   -1.018984    1.561675   \n",
      "\n",
      "   Feature_12  Feature_13  Feature_14  Feature_15  \n",
      "0    0.050491    0.237218         0.0         0.0  \n",
      "New Observation (After action)\n",
      "   Feature_0  Feature_1  Feature_2  Feature_3  Feature_4  Feature_5  \\\n",
      "0        0.0        0.0   0.343572  -0.850956   0.153152   0.496528   \n",
      "\n",
      "   Feature_6  Feature_7  Feature_8  Feature_9  Feature_10  Feature_11  \\\n",
      "0  -0.842495   0.455492  -0.308144   0.590372   -1.018984    1.561675   \n",
      "\n",
      "   Feature_12  Feature_13  Feature_14  Feature_15  \n",
      "0    0.050491    0.237218         0.0         0.0  \n"
     ]
    }
   ],
   "execution_count": 2
  },
  {
   "metadata": {
    "ExecuteTime": {
     "end_time": "2025-01-25T21:30:08.187684Z",
     "start_time": "2025-01-25T21:30:08.132021Z"
    }
   },
   "cell_type": "code",
   "source": [
    "import pettingzoo.mpe as mpe\n",
    "import numpy as np\n",
    "import pandas as pd\n",
    "\n",
    "env = mpe.simple_world_comm_v3.env(render_mode=None)\n",
    "env.reset()\n",
    "\n",
    "agents = env.agents\n",
    "print(f\"Total Agents: {len(agents)}\")\n",
    "print(f\"Agent List: {agents}\\n\")\n",
    "\n",
    "agent = agents[0]\n",
    "\n",
    "initial_observation = env.observe(agent)\n",
    "\n",
    "action = env.action_space(agent).sample()\n",
    "env.step(action)\n",
    "\n",
    "new_observation = env.observe(agent)\n",
    "\n",
    "def format_observtaion(observation):\n",
    "    return pd.DataFrame(obsrvation.reshape(1,-1), columns=[f\"Feature_{i}\" for i in range(len(observation))])\n",
    "\n",
    "print(\"Observation Analysis**\")\n",
    "print(f\"Agent: {agent}\\n\")\n",
    "print(\"Initial Observation\")\n",
    "print(format_observation(initial_observation), \"\\n\")\n",
    "print(\"New Observation (After action)\")\n",
    "print(format_observation(new_observation), \"\\n\")"
   ],
   "id": "a2245e6f0f43e962",
   "outputs": [
    {
     "name": "stdout",
     "output_type": "stream",
     "text": [
      "Total Agents: 6\n",
      "Agent List: ['leadadversary_0', 'adversary_0', 'adversary_1', 'adversary_2', 'agent_0', 'agent_1']\n",
      "\n",
      "Observation Analysis**\n",
      "Agent: leadadversary_0\n",
      "\n",
      "Initial Observation\n",
      "   Feature_0  Feature_1  Feature_2  Feature_3  Feature_4  Feature_5  \\\n",
      "0        0.0        0.0   -0.80843    0.03258   1.659845  -0.303884   \n",
      "\n",
      "   Feature_6  Feature_7  Feature_8  Feature_9  ...  Feature_24  Feature_25  \\\n",
      "0   1.036257   0.811357  -0.079386   0.510121  ...         0.0         0.0   \n",
      "\n",
      "   Feature_26  Feature_27  Feature_28  Feature_29  Feature_30  Feature_31  \\\n",
      "0         0.0         0.0        -1.0        -1.0         0.0         0.0   \n",
      "\n",
      "   Feature_32  Feature_33  \n",
      "0         0.0         0.0  \n",
      "\n",
      "[1 rows x 34 columns] \n",
      "\n",
      "New Observation (After action)\n",
      "   Feature_0  Feature_1  Feature_2  Feature_3  Feature_4  Feature_5  \\\n",
      "0        0.0        0.0   -0.80843    0.03258   1.659845  -0.303884   \n",
      "\n",
      "   Feature_6  Feature_7  Feature_8  Feature_9  ...  Feature_24  Feature_25  \\\n",
      "0   1.036257   0.811357  -0.079386   0.510121  ...         0.0         0.0   \n",
      "\n",
      "   Feature_26  Feature_27  Feature_28  Feature_29  Feature_30  Feature_31  \\\n",
      "0         0.0         0.0        -1.0        -1.0         0.0         0.0   \n",
      "\n",
      "   Feature_32  Feature_33  \n",
      "0         0.0         0.0  \n",
      "\n",
      "[1 rows x 34 columns] \n",
      "\n"
     ]
    }
   ],
   "execution_count": 3
  },
  {
   "metadata": {
    "ExecuteTime": {
     "end_time": "2025-01-25T21:30:32.911347Z",
     "start_time": "2025-01-25T21:30:31.803505Z"
    }
   },
   "cell_type": "code",
   "source": [
    "from Market_Vendors_and_Customers.market_aec import MarketEnv\n",
    "\n",
    "env = MarketEnv()\n",
    "env.reset()\n",
    "\n",
    "for agent in env.agents:\n",
    "    print(f\"Current Agent: {agent}\\n\")\n",
    "    obs = env.observe(agent)\n",
    "    print(f\"Current Observation: {obs}\\n\")\n",
    "    try:\n",
    "        if \"vendor\" in agent:\n",
    "            print(\"Enter action: (0) Set Price, (1) Offer Discount, (2) Restock Items, (3) Skip\")\n",
    "            action_num = int(input(\"Select an action (0-3): \"))\n",
    "\n",
    "        elif \"customer\" in agent:\n",
    "            print(\"Enter action: (0) Buy Item, (1) Negotiate, (2) Walk Away, (3) Browse\")\n",
    "            action_num = int(input(\"Select an action (0-3): \"))\n",
    "\n",
    "        env.step(action_num)\n",
    "        env.render()\n",
    "    except ValueError:\n",
    "        print(\"Invalid input! Please enter a number between 0 and 7.\")\n"
   ],
   "id": "3b51894286555417",
   "outputs": [
    {
     "ename": "NameError",
     "evalue": "name 'agent' is not defined",
     "output_type": "error",
     "traceback": [
      "\u001B[0;31m---------------------------------------------------------------------------\u001B[0m",
      "\u001B[0;31mNameError\u001B[0m                                 Traceback (most recent call last)",
      "Cell \u001B[0;32mIn[1], line 3\u001B[0m\n\u001B[1;32m      1\u001B[0m \u001B[38;5;28;01mfrom\u001B[39;00m\u001B[38;5;250m \u001B[39m\u001B[38;5;21;01mMarket_Vendors_and_Customers\u001B[39;00m\u001B[38;5;21;01m.\u001B[39;00m\u001B[38;5;21;01mMarket\u001B[39;00m\u001B[38;5;250m \u001B[39m\u001B[38;5;28;01mimport\u001B[39;00m MarketEnv\n\u001B[0;32m----> 3\u001B[0m env \u001B[38;5;241m=\u001B[39m \u001B[43mMarketEnv\u001B[49m\u001B[43m(\u001B[49m\u001B[43m)\u001B[49m\n\u001B[1;32m      4\u001B[0m env\u001B[38;5;241m.\u001B[39mreset()\n\u001B[1;32m      6\u001B[0m \u001B[38;5;28;01mfor\u001B[39;00m agent \u001B[38;5;129;01min\u001B[39;00m env\u001B[38;5;241m.\u001B[39magents:\n",
      "File \u001B[0;32m~/PycharmProjects/Bachelor_Thesis/Market_Vendors_and_Customers/Market.py:24\u001B[0m, in \u001B[0;36mMarketEnv.__init__\u001B[0;34m(self)\u001B[0m\n\u001B[1;32m     21\u001B[0m \u001B[38;5;28mself\u001B[39m\u001B[38;5;241m.\u001B[39mbudget \u001B[38;5;241m=\u001B[39m {agent: random\u001B[38;5;241m.\u001B[39mrandint(\u001B[38;5;241m20\u001B[39m,\u001B[38;5;241m50\u001B[39m) \u001B[38;5;28;01mfor\u001B[39;00m agent \u001B[38;5;129;01min\u001B[39;00m \u001B[38;5;28mself\u001B[39m\u001B[38;5;241m.\u001B[39magents \u001B[38;5;28;01mif\u001B[39;00m \u001B[38;5;124m\"\u001B[39m\u001B[38;5;124mcustomer\u001B[39m\u001B[38;5;124m\"\u001B[39m \u001B[38;5;129;01min\u001B[39;00m agent}\n\u001B[1;32m     23\u001B[0m \u001B[38;5;66;03m# Define action and observation spaces\u001B[39;00m\n\u001B[0;32m---> 24\u001B[0m \u001B[38;5;28mself\u001B[39m\u001B[38;5;241m.\u001B[39maction_space \u001B[38;5;241m=\u001B[39m {\u001B[43magent\u001B[49m: spaces\u001B[38;5;241m.\u001B[39mDiscrete(\u001B[38;5;241m4\u001B[39m) \u001B[38;5;28;01mif\u001B[39;00m \u001B[38;5;124m\"\u001B[39m\u001B[38;5;124mvendor\u001B[39m\u001B[38;5;124m\"\u001B[39m \u001B[38;5;129;01min\u001B[39;00m agent \u001B[38;5;28;01melse\u001B[39;00m spaces\u001B[38;5;241m.\u001B[39mDiscrete(\u001B[38;5;241m4\u001B[39m)}\n\u001B[1;32m     25\u001B[0m \u001B[38;5;28mself\u001B[39m\u001B[38;5;241m.\u001B[39mobservation_spaces \u001B[38;5;241m=\u001B[39m {\n\u001B[1;32m     26\u001B[0m     agent: spaces\u001B[38;5;241m.\u001B[39mDict({\n\u001B[1;32m     27\u001B[0m         \u001B[38;5;124m\"\u001B[39m\u001B[38;5;124mInventory\u001B[39m\u001B[38;5;124m\"\u001B[39m: spaces\u001B[38;5;241m.\u001B[39mDiscrete(\u001B[38;5;241m20\u001B[39m) \u001B[38;5;28;01mif\u001B[39;00m \u001B[38;5;124m\"\u001B[39m\u001B[38;5;124mvendor\u001B[39m\u001B[38;5;124m\"\u001B[39m \u001B[38;5;129;01min\u001B[39;00m agent \u001B[38;5;28;01melse\u001B[39;00m spaces\u001B[38;5;241m.\u001B[39mDiscrete(\u001B[38;5;241m1\u001B[39m),\n\u001B[0;32m   (...)\u001B[0m\n\u001B[1;32m     30\u001B[0m     }) \u001B[38;5;28;01mfor\u001B[39;00m agent \u001B[38;5;129;01min\u001B[39;00m \u001B[38;5;28mself\u001B[39m\u001B[38;5;241m.\u001B[39magents\n\u001B[1;32m     31\u001B[0m }\n",
      "\u001B[0;31mNameError\u001B[0m: name 'agent' is not defined"
     ]
    }
   ],
   "execution_count": 1
  },
  {
   "metadata": {},
   "cell_type": "code",
   "outputs": [],
   "execution_count": null,
   "source": "",
   "id": "9c1291a2c3685671"
  }
 ],
 "metadata": {
  "kernelspec": {
   "display_name": "Python 3",
   "language": "python",
   "name": "python3"
  },
  "language_info": {
   "codemirror_mode": {
    "name": "ipython",
    "version": 2
   },
   "file_extension": ".py",
   "mimetype": "text/x-python",
   "name": "python",
   "nbconvert_exporter": "python",
   "pygments_lexer": "ipython2",
   "version": "2.7.6"
  }
 },
 "nbformat": 4,
 "nbformat_minor": 5
}
