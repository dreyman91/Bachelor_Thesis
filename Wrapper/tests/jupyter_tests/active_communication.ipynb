{
 "cells": [
  {
   "cell_type": "code",
   "id": "initial_id",
   "metadata": {
    "collapsed": true,
    "ExecuteTime": {
     "end_time": "2025-04-04T18:38:56.246072Z",
     "start_time": "2025-04-04T18:38:56.057244Z"
    }
   },
   "source": [
    "import importlib\n",
    "import Wrapper.src.wrapper_api.models.active_communication as ac\n",
    "importlib.reload(ac)\n",
    "from Wrapper.src.wrapper_api.models.active_communication import ActiveCommunication"
   ],
   "outputs": [
    {
     "ename": "ModuleNotFoundError",
     "evalue": "No module named 'Wrapper'",
     "output_type": "error",
     "traceback": [
      "\u001B[0;31m---------------------------------------------------------------------------\u001B[0m",
      "\u001B[0;31mModuleNotFoundError\u001B[0m                       Traceback (most recent call last)",
      "Cell \u001B[0;32mIn[1], line 2\u001B[0m\n\u001B[1;32m      1\u001B[0m \u001B[38;5;28;01mimport\u001B[39;00m\u001B[38;5;250m \u001B[39m\u001B[38;5;21;01mimportlib\u001B[39;00m\n\u001B[0;32m----> 2\u001B[0m \u001B[38;5;28;01mimport\u001B[39;00m\u001B[38;5;250m \u001B[39m\u001B[38;5;21;01mWrapper\u001B[39;00m\u001B[38;5;21;01m.\u001B[39;00m\u001B[38;5;21;01msrc\u001B[39;00m\u001B[38;5;21;01m.\u001B[39;00m\u001B[38;5;21;01mwrapper_api\u001B[39;00m\u001B[38;5;21;01m.\u001B[39;00m\u001B[38;5;21;01mmodels\u001B[39;00m\u001B[38;5;21;01m.\u001B[39;00m\u001B[38;5;21;01mactive_communication\u001B[39;00m\u001B[38;5;250m \u001B[39m\u001B[38;5;28;01mas\u001B[39;00m\u001B[38;5;250m \u001B[39m\u001B[38;5;21;01mac\u001B[39;00m\n\u001B[1;32m      3\u001B[0m importlib\u001B[38;5;241m.\u001B[39mreload(ac)\n\u001B[1;32m      4\u001B[0m \u001B[38;5;28;01mfrom\u001B[39;00m\u001B[38;5;250m \u001B[39m\u001B[38;5;21;01mWrapper\u001B[39;00m\u001B[38;5;21;01m.\u001B[39;00m\u001B[38;5;21;01msrc\u001B[39;00m\u001B[38;5;21;01m.\u001B[39;00m\u001B[38;5;21;01mwrapper_api\u001B[39;00m\u001B[38;5;21;01m.\u001B[39;00m\u001B[38;5;21;01mmodels\u001B[39;00m\u001B[38;5;21;01m.\u001B[39;00m\u001B[38;5;21;01mactive_communication\u001B[39;00m\u001B[38;5;250m \u001B[39m\u001B[38;5;28;01mimport\u001B[39;00m ActiveCommunication\n",
      "\u001B[0;31mModuleNotFoundError\u001B[0m: No module named 'Wrapper'"
     ]
    }
   ],
   "execution_count": 1
  },
  {
   "metadata": {},
   "cell_type": "markdown",
   "source": "",
   "id": "a3d2de54cc469e1a"
  },
  {
   "metadata": {
    "ExecuteTime": {
     "end_time": "2025-04-04T17:43:55.798056Z",
     "start_time": "2025-04-04T17:43:55.793129Z"
    }
   },
   "cell_type": "code",
   "source": [
    "agent_ids = [\"agent_0\", \"agent_1\", \"agent_2\"]\n",
    "comm = ActiveCommunication(agent_ids=agent_ids)\n",
    "\n",
    "print(\"Initial matrix:\")\n",
    "print(comm.get_state())"
   ],
   "id": "8c5768d80f0e9722",
   "outputs": [
    {
     "name": "stdout",
     "output_type": "stream",
     "text": [
      "Initial matrix:\n",
      "[[ True  True  True]\n",
      " [ True  True  True]\n",
      " [ True  True  True]]\n"
     ]
    }
   ],
   "execution_count": 2
  },
  {
   "metadata": {
    "ExecuteTime": {
     "end_time": "2025-04-04T17:49:32.467876Z",
     "start_time": "2025-04-04T17:49:32.457023Z"
    }
   },
   "cell_type": "code",
   "source": [
    "print(\"\\n Test can_communicate\")\n",
    "print(\"agent_0 -> agent_1:\", comm.can_communicate(\"agent_0\", \"agent_1\"))\n",
    "print(\"agent_2 -> agent_0:\", comm.can_communicate(\"agent_2\", \"agent_0\"))"
   ],
   "id": "719499e989993e62",
   "outputs": [
    {
     "name": "stdout",
     "output_type": "stream",
     "text": [
      "\n",
      " Test can_communicate\n",
      "agent_0 -> agent_1: True\n",
      "agent_2 -> agent_0: True\n"
     ]
    }
   ],
   "execution_count": 3
  },
  {
   "metadata": {
    "ExecuteTime": {
     "end_time": "2025-04-04T17:52:15.192525Z",
     "start_time": "2025-04-04T17:52:15.185348Z"
    }
   },
   "cell_type": "code",
   "source": [
    "comm.update(\"agent_0\", \"agent_1\", False)\n",
    "print(\"\\nUpdated matrix (agent_0 can't communicate with agent_1):\")\n",
    "print(comm.get_state())\n",
    "\n",
    "print(\"\\nBlocked agents for agent_1:\")\n",
    "print(comm.get_blocked_agents(\"agent_1\"))"
   ],
   "id": "2e39ff9d4eddd682",
   "outputs": [
    {
     "name": "stdout",
     "output_type": "stream",
     "text": [
      "\n",
      "Updated matrix (agent_0 can't communicate with agent_1):\n",
      "[[ True False  True]\n",
      " [ True  True  True]\n",
      " [ True  True  True]]\n",
      "\n",
      "Blocked agents for agent_1:\n",
      "[]\n"
     ]
    }
   ],
   "execution_count": 6
  },
  {
   "metadata": {
    "ExecuteTime": {
     "end_time": "2025-04-04T17:53:25.957282Z",
     "start_time": "2025-04-04T17:53:25.949127Z"
    }
   },
   "cell_type": "code",
   "source": [
    "comm.reset()\n",
    "print(\"\\nMatrix after reset:\")\n",
    "print(comm.get_state())"
   ],
   "id": "e5be8108a31492f5",
   "outputs": [
    {
     "name": "stdout",
     "output_type": "stream",
     "text": [
      "\n",
      "Matrix after reset:\n",
      "[[ True  True  True]\n",
      " [ True  True  True]\n",
      " [ True  True  True]]\n"
     ]
    }
   ],
   "execution_count": 7
  },
  {
   "metadata": {},
   "cell_type": "code",
   "outputs": [],
   "execution_count": null,
   "source": "",
   "id": "c716d461b60467aa"
  }
 ],
 "metadata": {
  "kernelspec": {
   "display_name": "Python 3",
   "language": "python",
   "name": "python3"
  },
  "language_info": {
   "codemirror_mode": {
    "name": "ipython",
    "version": 2
   },
   "file_extension": ".py",
   "mimetype": "text/x-python",
   "name": "python",
   "nbconvert_exporter": "python",
   "pygments_lexer": "ipython2",
   "version": "2.7.6"
  }
 },
 "nbformat": 4,
 "nbformat_minor": 5
}
