{
 "cells": [
  {
   "cell_type": "code",
   "id": "initial_id",
   "metadata": {
    "collapsed": true,
    "ExecuteTime": {
     "end_time": "2025-04-05T11:48:17.524936Z",
     "start_time": "2025-04-05T11:48:17.515963Z"
    }
   },
   "source": [
    "import importlib\n",
    "\n",
    "import Wrapper.src.wrapper_api.wrappers.communication_wrapper as cw\n",
    "import Wrapper.src.wrapper_api.models.active_communication as ac\n",
    "import Wrapper.src.wrapper_api.models.communication_model as cm\n",
    "\n",
    "importlib.reload(ac)\n",
    "importlib.reload(cw)\n",
    "importlib.reload(cm)\n",
    "from Wrapper.src.wrapper_api.models.communication_model import ProbabilisticModel, DistanceModel, MatrixModel\n",
    "from Wrapper.src.wrapper_api.models.active_communication import ActiveCommunication\n",
    "from Wrapper.src.wrapper_api.wrappers.communication_wrapper import CommunicationWrapper"
   ],
   "outputs": [],
   "execution_count": 86
  },
  {
   "metadata": {},
   "cell_type": "markdown",
   "source": "## Dummy Env",
   "id": "4e7fb8d477aa2405"
  },
  {
   "metadata": {
    "ExecuteTime": {
     "end_time": "2025-04-05T11:48:17.551151Z",
     "start_time": "2025-04-05T11:48:17.540738Z"
    }
   },
   "cell_type": "code",
   "source": [
    "from pettingzoo.utils import AECEnv\n",
    "from gymnasium import spaces\n",
    "import numpy as np\n",
    "\n",
    "class DummyEnv(AECEnv):\n",
    "    def __init__(self):\n",
    "        super().__init__()\n",
    "        self.possible_agents = [\"agent_0\", \"agent_1\", \"agent_2\"]\n",
    "        self.agent_selection = \"agent_2\"\n",
    "\n",
    "        self.terminations = {agent: False for agent in self.possible_agents}\n",
    "        self.truncations = {agent: False for agent in self.possible_agents}\n",
    "\n",
    "    def observe(self, agent):\n",
    "        return {\n",
    "            \"self\": np.array([1.0, 1.0]),\n",
    "            \"agent_0\": np.array([0.5, 0.5]),\n",
    "            \"agent_1\": np.array([0.8, 0.3]),\n",
    "        }\n",
    "\n",
    "    def last(self, observe= True):\n",
    "        return self.observe(self.agent_selection), 0.0, False, False, {}\n",
    "\n",
    "    def observation_space(self, agent):\n",
    "        return spaces.Dict({\n",
    "            \"self\": spaces.Box(low=0, high=1.0, shape=(2,), dtype=np.float32),\n",
    "            \"agent_0\": spaces.Box(low=0, high=1.0, shape=(2,), dtype=np.float32),\n",
    "            \"agent_1\": spaces.Box(low=0, high=1.0, shape=(2,), dtype=np.float32),\n",
    "        })\n",
    "\n",
    "    def action_space(self, agent):\n",
    "        return spaces.Discrete(3)\n",
    "\n",
    "    def reset(self, seed=None, options=None): pass\n",
    "    def step(self, action): pass"
   ],
   "id": "ab32abd307dd4a0c",
   "outputs": [],
   "execution_count": 87
  },
  {
   "metadata": {},
   "cell_type": "markdown",
   "source": "#### Probabilistic Model",
   "id": "e1ddd1ec78e69ed3"
  },
  {
   "metadata": {
    "ExecuteTime": {
     "end_time": "2025-04-05T11:48:17.600825Z",
     "start_time": "2025-04-05T11:48:17.595794Z"
    }
   },
   "cell_type": "code",
   "source": [
    "env = DummyEnv()\n",
    "\n",
    "model = ProbabilisticModel(\n",
    "    agent_ids=env.possible_agents,\n",
    "    failure_prob=0.6,\n",
    "    seed=42\n",
    ")\n",
    "wrapper = CommunicationWrapper(env, failure_models=[model])"
   ],
   "id": "a9ebed68961e4c48",
   "outputs": [],
   "execution_count": 88
  },
  {
   "metadata": {
    "ExecuteTime": {
     "end_time": "2025-04-05T11:48:17.656942Z",
     "start_time": "2025-04-05T11:48:17.648881Z"
    }
   },
   "cell_type": "code",
   "source": [
    "print(\"Initial Communication:\")\n",
    "print(wrapper.get_communication_state())\n",
    "\n",
    "wrapper.env.agent_selection = \"agent_0\"\n",
    "wrapper.step(action=2)\n",
    "\n",
    "print(\"\\nUpdated Communication Matrix:\")\n",
    "print(wrapper.get_communication_state())\n",
    "\n",
    "wrapper.env.agent_selection = \"agent_2\"\n",
    "obs = wrapper.observe(\"agent_2\")\n",
    "print(\"\\nObservation for agent 2 after masking:\")\n",
    "print(obs)"
   ],
   "id": "9c09f238a740a92a",
   "outputs": [
    {
     "name": "stdout",
     "output_type": "stream",
     "text": [
      "Initial Communication:\n",
      "[[ True  True  True]\n",
      " [ True  True  True]\n",
      " [ True  True  True]]\n",
      "\n",
      "Updated Communication Matrix:\n",
      "[[ True False False]\n",
      " [ True  True  True]\n",
      " [ True False  True]]\n",
      "\n",
      "Observation for agent 2 after masking:\n",
      "{'self': array([1., 1.]), 'agent_0': array([0., 0.]), 'agent_1': array([0.8, 0.3])}\n"
     ]
    }
   ],
   "execution_count": 89
  },
  {
   "metadata": {},
   "cell_type": "markdown",
   "source": "### Distance Based Model",
   "id": "53874a8034d43145"
  },
  {
   "metadata": {
    "ExecuteTime": {
     "end_time": "2025-04-05T11:48:17.707882Z",
     "start_time": "2025-04-05T11:48:17.703227Z"
    }
   },
   "cell_type": "code",
   "source": [
    "def pos_fn():\n",
    "    return {\n",
    "        \"agent_0\": np.array([0.0, 0.0]),\n",
    "        \"agent_1\": np.array([2.0, 0.0]),\n",
    "        \"agent_2\": np.array([4.0, 1.0]),\n",
    "    }"
   ],
   "id": "fff49bd02aec16be",
   "outputs": [],
   "execution_count": 90
  },
  {
   "metadata": {
    "ExecuteTime": {
     "end_time": "2025-04-05T11:48:17.757520Z",
     "start_time": "2025-04-05T11:48:17.752655Z"
    }
   },
   "cell_type": "code",
   "source": [
    "env = DummyEnv()\n",
    "model = DistanceModel(agent_ids=env.possible_agents,\n",
    "                      distance_threshold=3.0,\n",
    "                      pos_fn=pos_fn,\n",
    "                      failure_prob=0.0,\n",
    "                      seed=42\n",
    "                      )\n",
    "wrapped_dist = CommunicationWrapper(env, failure_models=[model])\n"
   ],
   "id": "c7421505c4de1be",
   "outputs": [],
   "execution_count": 91
  },
  {
   "metadata": {
    "ExecuteTime": {
     "end_time": "2025-04-05T11:48:17.812597Z",
     "start_time": "2025-04-05T11:48:17.804883Z"
    }
   },
   "cell_type": "code",
   "source": [
    "print(\"Initial Communication Matrix:\")\n",
    "print(wrapped_dist.get_communication_state())\n",
    "\n",
    "wrapped_dist.env.agent_selection = \"agent_0\"\n",
    "wrapped_dist.step(action=2)\n",
    "print(\"\\nUpdated Communication Matrix:\")\n",
    "print(wrapped_dist.get_communication_state())\n",
    "\n",
    "obs_dist = wrapped_dist.observe(\"agent_2\")\n",
    "print(\"\\nObservation for agent 2 after masking:\")\n",
    "for k, v in obs_dist.items():\n",
    "    print(f\"{k}: {v}\")"
   ],
   "id": "5c1a1e49bce39166",
   "outputs": [
    {
     "name": "stdout",
     "output_type": "stream",
     "text": [
      "Initial Communication Matrix:\n",
      "[[ True  True  True]\n",
      " [ True  True  True]\n",
      " [ True  True  True]]\n",
      "\n",
      "Updated Communication Matrix:\n",
      "[[ True  True False]\n",
      " [ True  True  True]\n",
      " [False  True  True]]\n",
      "\n",
      "Observation for agent 2 after masking:\n",
      "self: [1. 1.]\n",
      "agent_0: [0. 0.]\n",
      "agent_1: [0.8 0.3]\n"
     ]
    }
   ],
   "execution_count": 92
  },
  {
   "metadata": {},
   "cell_type": "markdown",
   "source": "### Matrix Model",
   "id": "a6366550cb8ad667"
  },
  {
   "metadata": {
    "ExecuteTime": {
     "end_time": "2025-04-05T11:49:31.142701Z",
     "start_time": "2025-04-05T11:49:31.138772Z"
    }
   },
   "cell_type": "code",
   "source": [
    "man_matrix = np.array([\n",
    "    [1,0,0],\n",
    "    [0,1,1],\n",
    "    [0,0,1],\n",
    "], dtype=bool)"
   ],
   "id": "8955352cc674e91f",
   "outputs": [],
   "execution_count": 95
  },
  {
   "metadata": {
    "ExecuteTime": {
     "end_time": "2025-04-05T11:49:32.219527Z",
     "start_time": "2025-04-05T11:49:32.211521Z"
    }
   },
   "cell_type": "code",
   "source": [
    "env = DummyEnv()\n",
    "model = MatrixModel(agent_ids=env.possible_agents,\n",
    "                    comms_matrix_values=man_matrix,\n",
    "                    failure_prob=0.0,\n",
    "                    seed=42\n",
    "                    )\n",
    "wrapped_matrix = CommunicationWrapper(env, failure_models=[model])\n",
    "\n",
    "print(\"Initial Communication Matrix:\")\n",
    "print(wrapped_matrix.get_communication_state())\n",
    "\n",
    "wrapped_matrix.env.agent_selection = \"agent_1\"\n",
    "wrapped_matrix.step(action=1)\n",
    "\n",
    "print(\"\\nUpdated Communication Matrix:\")\n",
    "print(wrapped_matrix.get_communication_state())"
   ],
   "id": "4b65ce771be706f2",
   "outputs": [
    {
     "name": "stdout",
     "output_type": "stream",
     "text": [
      "Initial Communication Matrix:\n",
      "[[ True  True  True]\n",
      " [ True  True  True]\n",
      " [ True  True  True]]\n",
      "\n",
      "Updated Communication Matrix:\n",
      "[[ True False False]\n",
      " [False  True  True]\n",
      " [False False  True]]\n"
     ]
    }
   ],
   "execution_count": 96
  },
  {
   "metadata": {
    "ExecuteTime": {
     "end_time": "2025-04-05T11:48:18.031009Z",
     "start_time": "2025-04-05T11:48:18.027706Z"
    }
   },
   "cell_type": "code",
   "source": "",
   "id": "fad3c6642b3812b8",
   "outputs": [],
   "execution_count": null
  },
  {
   "metadata": {
    "ExecuteTime": {
     "end_time": "2025-04-05T11:48:18.092980Z",
     "start_time": "2025-04-05T11:48:18.089690Z"
    }
   },
   "cell_type": "code",
   "source": "",
   "id": "81cbe73005720bc3",
   "outputs": [],
   "execution_count": null
  }
 ],
 "metadata": {
  "kernelspec": {
   "display_name": "Python 3",
   "language": "python",
   "name": "python3"
  },
  "language_info": {
   "codemirror_mode": {
    "name": "ipython",
    "version": 2
   },
   "file_extension": ".py",
   "mimetype": "text/x-python",
   "name": "python",
   "nbconvert_exporter": "python",
   "pygments_lexer": "ipython2",
   "version": "2.7.6"
  }
 },
 "nbformat": 4,
 "nbformat_minor": 5
}
