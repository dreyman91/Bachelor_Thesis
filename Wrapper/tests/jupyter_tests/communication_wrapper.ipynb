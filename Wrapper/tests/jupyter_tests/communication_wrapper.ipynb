{
 "cells": [
  {
   "cell_type": "code",
   "id": "initial_id",
   "metadata": {
    "collapsed": true,
    "ExecuteTime": {
     "end_time": "2025-04-05T11:39:24.129660Z",
     "start_time": "2025-04-05T11:39:24.121935Z"
    }
   },
   "source": [
    "import importlib\n",
    "\n",
    "import Wrapper.src.wrapper_api.wrappers.communication_wrapper as cw\n",
    "import Wrapper.src.wrapper_api.models.active_communication as ac\n",
    "\n",
    "importlib.reload(ac)\n",
    "importlib.reload(cw)\n",
    "\n",
    "from Wrapper.src.wrapper_api.models.active_communication import ActiveCommunication\n",
    "from Wrapper.src.wrapper_api.wrappers.communication_wrapper import CommunicationWrapper\n"
   ],
   "outputs": [],
   "execution_count": 27
  },
  {
   "metadata": {
    "ExecuteTime": {
     "end_time": "2025-04-05T11:39:25.260078Z",
     "start_time": "2025-04-05T11:39:25.251065Z"
    }
   },
   "cell_type": "code",
   "source": [
    "from pettingzoo.utils import AECEnv\n",
    "from gymnasium import spaces\n",
    "import numpy as np\n",
    "\n",
    "class DummyEnv(AECEnv):\n",
    "    def __init__(self):\n",
    "        self.possible_agents = [\"agent_0\", \"agent_1\", \"agent_2\"]\n",
    "        self.agent = self.possible_agents[2]\n",
    "\n",
    "    def observe(self, agent):\n",
    "        return {\n",
    "            \"self\": np.array([1.0, 1.0]),\n",
    "            \"agent_0\": np.array([0.5, 0.5]),\n",
    "            \"agent_1\": np.array([0.8, 0.3])\n",
    "        }\n",
    "    def last(self, observe=True):\n",
    "        return self.observe(self.agent_selection), 0.0, False, False, {}\n",
    "\n",
    "    def observation_space(self, agent):\n",
    "        return spaces.Dict({\n",
    "            \"self\": spaces.Box(low=0, high=1.0, shape=(2,), dtype=np.float32),\n",
    "            \"agent_0\": spaces.Box(low=0, high=1.0, shape=(2,), dtype=np.float32),\n",
    "            \"agent_1\": spaces.Box(low=0, high=1.0, shape=(2,), dtype=np.float32),\n",
    "        })\n",
    "    def action_space(self, agent):\n",
    "        return spaces.Discrete(3)\n",
    "\n",
    "    def reset(self, seed=None, options=None): pass\n",
    "    def step(self, action): pass"
   ],
   "id": "161ce1706055f641",
   "outputs": [],
   "execution_count": 28
  },
  {
   "metadata": {
    "ExecuteTime": {
     "end_time": "2025-04-05T11:39:26.382372Z",
     "start_time": "2025-04-05T11:39:26.378423Z"
    }
   },
   "cell_type": "code",
   "source": [
    "env = DummyEnv()\n",
    "wrapper = CommunicationWrapper(env, failure_models=[])\n",
    "\n",
    "# Override comms matrix manually\n",
    "wrapper.comms_matrix = ActiveCommunication(agent_ids=env.possible_agents)\n",
    "\n",
    "# Block agent 0 -> agent 2\n",
    "wrapper.comms_matrix.update(\"agent_0\", \"agent_2\", False)\n",
    "\n",
    "# allow agent1 -> agent 2\n",
    "wrapper.comms_matrix.update(\"agent_1\", \"agent_2\", True)"
   ],
   "id": "e57878f0d4ca9afe",
   "outputs": [],
   "execution_count": 29
  },
  {
   "metadata": {
    "ExecuteTime": {
     "end_time": "2025-04-05T11:39:27.353978Z",
     "start_time": "2025-04-05T11:39:27.349380Z"
    }
   },
   "cell_type": "code",
   "source": [
    "obs = wrapper.observe(\"agent_2\")\n",
    "print(\"Filtered Observations (observe) for agent 2:\")\n",
    "for k, v in obs.items():\n",
    "    print(f\"{k}: {v}\")"
   ],
   "id": "fcea43896c7d175f",
   "outputs": [
    {
     "name": "stdout",
     "output_type": "stream",
     "text": [
      "Filtered Observations (observe) for agent 2:\n",
      "self: [1. 1.]\n",
      "agent_0: [0. 0.]\n",
      "agent_1: [0.8 0.3]\n"
     ]
    }
   ],
   "execution_count": 30
  },
  {
   "metadata": {
    "ExecuteTime": {
     "end_time": "2025-04-05T11:39:28.597063Z",
     "start_time": "2025-04-05T11:39:28.590283Z"
    }
   },
   "cell_type": "code",
   "source": [
    "wrapper.env.agent_selection = \"agent_2\"\n",
    "obs, reward, termination, truncation, info = wrapper.last(observe=True)\n",
    "\n",
    "print(\"\\nFiltered Observations (observe) for agent 2:\")\n",
    "for k, v in obs.items():\n",
    "    print(f\"{k}: {v}\")"
   ],
   "id": "57d5ad04ef40dc62",
   "outputs": [
    {
     "name": "stdout",
     "output_type": "stream",
     "text": [
      "\n",
      "Filtered Observations (observe) for agent 2:\n",
      "self: [1. 1.]\n",
      "agent_0: [0. 0.]\n",
      "agent_1: [0.8 0.3]\n"
     ]
    }
   ],
   "execution_count": 31
  },
  {
   "metadata": {
    "ExecuteTime": {
     "end_time": "2025-04-05T11:39:29.788405Z",
     "start_time": "2025-04-05T11:39:29.782960Z"
    }
   },
   "cell_type": "code",
   "source": [
    "wrapper.env.agent_selection = \"agent_0\"\n",
    "\n",
    "# Block agent 0 from sending to anyone\n",
    "for receiver in env.possible_agents:\n",
    "    if receiver != \"agent_0\":\n",
    "        wrapper.comms_matrix.update(\"agent_0\", receiver, False)\n",
    "\n",
    "action = 2\n",
    "filtered = wrapper.filter_action(\"agent_0\", action)\n",
    "print(\"\\nFiltered action for agent 0:\", filtered)"
   ],
   "id": "89b7ce021b6558a3",
   "outputs": [
    {
     "name": "stdout",
     "output_type": "stream",
     "text": [
      "\n",
      "Filtered action for agent 0: 0\n"
     ]
    }
   ],
   "execution_count": 32
  },
  {
   "metadata": {
    "ExecuteTime": {
     "end_time": "2025-04-05T11:39:30.776758Z",
     "start_time": "2025-04-05T11:39:30.773417Z"
    }
   },
   "cell_type": "code",
   "source": "",
   "id": "54d612dc9caa3531",
   "outputs": [],
   "execution_count": null
  },
  {
   "metadata": {},
   "cell_type": "code",
   "outputs": [],
   "execution_count": null,
   "source": "",
   "id": "b3b1b21f00350fc4"
  }
 ],
 "metadata": {
  "kernelspec": {
   "display_name": "Python 3",
   "language": "python",
   "name": "python3"
  },
  "language_info": {
   "codemirror_mode": {
    "name": "ipython",
    "version": 2
   },
   "file_extension": ".py",
   "mimetype": "text/x-python",
   "name": "python",
   "nbconvert_exporter": "python",
   "pygments_lexer": "ipython2",
   "version": "2.7.6"
  }
 },
 "nbformat": 4,
 "nbformat_minor": 5
}
