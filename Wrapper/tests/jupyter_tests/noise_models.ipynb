{
 "cells": [
  {
   "metadata": {},
   "cell_type": "markdown",
   "source": [
    "## **Noise Models**\n",
    "\n",
    "##### To test the functionality of the **NoiseModels** in isolation from the rest of the API. This is to confirm that noise is applied correctly to observations and that the result is valid and clipped to the observation space bounds."
   ],
   "id": "d83cbd23903b785b"
  },
  {
   "metadata": {},
   "cell_type": "markdown",
   "source": "#### Gaussian Model",
   "id": "cdf515096e7f60bb"
  },
  {
   "metadata": {
    "ExecuteTime": {
     "end_time": "2025-04-05T15:15:44.539142Z",
     "start_time": "2025-04-05T15:15:44.532071Z"
    }
   },
   "cell_type": "code",
   "source": [
    "import importlib\n",
    "import Wrapper.src.wrapper_api.models.noise_model as nm\n",
    "import Wrapper.src.wrapper_api.wrappers.noise_wrapper as nw\n",
    "importlib.reload(nm)\n",
    "importlib.reload(nw)\n",
    "from Wrapper.src.wrapper_api.wrappers.noise_wrapper import NoiseWrapper\n",
    "from Wrapper.src.wrapper_api.models.noise_model import GaussianNoise, LaplacianNoise, CustomNoise\n",
    "from gymnasium import spaces\n",
    "import numpy as np\n",
    "\n"
   ],
   "id": "bbd2024a5f9b04d6",
   "outputs": [],
   "execution_count": 51
  },
  {
   "metadata": {},
   "cell_type": "markdown",
   "source": "### Dummy Env",
   "id": "841a406d28e2669"
  },
  {
   "metadata": {
    "ExecuteTime": {
     "end_time": "2025-04-05T15:15:44.574644Z",
     "start_time": "2025-04-05T15:15:44.564191Z"
    }
   },
   "cell_type": "code",
   "source": [
    "from pettingzoo.utils import AECEnv, agent_selector\n",
    "\n",
    "\n",
    "class DummyNWEnv(AECEnv):\n",
    "    def __init__(self):\n",
    "        super().__init__()\n",
    "        self.possible_agents = [\"agent_0\", \"agent_1\"]\n",
    "        self.agent_name_mapping = {agent: i for i, agent in enumerate(self.possible_agents)}\n",
    "        self.agents = self.possible_agents[:]\n",
    "        self.agent_selector = agent_selector(self.agents)\n",
    "        self.agent_selection = self.agent_selector.next()\n",
    "        self.observation_spaces = {\n",
    "            agent: spaces.Box(0.0, 1.0, shape=(2,), dtype=np.float32) for agent in self.agents\n",
    "        }\n",
    "        self.action_spaces = {\n",
    "            agent: spaces.Discrete(3) for agent in self.agents\n",
    "        }\n",
    "\n",
    "    def observe(self, current_agent):\n",
    "        return np.array([0.4, 0.6], dtype=np.float32)\n",
    "\n",
    "    def reset(self, seed=None, options=None):\n",
    "        self.agents = self.possible_agents[:]\n",
    "        self.agent_selector.reinit(self.agents)\n",
    "        self.agent_selection = self.agent_selector.next()\n",
    "\n",
    "    def step(self, action):\n",
    "        self.agent_selection = self.agent_selector.next()\n",
    "\n",
    "    def observation_space(self, current_agent):\n",
    "        return self.observation_spaces[agent]\n",
    "\n",
    "    def action_space(self, current_agent):\n",
    "        return self.action_spaces[agent]"
   ],
   "id": "166a30679b99d520",
   "outputs": [],
   "execution_count": 52
  },
  {
   "metadata": {},
   "cell_type": "markdown",
   "source": "### Gaussian",
   "id": "ac85d01dade2e72"
  },
  {
   "metadata": {
    "ExecuteTime": {
     "end_time": "2025-04-05T15:16:23.596208Z",
     "start_time": "2025-04-05T15:16:23.586851Z"
    }
   },
   "cell_type": "code",
   "source": [
    "\n",
    "# Create a Gaussian noise model\n",
    "gaussian_model = GaussianNoise(mean=0.0, std=0.2)\n",
    "\n",
    "# Wrap the DummyEnv with Gaussian noise\n",
    "env = DummyNWEnv()\n",
    "wrapped_env = NoiseWrapper(env, noise_model=gaussian_model)\n",
    "\n",
    "# Reset and observe\n",
    "wrapped_env.reset()\n",
    "agent = wrapped_env.agent_selection\n",
    "obs = wrapped_env.observe(agent)\n",
    "\n",
    "print(f\"Gaussian noisy observation for {agent}:\", obs)\n"
   ],
   "id": "af784b1fa05c978e",
   "outputs": [
    {
     "name": "stdout",
     "output_type": "stream",
     "text": [
      "Gaussian noisy observation for agent_0: [0.48497882 0.56665063]\n"
     ]
    }
   ],
   "execution_count": 56
  },
  {
   "metadata": {},
   "cell_type": "markdown",
   "source": "#### Laplacian Model",
   "id": "77bce1a56bb2da27"
  },
  {
   "metadata": {
    "ExecuteTime": {
     "end_time": "2025-04-05T15:17:11.795902Z",
     "start_time": "2025-04-05T15:17:11.789169Z"
    }
   },
   "cell_type": "code",
   "source": [
    "\n",
    "# Create a Laplacian noise model\n",
    "laplace_model = LaplacianNoise(loc=0.0, scale=0.2)\n",
    "\n",
    "# Wrap with Laplacian noise\n",
    "env = DummyNWEnv()\n",
    "wrapped_env = NoiseWrapper(env, noise_model=laplace_model)\n",
    "\n",
    "# Reset and observe\n",
    "wrapped_env.reset()\n",
    "agent = wrapped_env.agent_selection\n",
    "obs = wrapped_env.observe(agent)\n",
    "\n",
    "print(f\"Laplacian noisy observation for {agent}:\", obs)\n"
   ],
   "id": "96c73a1727c184f7",
   "outputs": [
    {
     "name": "stdout",
     "output_type": "stream",
     "text": [
      "Laplacian noisy observation for agent_0: [0.33056852 0.71457137]\n"
     ]
    }
   ],
   "execution_count": 58
  },
  {
   "metadata": {
    "ExecuteTime": {
     "end_time": "2025-04-05T15:15:44.685974790Z",
     "start_time": "2025-04-05T14:53:28.411362Z"
    }
   },
   "cell_type": "code",
   "source": "",
   "id": "1c447a3bdd281df9",
   "outputs": [],
   "execution_count": null
  },
  {
   "metadata": {},
   "cell_type": "markdown",
   "source": [
    "### Custom Noise Model\n",
    "##### Allows definition of custom noise function"
   ],
   "id": "bea70005c081250f"
  },
  {
   "metadata": {
    "ExecuteTime": {
     "end_time": "2025-04-05T15:15:44.705845324Z",
     "start_time": "2025-04-05T14:53:28.472351Z"
    }
   },
   "cell_type": "code",
   "source": [
    "def custom_noise(cm_obs, space):\n",
    "    return np.clip(cm_obs + 0.3, space.low, space.high)\n",
    "\n",
    "cm_noise_model = CustomNoise(noise_fn=custom_noise)\n",
    "env = DummyNWEnv()\n",
    "wrapped_cm_env = NoiseWrapper(env, cm_noise_model)\n",
    "\n",
    "wrapped_cm_env.reset()\n",
    "\n",
    "agent = wrapped_cm_env.agent_selection\n",
    "cm_obs = wrapped_cm_env.observe(agent)\n",
    "\n",
    "print(f\"Custom Noisy observation for {agent}:\", cm_obs)\n",
    "\n"
   ],
   "id": "443fc9f14cce8a86",
   "outputs": [
    {
     "name": "stdout",
     "output_type": "stream",
     "text": [
      "Custom Noisy observation for agent_0: [0.70000005 0.90000004]\n"
     ]
    }
   ],
   "execution_count": 48
  },
  {
   "metadata": {
    "ExecuteTime": {
     "end_time": "2025-04-05T15:15:44.706709508Z",
     "start_time": "2025-04-05T14:53:28.529724Z"
    }
   },
   "cell_type": "code",
   "source": "",
   "id": "f96e1b17d9f99a0",
   "outputs": [],
   "execution_count": null
  }
 ],
 "metadata": {
  "kernelspec": {
   "display_name": "Python 3",
   "language": "python",
   "name": "python3"
  },
  "language_info": {
   "codemirror_mode": {
    "name": "ipython",
    "version": 2
   },
   "file_extension": ".py",
   "mimetype": "text/x-python",
   "name": "python",
   "nbconvert_exporter": "python",
   "pygments_lexer": "ipython2",
   "version": "2.7.6"
  }
 },
 "nbformat": 4,
 "nbformat_minor": 5
}
