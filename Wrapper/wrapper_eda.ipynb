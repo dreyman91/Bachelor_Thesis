{
 "cells": [
  {
   "metadata": {
    "ExecuteTime": {
     "end_time": "2025-02-25T22:32:02.833435Z",
     "start_time": "2025-02-25T22:32:02.812741Z"
    }
   },
   "cell_type": "code",
   "source": [
    "import numpy as np\n",
    "import torch\n",
    "import torch.nn as nn\n",
    "import torch.optim as optim\n",
    "import matplotlib.pyplot as plt\n",
    "from sklearn.metrics import mean_squared_error\n",
    "from pettingzoo.mpe import simple_adversary_v3  # You can swap this with any PettingZoo environment\n",
    "\n",
    "# Initialize PettingZoo environment\n",
    "env = simple_adversary_v3.env(render_mode=None)\n",
    "env.reset()\n",
    "\n",
    "# Collect all agent observation sizes dynamically\n",
    "all_agents = env.agents\n",
    "obs_sizes = [len(env.last()[0]) for agent in all_agents]  # Get observation size per agent\n",
    "\n",
    "# Ensure consistency in observation size (taking max or mode of sizes)\n",
    "input_dim = max(obs_sizes)  # Ensures we don't use a smaller input size than needed\n",
    "\n",
    "print(f\"Detected agents: {all_agents}\")\n",
    "print(f\"Final selected input_dim: {input_dim}\")\n",
    "\n"
   ],
   "id": "7e836ee9dfbaa4ec",
   "outputs": [
    {
     "name": "stdout",
     "output_type": "stream",
     "text": [
      "Detected agents: ['adversary_0', 'agent_0', 'agent_1']\n",
      "Final selected input_dim: 8\n"
     ]
    }
   ],
   "execution_count": 9
  },
  {
   "metadata": {
    "ExecuteTime": {
     "end_time": "2025-02-25T22:32:05.727970Z",
     "start_time": "2025-02-25T22:32:05.722555Z"
    }
   },
   "cell_type": "code",
   "source": [
    "# Define the autoencoder that dynamically adapts to observation size\n",
    "class ObservationEncoder(nn.Module):\n",
    "    def __init__(self, input_dim):\n",
    "        super(ObservationEncoder, self).__init__()\n",
    "        self.encoder = nn.Sequential(\n",
    "            nn.Linear(input_dim, 64),\n",
    "            nn.ReLU(),\n",
    "            nn.Linear(64, max(4, input_dim // 2)),  # Adaptive latent space\n",
    "            nn.ReLU()\n",
    "        )\n",
    "        self.decoder = nn.Sequential(\n",
    "            nn.Linear(max(4, input_dim // 2), 64),\n",
    "            nn.ReLU(),\n",
    "            nn.Linear(64, input_dim)  # Reconstruct original input\n",
    "        )\n",
    "\n",
    "    def forward(self, x):\n",
    "        encoded = self.encoder(x)\n",
    "        reconstructed = self.decoder(encoded)\n",
    "        return encoded, reconstructed\n"
   ],
   "id": "812883af2737ab45",
   "outputs": [],
   "execution_count": 10
  },
  {
   "metadata": {
    "ExecuteTime": {
     "end_time": "2025-02-25T22:39:40.278485Z",
     "start_time": "2025-02-25T22:39:40.251170Z"
    }
   },
   "cell_type": "code",
   "source": [
    "# Automatically process observations from PettingZoo\n",
    "num_samples = 50\n",
    "observations = []\n",
    "\n",
    "env.reset()\n",
    "\n",
    "# First pass: Determine max_length\n",
    "max_length = 0  # Initialize max_length\n",
    "for _ in range(num_samples):\n",
    "    for agent in env.agents:\n",
    "        obs, _, termination, truncation, _ = env.last()\n",
    "        max_length = max(max_length, len(obs))  # Update max_length dynamically\n",
    "        env.step(env.action_space(agent).sample()) if not (termination or truncation) else None  # Step only if active\n",
    "\n",
    "# Second pass: Collect observations with padding\n",
    "env.reset()  # Restart environment for clean data collection\n",
    "for _ in range(num_samples):\n",
    "    for agent in env.agents:\n",
    "        obs, _, termination, truncation, _ = env.last()\n",
    "        \n",
    "        # Pad observation to ensure uniform shape\n",
    "        padded_obs = np.pad(obs, (0, max_length - len(obs)), mode='constant')\n",
    "        observations.append(padded_obs)\n",
    "\n",
    "        if not (termination or truncation):  # Only step if agent is active\n",
    "            env.step(env.action_space(agent).sample())  # Take a random action\n",
    "\n",
    "# Convert observations to a consistent tensor format\n",
    "observations = np.array(observations, dtype=np.float32)\n",
    "observations_tensor = torch.tensor(observations, dtype=torch.float32)\n",
    "\n",
    "print(f\"Final Observation Shape: {observations.shape}\")\n"
   ],
   "id": "31d91ede4e409fd1",
   "outputs": [
    {
     "name": "stdout",
     "output_type": "stream",
     "text": [
      "Final Observation Shape: (150, 10)\n"
     ]
    }
   ],
   "execution_count": 18
  },
  {
   "metadata": {
    "ExecuteTime": {
     "end_time": "2025-02-25T22:39:42.543516Z",
     "start_time": "2025-02-25T22:39:42.392728Z"
    }
   },
   "cell_type": "code",
   "source": [
    "import torch\n",
    "import torch.optim as optim\n",
    "import torch.nn as nn\n",
    "\n",
    "# Move model & data to the correct device\n",
    "device = torch.device(\"cuda\" if torch.cuda.is_available() else \"cpu\")\n",
    "encoder_model.to(device)\n",
    "observations_tensor = observations_tensor.to(device)\n",
    "\n",
    "# Define optimizer and loss function\n",
    "optimizer = optim.Adam(encoder_model.parameters(), lr=0.005)\n",
    "criterion = nn.MSELoss()\n",
    "\n",
    "# Train the autoencoder on real agent observations\n",
    "epochs = 30\n",
    "batch_size = 5\n",
    "\n",
    "for epoch in range(epochs):\n",
    "    total_loss = 0\n",
    "    for i in range(0, observations_tensor.shape[0], batch_size):\n",
    "        batch = observations_tensor[i:min(i+batch_size, observations_tensor.shape[0])]  # Safe indexing\n",
    "\n",
    "        optimizer.zero_grad()\n",
    "        _, reconstructed = encoder_model(batch)\n",
    "        \n",
    "        loss = criterion(reconstructed, batch)  # Compute reconstruction loss\n",
    "        loss.backward()\n",
    "        optimizer.step()\n",
    "        \n",
    "        total_loss += loss.item()\n",
    "    \n",
    "    avg_loss = total_loss / (observations_tensor.shape[0] // batch_size)\n",
    "    print(f\"Epoch {epoch+1}/{epochs}, Loss: {avg_loss:.6f}\")\n",
    "\n",
    "    # Debugging: Print first observation comparison\n",
    "    if epoch == 0:\n",
    "        print(f\"Sample Original: {batch[0].cpu().numpy()}\")\n",
    "        print(f\"Sample Reconstructed: {reconstructed[0].detach().cpu().numpy()}\")\n"
   ],
   "id": "a0d8af87d180d655",
   "outputs": [
    {
     "ename": "RuntimeError",
     "evalue": "mat1 and mat2 shapes cannot be multiplied (5x10 and 8x64)",
     "output_type": "error",
     "traceback": [
      "\u001B[1;31m---------------------------------------------------------------------------\u001B[0m",
      "\u001B[1;31mRuntimeError\u001B[0m                              Traceback (most recent call last)",
      "Cell \u001B[1;32mIn[19], line 24\u001B[0m\n\u001B[0;32m     21\u001B[0m batch \u001B[38;5;241m=\u001B[39m observations_tensor[i:\u001B[38;5;28mmin\u001B[39m(i\u001B[38;5;241m+\u001B[39mbatch_size, observations_tensor\u001B[38;5;241m.\u001B[39mshape[\u001B[38;5;241m0\u001B[39m])]  \u001B[38;5;66;03m# Safe indexing\u001B[39;00m\n\u001B[0;32m     23\u001B[0m optimizer\u001B[38;5;241m.\u001B[39mzero_grad()\n\u001B[1;32m---> 24\u001B[0m _, reconstructed \u001B[38;5;241m=\u001B[39m \u001B[43mencoder_model\u001B[49m\u001B[43m(\u001B[49m\u001B[43mbatch\u001B[49m\u001B[43m)\u001B[49m\n\u001B[0;32m     26\u001B[0m loss \u001B[38;5;241m=\u001B[39m criterion(reconstructed, batch)  \u001B[38;5;66;03m# Compute reconstruction loss\u001B[39;00m\n\u001B[0;32m     27\u001B[0m loss\u001B[38;5;241m.\u001B[39mbackward()\n",
      "File \u001B[1;32m~\\venv\\Bachelor_Thesis\\my_env\\Lib\\site-packages\\torch\\nn\\modules\\module.py:1739\u001B[0m, in \u001B[0;36mModule._wrapped_call_impl\u001B[1;34m(self, *args, **kwargs)\u001B[0m\n\u001B[0;32m   1737\u001B[0m     \u001B[38;5;28;01mreturn\u001B[39;00m \u001B[38;5;28mself\u001B[39m\u001B[38;5;241m.\u001B[39m_compiled_call_impl(\u001B[38;5;241m*\u001B[39margs, \u001B[38;5;241m*\u001B[39m\u001B[38;5;241m*\u001B[39mkwargs)  \u001B[38;5;66;03m# type: ignore[misc]\u001B[39;00m\n\u001B[0;32m   1738\u001B[0m \u001B[38;5;28;01melse\u001B[39;00m:\n\u001B[1;32m-> 1739\u001B[0m     \u001B[38;5;28;01mreturn\u001B[39;00m \u001B[38;5;28;43mself\u001B[39;49m\u001B[38;5;241;43m.\u001B[39;49m\u001B[43m_call_impl\u001B[49m\u001B[43m(\u001B[49m\u001B[38;5;241;43m*\u001B[39;49m\u001B[43margs\u001B[49m\u001B[43m,\u001B[49m\u001B[43m \u001B[49m\u001B[38;5;241;43m*\u001B[39;49m\u001B[38;5;241;43m*\u001B[39;49m\u001B[43mkwargs\u001B[49m\u001B[43m)\u001B[49m\n",
      "File \u001B[1;32m~\\venv\\Bachelor_Thesis\\my_env\\Lib\\site-packages\\torch\\nn\\modules\\module.py:1750\u001B[0m, in \u001B[0;36mModule._call_impl\u001B[1;34m(self, *args, **kwargs)\u001B[0m\n\u001B[0;32m   1745\u001B[0m \u001B[38;5;66;03m# If we don't have any hooks, we want to skip the rest of the logic in\u001B[39;00m\n\u001B[0;32m   1746\u001B[0m \u001B[38;5;66;03m# this function, and just call forward.\u001B[39;00m\n\u001B[0;32m   1747\u001B[0m \u001B[38;5;28;01mif\u001B[39;00m \u001B[38;5;129;01mnot\u001B[39;00m (\u001B[38;5;28mself\u001B[39m\u001B[38;5;241m.\u001B[39m_backward_hooks \u001B[38;5;129;01mor\u001B[39;00m \u001B[38;5;28mself\u001B[39m\u001B[38;5;241m.\u001B[39m_backward_pre_hooks \u001B[38;5;129;01mor\u001B[39;00m \u001B[38;5;28mself\u001B[39m\u001B[38;5;241m.\u001B[39m_forward_hooks \u001B[38;5;129;01mor\u001B[39;00m \u001B[38;5;28mself\u001B[39m\u001B[38;5;241m.\u001B[39m_forward_pre_hooks\n\u001B[0;32m   1748\u001B[0m         \u001B[38;5;129;01mor\u001B[39;00m _global_backward_pre_hooks \u001B[38;5;129;01mor\u001B[39;00m _global_backward_hooks\n\u001B[0;32m   1749\u001B[0m         \u001B[38;5;129;01mor\u001B[39;00m _global_forward_hooks \u001B[38;5;129;01mor\u001B[39;00m _global_forward_pre_hooks):\n\u001B[1;32m-> 1750\u001B[0m     \u001B[38;5;28;01mreturn\u001B[39;00m \u001B[43mforward_call\u001B[49m\u001B[43m(\u001B[49m\u001B[38;5;241;43m*\u001B[39;49m\u001B[43margs\u001B[49m\u001B[43m,\u001B[49m\u001B[43m \u001B[49m\u001B[38;5;241;43m*\u001B[39;49m\u001B[38;5;241;43m*\u001B[39;49m\u001B[43mkwargs\u001B[49m\u001B[43m)\u001B[49m\n\u001B[0;32m   1752\u001B[0m result \u001B[38;5;241m=\u001B[39m \u001B[38;5;28;01mNone\u001B[39;00m\n\u001B[0;32m   1753\u001B[0m called_always_called_hooks \u001B[38;5;241m=\u001B[39m \u001B[38;5;28mset\u001B[39m()\n",
      "Cell \u001B[1;32mIn[10], line 18\u001B[0m, in \u001B[0;36mObservationEncoder.forward\u001B[1;34m(self, x)\u001B[0m\n\u001B[0;32m     17\u001B[0m \u001B[38;5;28;01mdef\u001B[39;00m\u001B[38;5;250m \u001B[39m\u001B[38;5;21mforward\u001B[39m(\u001B[38;5;28mself\u001B[39m, x):\n\u001B[1;32m---> 18\u001B[0m     encoded \u001B[38;5;241m=\u001B[39m \u001B[38;5;28;43mself\u001B[39;49m\u001B[38;5;241;43m.\u001B[39;49m\u001B[43mencoder\u001B[49m\u001B[43m(\u001B[49m\u001B[43mx\u001B[49m\u001B[43m)\u001B[49m\n\u001B[0;32m     19\u001B[0m     reconstructed \u001B[38;5;241m=\u001B[39m \u001B[38;5;28mself\u001B[39m\u001B[38;5;241m.\u001B[39mdecoder(encoded)\n\u001B[0;32m     20\u001B[0m     \u001B[38;5;28;01mreturn\u001B[39;00m encoded, reconstructed\n",
      "File \u001B[1;32m~\\venv\\Bachelor_Thesis\\my_env\\Lib\\site-packages\\torch\\nn\\modules\\module.py:1739\u001B[0m, in \u001B[0;36mModule._wrapped_call_impl\u001B[1;34m(self, *args, **kwargs)\u001B[0m\n\u001B[0;32m   1737\u001B[0m     \u001B[38;5;28;01mreturn\u001B[39;00m \u001B[38;5;28mself\u001B[39m\u001B[38;5;241m.\u001B[39m_compiled_call_impl(\u001B[38;5;241m*\u001B[39margs, \u001B[38;5;241m*\u001B[39m\u001B[38;5;241m*\u001B[39mkwargs)  \u001B[38;5;66;03m# type: ignore[misc]\u001B[39;00m\n\u001B[0;32m   1738\u001B[0m \u001B[38;5;28;01melse\u001B[39;00m:\n\u001B[1;32m-> 1739\u001B[0m     \u001B[38;5;28;01mreturn\u001B[39;00m \u001B[38;5;28;43mself\u001B[39;49m\u001B[38;5;241;43m.\u001B[39;49m\u001B[43m_call_impl\u001B[49m\u001B[43m(\u001B[49m\u001B[38;5;241;43m*\u001B[39;49m\u001B[43margs\u001B[49m\u001B[43m,\u001B[49m\u001B[43m \u001B[49m\u001B[38;5;241;43m*\u001B[39;49m\u001B[38;5;241;43m*\u001B[39;49m\u001B[43mkwargs\u001B[49m\u001B[43m)\u001B[49m\n",
      "File \u001B[1;32m~\\venv\\Bachelor_Thesis\\my_env\\Lib\\site-packages\\torch\\nn\\modules\\module.py:1750\u001B[0m, in \u001B[0;36mModule._call_impl\u001B[1;34m(self, *args, **kwargs)\u001B[0m\n\u001B[0;32m   1745\u001B[0m \u001B[38;5;66;03m# If we don't have any hooks, we want to skip the rest of the logic in\u001B[39;00m\n\u001B[0;32m   1746\u001B[0m \u001B[38;5;66;03m# this function, and just call forward.\u001B[39;00m\n\u001B[0;32m   1747\u001B[0m \u001B[38;5;28;01mif\u001B[39;00m \u001B[38;5;129;01mnot\u001B[39;00m (\u001B[38;5;28mself\u001B[39m\u001B[38;5;241m.\u001B[39m_backward_hooks \u001B[38;5;129;01mor\u001B[39;00m \u001B[38;5;28mself\u001B[39m\u001B[38;5;241m.\u001B[39m_backward_pre_hooks \u001B[38;5;129;01mor\u001B[39;00m \u001B[38;5;28mself\u001B[39m\u001B[38;5;241m.\u001B[39m_forward_hooks \u001B[38;5;129;01mor\u001B[39;00m \u001B[38;5;28mself\u001B[39m\u001B[38;5;241m.\u001B[39m_forward_pre_hooks\n\u001B[0;32m   1748\u001B[0m         \u001B[38;5;129;01mor\u001B[39;00m _global_backward_pre_hooks \u001B[38;5;129;01mor\u001B[39;00m _global_backward_hooks\n\u001B[0;32m   1749\u001B[0m         \u001B[38;5;129;01mor\u001B[39;00m _global_forward_hooks \u001B[38;5;129;01mor\u001B[39;00m _global_forward_pre_hooks):\n\u001B[1;32m-> 1750\u001B[0m     \u001B[38;5;28;01mreturn\u001B[39;00m \u001B[43mforward_call\u001B[49m\u001B[43m(\u001B[49m\u001B[38;5;241;43m*\u001B[39;49m\u001B[43margs\u001B[49m\u001B[43m,\u001B[49m\u001B[43m \u001B[49m\u001B[38;5;241;43m*\u001B[39;49m\u001B[38;5;241;43m*\u001B[39;49m\u001B[43mkwargs\u001B[49m\u001B[43m)\u001B[49m\n\u001B[0;32m   1752\u001B[0m result \u001B[38;5;241m=\u001B[39m \u001B[38;5;28;01mNone\u001B[39;00m\n\u001B[0;32m   1753\u001B[0m called_always_called_hooks \u001B[38;5;241m=\u001B[39m \u001B[38;5;28mset\u001B[39m()\n",
      "File \u001B[1;32m~\\venv\\Bachelor_Thesis\\my_env\\Lib\\site-packages\\torch\\nn\\modules\\container.py:250\u001B[0m, in \u001B[0;36mSequential.forward\u001B[1;34m(self, input)\u001B[0m\n\u001B[0;32m    248\u001B[0m \u001B[38;5;28;01mdef\u001B[39;00m\u001B[38;5;250m \u001B[39m\u001B[38;5;21mforward\u001B[39m(\u001B[38;5;28mself\u001B[39m, \u001B[38;5;28minput\u001B[39m):\n\u001B[0;32m    249\u001B[0m     \u001B[38;5;28;01mfor\u001B[39;00m module \u001B[38;5;129;01min\u001B[39;00m \u001B[38;5;28mself\u001B[39m:\n\u001B[1;32m--> 250\u001B[0m         \u001B[38;5;28minput\u001B[39m \u001B[38;5;241m=\u001B[39m \u001B[43mmodule\u001B[49m\u001B[43m(\u001B[49m\u001B[38;5;28;43minput\u001B[39;49m\u001B[43m)\u001B[49m\n\u001B[0;32m    251\u001B[0m     \u001B[38;5;28;01mreturn\u001B[39;00m \u001B[38;5;28minput\u001B[39m\n",
      "File \u001B[1;32m~\\venv\\Bachelor_Thesis\\my_env\\Lib\\site-packages\\torch\\nn\\modules\\module.py:1739\u001B[0m, in \u001B[0;36mModule._wrapped_call_impl\u001B[1;34m(self, *args, **kwargs)\u001B[0m\n\u001B[0;32m   1737\u001B[0m     \u001B[38;5;28;01mreturn\u001B[39;00m \u001B[38;5;28mself\u001B[39m\u001B[38;5;241m.\u001B[39m_compiled_call_impl(\u001B[38;5;241m*\u001B[39margs, \u001B[38;5;241m*\u001B[39m\u001B[38;5;241m*\u001B[39mkwargs)  \u001B[38;5;66;03m# type: ignore[misc]\u001B[39;00m\n\u001B[0;32m   1738\u001B[0m \u001B[38;5;28;01melse\u001B[39;00m:\n\u001B[1;32m-> 1739\u001B[0m     \u001B[38;5;28;01mreturn\u001B[39;00m \u001B[38;5;28;43mself\u001B[39;49m\u001B[38;5;241;43m.\u001B[39;49m\u001B[43m_call_impl\u001B[49m\u001B[43m(\u001B[49m\u001B[38;5;241;43m*\u001B[39;49m\u001B[43margs\u001B[49m\u001B[43m,\u001B[49m\u001B[43m \u001B[49m\u001B[38;5;241;43m*\u001B[39;49m\u001B[38;5;241;43m*\u001B[39;49m\u001B[43mkwargs\u001B[49m\u001B[43m)\u001B[49m\n",
      "File \u001B[1;32m~\\venv\\Bachelor_Thesis\\my_env\\Lib\\site-packages\\torch\\nn\\modules\\module.py:1750\u001B[0m, in \u001B[0;36mModule._call_impl\u001B[1;34m(self, *args, **kwargs)\u001B[0m\n\u001B[0;32m   1745\u001B[0m \u001B[38;5;66;03m# If we don't have any hooks, we want to skip the rest of the logic in\u001B[39;00m\n\u001B[0;32m   1746\u001B[0m \u001B[38;5;66;03m# this function, and just call forward.\u001B[39;00m\n\u001B[0;32m   1747\u001B[0m \u001B[38;5;28;01mif\u001B[39;00m \u001B[38;5;129;01mnot\u001B[39;00m (\u001B[38;5;28mself\u001B[39m\u001B[38;5;241m.\u001B[39m_backward_hooks \u001B[38;5;129;01mor\u001B[39;00m \u001B[38;5;28mself\u001B[39m\u001B[38;5;241m.\u001B[39m_backward_pre_hooks \u001B[38;5;129;01mor\u001B[39;00m \u001B[38;5;28mself\u001B[39m\u001B[38;5;241m.\u001B[39m_forward_hooks \u001B[38;5;129;01mor\u001B[39;00m \u001B[38;5;28mself\u001B[39m\u001B[38;5;241m.\u001B[39m_forward_pre_hooks\n\u001B[0;32m   1748\u001B[0m         \u001B[38;5;129;01mor\u001B[39;00m _global_backward_pre_hooks \u001B[38;5;129;01mor\u001B[39;00m _global_backward_hooks\n\u001B[0;32m   1749\u001B[0m         \u001B[38;5;129;01mor\u001B[39;00m _global_forward_hooks \u001B[38;5;129;01mor\u001B[39;00m _global_forward_pre_hooks):\n\u001B[1;32m-> 1750\u001B[0m     \u001B[38;5;28;01mreturn\u001B[39;00m \u001B[43mforward_call\u001B[49m\u001B[43m(\u001B[49m\u001B[38;5;241;43m*\u001B[39;49m\u001B[43margs\u001B[49m\u001B[43m,\u001B[49m\u001B[43m \u001B[49m\u001B[38;5;241;43m*\u001B[39;49m\u001B[38;5;241;43m*\u001B[39;49m\u001B[43mkwargs\u001B[49m\u001B[43m)\u001B[49m\n\u001B[0;32m   1752\u001B[0m result \u001B[38;5;241m=\u001B[39m \u001B[38;5;28;01mNone\u001B[39;00m\n\u001B[0;32m   1753\u001B[0m called_always_called_hooks \u001B[38;5;241m=\u001B[39m \u001B[38;5;28mset\u001B[39m()\n",
      "File \u001B[1;32m~\\venv\\Bachelor_Thesis\\my_env\\Lib\\site-packages\\torch\\nn\\modules\\linear.py:125\u001B[0m, in \u001B[0;36mLinear.forward\u001B[1;34m(self, input)\u001B[0m\n\u001B[0;32m    124\u001B[0m \u001B[38;5;28;01mdef\u001B[39;00m\u001B[38;5;250m \u001B[39m\u001B[38;5;21mforward\u001B[39m(\u001B[38;5;28mself\u001B[39m, \u001B[38;5;28minput\u001B[39m: Tensor) \u001B[38;5;241m-\u001B[39m\u001B[38;5;241m>\u001B[39m Tensor:\n\u001B[1;32m--> 125\u001B[0m     \u001B[38;5;28;01mreturn\u001B[39;00m \u001B[43mF\u001B[49m\u001B[38;5;241;43m.\u001B[39;49m\u001B[43mlinear\u001B[49m\u001B[43m(\u001B[49m\u001B[38;5;28;43minput\u001B[39;49m\u001B[43m,\u001B[49m\u001B[43m \u001B[49m\u001B[38;5;28;43mself\u001B[39;49m\u001B[38;5;241;43m.\u001B[39;49m\u001B[43mweight\u001B[49m\u001B[43m,\u001B[49m\u001B[43m \u001B[49m\u001B[38;5;28;43mself\u001B[39;49m\u001B[38;5;241;43m.\u001B[39;49m\u001B[43mbias\u001B[49m\u001B[43m)\u001B[49m\n",
      "\u001B[1;31mRuntimeError\u001B[0m: mat1 and mat2 shapes cannot be multiplied (5x10 and 8x64)"
     ]
    }
   ],
   "execution_count": 19
  },
  {
   "metadata": {},
   "cell_type": "code",
   "outputs": [],
   "execution_count": null,
   "source": [
    "# Define ObservationEncoder\n",
    "class ObservationEncoder(nn.Module):\n",
    "    def __init__(self, input_dim):\n",
    "        super(ObservationEncoder, self).__init__()\n",
    "        latent_dim = max(4, input_dim // 2)\n",
    "\n",
    "        self.encoder = nn.Sequential(\n",
    "            nn.Linear(input_dim, 64),\n",
    "            nn.ReLU(),\n",
    "            nn.Linear(64, latent_dim),\n",
    "            nn.ReLU()\n",
    "        )\n",
    "        self.decoder = nn.Sequential(\n",
    "            nn.Linear(latent_dim, 64),\n",
    "            nn.ReLU(),\n",
    "            nn.Linear(64, input_dim)\n",
    "        )\n",
    "\n",
    "    def forward(self, x):\n",
    "        encoded = self.encoder(x)\n",
    "        reconstructed = self.decoder(encoded)\n",
    "        return encoded, reconstructed\n",
    "\n",
    "# Initialize model\n",
    "input_dim = max_length\n",
    "encoder_model = ObservationEncoder(input_dim)\n",
    "observations_tensor = torch.tensor(observations, dtype=torch.float32)\n",
    "\n",
    "# Check shape\n",
    "print(f\"Observation Tensor Shape: {observations_tensor.shape}\")\n"
   ],
   "id": "bb50a330a699404a"
  },
  {
   "metadata": {
    "ExecuteTime": {
     "end_time": "2025-02-25T22:59:32.594858Z",
     "start_time": "2025-02-25T22:59:31.172438Z"
    }
   },
   "cell_type": "code",
   "source": [
    "import numpy as np\n",
    "import torch\n",
    "import torch.nn as nn\n",
    "import torch.optim as optim\n",
    "from pettingzoo.mpe import simple_adversary_v3\n",
    "\n",
    "# Initialize environment\n",
    "env = simple_adversary_v3.env(render_mode=None)\n",
    "env.reset()\n",
    "\n",
    "# Step 1: Determine max observation length\n",
    "max_length = 0\n",
    "num_samples = 50\n",
    "for _ in range(num_samples):\n",
    "    for agent in env.agents:\n",
    "        obs, _, termination, truncation, _ = env.last()\n",
    "        max_length = max(max_length, len(obs))  # Find longest observation\n",
    "        if not (termination or truncation):\n",
    "            env.step(env.action_space(agent).sample())  # Step only if active\n",
    "\n",
    "# Step 2: Collect observations and ensure consistent shape\n",
    "observations = []\n",
    "env.reset()\n",
    "for _ in range(num_samples):\n",
    "    for agent in env.agents:\n",
    "        obs, _, termination, truncation, _ = env.last()\n",
    "\n",
    "        # Pad observations dynamically\n",
    "        padded_obs = np.pad(obs, (0, max_length - len(obs)), mode='constant')\n",
    "        observations.append(padded_obs)\n",
    "\n",
    "        if not (termination or truncation):\n",
    "            env.step(env.action_space(agent).sample())\n",
    "\n",
    "# Convert observations to tensor\n",
    "observations = np.array(observations, dtype=np.float32)\n",
    "observations_tensor = torch.tensor(observations, dtype=torch.float32)\n",
    "\n",
    "# Step 3: Ensure input_dim matches tensor shape\n",
    "input_dim = observations_tensor.shape[1]  # Dynamically set input size\n",
    "print(f\"Final Observation Tensor Shape: {observations_tensor.shape}\")\n",
    "\n",
    "# Step 4: Define and initialize encoder with correct input_dim\n",
    "class ObservationEncoder(nn.Module):\n",
    "    def __init__(self, input_dim):\n",
    "        super(ObservationEncoder, self).__init__()\n",
    "        latent_dim = max(4, input_dim // 2)\n",
    "\n",
    "        self.encoder = nn.Sequential(\n",
    "            nn.Linear(input_dim, 64),  \n",
    "            nn.ReLU(),\n",
    "            nn.Linear(64, latent_dim),\n",
    "            nn.ReLU()\n",
    "        )\n",
    "        self.decoder = nn.Sequential(\n",
    "            nn.Linear(latent_dim, 64),\n",
    "            nn.ReLU(),\n",
    "            nn.Linear(64, input_dim)  # Final layer should match input_dim\n",
    "        )\n",
    "\n",
    "    def forward(self, x):\n",
    "        encoded = self.encoder(x)\n",
    "        reconstructed = self.decoder(encoded)\n",
    "        return encoded, reconstructed\n",
    "\n",
    "# Initialize model with corrected input size\n",
    "encoder_model = ObservationEncoder(input_dim=input_dim)\n",
    "\n",
    "# Step 5: Train model with correct dimensions\n",
    "optimizer = optim.Adam(encoder_model.parameters(), lr=0.005)\n",
    "criterion = nn.MSELoss()\n",
    "epochs = 30\n",
    "batch_size = 5\n",
    "\n",
    "for epoch in range(epochs):\n",
    "    total_loss = 0\n",
    "    for i in range(0, observations_tensor.shape[0], batch_size):\n",
    "        batch = observations_tensor[i:min(i+batch_size, observations_tensor.shape[0])]  # Safe indexing\n",
    "\n",
    "        optimizer.zero_grad()\n",
    "        _, reconstructed = encoder_model(batch)  # No shape mismatch now\n",
    "        loss = criterion(reconstructed, batch)\n",
    "        loss.backward()\n",
    "        optimizer.step()\n",
    "        total_loss += loss.item()\n",
    "    \n",
    "    print(f\"Epoch {epoch+1}/{epochs}, Loss: {total_loss / (observations_tensor.shape[0] // batch_size):.6f}\")\n"
   ],
   "id": "4ed97cccc865043d",
   "outputs": [
    {
     "name": "stdout",
     "output_type": "stream",
     "text": [
      "Final Observation Tensor Shape: torch.Size([150, 10])\n",
      "Epoch 1/30, Loss: 0.166396\n",
      "Epoch 2/30, Loss: 0.128360\n",
      "Epoch 3/30, Loss: 0.031939\n",
      "Epoch 4/30, Loss: 0.038120\n",
      "Epoch 5/30, Loss: 0.024549\n",
      "Epoch 6/30, Loss: 0.027809\n",
      "Epoch 7/30, Loss: 0.022080\n",
      "Epoch 8/30, Loss: 0.020531\n",
      "Epoch 9/30, Loss: 0.019678\n",
      "Epoch 10/30, Loss: 0.018918\n",
      "Epoch 11/30, Loss: 0.018716\n",
      "Epoch 12/30, Loss: 0.016279\n",
      "Epoch 13/30, Loss: 0.014801\n",
      "Epoch 14/30, Loss: 0.011491\n",
      "Epoch 15/30, Loss: 0.011298\n",
      "Epoch 16/30, Loss: 0.009467\n",
      "Epoch 17/30, Loss: 0.012573\n",
      "Epoch 18/30, Loss: 0.010377\n",
      "Epoch 19/30, Loss: 0.009274\n",
      "Epoch 20/30, Loss: 0.014787\n",
      "Epoch 21/30, Loss: 0.016469\n",
      "Epoch 22/30, Loss: 0.022204\n",
      "Epoch 23/30, Loss: 0.025431\n",
      "Epoch 24/30, Loss: 0.021052\n",
      "Epoch 25/30, Loss: 0.013289\n",
      "Epoch 26/30, Loss: 0.010311\n",
      "Epoch 27/30, Loss: 0.013865\n",
      "Epoch 28/30, Loss: 0.010542\n",
      "Epoch 29/30, Loss: 0.008453\n",
      "Epoch 30/30, Loss: 0.008823\n"
     ]
    }
   ],
   "execution_count": 20
  },
  {
   "metadata": {
    "ExecuteTime": {
     "end_time": "2025-02-25T23:05:03.079542Z",
     "start_time": "2025-02-25T23:05:02.877234Z"
    }
   },
   "cell_type": "code",
   "source": [
    "# Re-import necessary libraries after execution state reset\n",
    "import numpy as np\n",
    "import torch\n",
    "import torch.nn as nn\n",
    "import matplotlib.pyplot as plt\n",
    "\n",
    "# Define the ObservationEncoder model again\n",
    "class ObservationEncoder(nn.Module):\n",
    "    def __init__(self, input_dim):\n",
    "        super(ObservationEncoder, self).__init__()\n",
    "        latent_dim = max(8, input_dim // 2)\n",
    "\n",
    "        self.encoder = nn.Sequential(\n",
    "            nn.Linear(input_dim, 128),\n",
    "            nn.ReLU(),\n",
    "            nn.Linear(128, 64),\n",
    "            nn.ReLU(),\n",
    "            nn.Linear(64, latent_dim),\n",
    "            nn.ReLU()\n",
    "        )\n",
    "        self.decoder = nn.Sequential(\n",
    "            nn.Linear(latent_dim, 64),\n",
    "            nn.ReLU(),\n",
    "            nn.Linear(64, input_dim)  # Final layer should match input_dim\n",
    "        )\n",
    "\n",
    "    def forward(self, x):\n",
    "        encoded = self.encoder(x)\n",
    "        reconstructed = self.decoder(encoded)\n",
    "        return encoded, reconstructed\n",
    "\n",
    "# Simulated observation data (since state was reset)\n",
    "num_samples = 50\n",
    "input_dim = 10  # Use the previous input dimension\n",
    "observations = np.random.rand(num_samples, input_dim).astype(np.float32)\n",
    "observations_tensor = torch.tensor(observations, dtype=torch.float32)\n",
    "\n",
    "# Reinitialize model and encode features\n",
    "encoder_model = ObservationEncoder(input_dim)\n",
    "encoded_obs, reconstructed_obs = encoder_model(observations_tensor)\n",
    "\n",
    "# Select a sample observation (first observation in dataset)\n",
    "original_obs = observations_tensor[0].detach().numpy()\n",
    "reconstructed_obs = reconstructed_obs[0].detach().numpy()\n",
    "\n",
    "# Plot original vs reconstructed observation\n",
    "plt.figure(figsize=(10, 5))\n",
    "plt.plot(original_obs, label=\"Original Observation\", marker='o')\n",
    "plt.plot(reconstructed_obs, label=\"Reconstructed Observation\", marker='x', linestyle=\"dashed\")\n",
    "plt.xlabel(\"Feature Index\")\n",
    "plt.ylabel(\"Feature Value\")\n",
    "plt.title(\"Feature Encoding Quality: Original vs. Reconstructed Observation\")\n",
    "plt.legend()\n",
    "plt.grid(True)\n",
    "plt.show()\n"
   ],
   "id": "915398932a0a6183",
   "outputs": [
    {
     "data": {
      "text/plain": [
       "<Figure size 1000x500 with 1 Axes>"
      ],
      "image/png": "[encoded data removed]"
     },
     "metadata": {},
     "output_type": "display_data"
    }
   ],
   "execution_count": 24
  },
  {
   "metadata": {},
   "cell_type": "code",
   "outputs": [],
   "execution_count": null,
   "source": "",
   "id": "b3f08036f19cdf0c"
  }
 ],
 "metadata": {
  "kernelspec": {
   "display_name": "Python 3",
   "language": "python",
   "name": "python3"
  },
  "language_info": {
   "codemirror_mode": {
    "name": "ipython",
    "version": 2
   },
   "file_extension": ".py",
   "mimetype": "text/x-python",
   "name": "python",
   "nbconvert_exporter": "python",
   "pygments_lexer": "ipython2",
   "version": "2.7.6"
  }
 },
 "nbformat": 4,
 "nbformat_minor": 5
}
