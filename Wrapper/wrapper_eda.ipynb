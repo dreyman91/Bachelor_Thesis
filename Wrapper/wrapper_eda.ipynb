{
 "cells": [
  {
   "metadata": {
    "ExecuteTime": {
     "end_time": "2025-03-04T19:59:46.266770Z",
     "start_time": "2025-03-04T19:59:43.969421Z"
    }
   },
   "cell_type": "code",
   "source": [
    "\n",
    "# PROBABILISTIC MODEL TEST\n",
    "\n",
    "from pettingzoo.mpe import simple_spread_v3\n",
    "from Wrapper.comm_failure_api import CommunicationFailure\n",
    "\n",
    "env = simple_spread_v3.env()\n",
    "\n",
    "wrapped_env = CommunicationFailure(\n",
    "    env,\n",
    "    comms_model=\"probabilistic\",\n",
    "    failure_prob=0.3,\n",
    "    seed=42\n",
    ")\n",
    "\n",
    "wrapped_env.reset()\n",
    "\n",
    "for _ in range(25):\n",
    "    for agent in wrapped_env.agen_iter():\n",
    "        observation, rewards, terminations, truncations, info = wrapped_env.step(agent)\n",
    "        if not (terminations or truncations):\n",
    "            action = wrapped_env.action_space(agent).sample()\n",
    "            wrapped_env.step({agent: action})\n",
    "        else:\n",
    "            wrapped_env.step(agent)\n",
    "\n",
    "\n"
   ],
   "id": "800f324e00a54c45",
   "outputs": [
    {
     "ename": "UnboundLocalError",
     "evalue": "cannot access local variable 'infos' where it is not associated with a value",
     "output_type": "error",
     "traceback": [
      "\u001B[0;31m---------------------------------------------------------------------------\u001B[0m",
      "\u001B[0;31mUnboundLocalError\u001B[0m                         Traceback (most recent call last)",
      "Cell \u001B[0;32mIn[1], line 15\u001B[0m\n\u001B[1;32m      6\u001B[0m env \u001B[38;5;241m=\u001B[39m simple_spread_v3\u001B[38;5;241m.\u001B[39menv()\n\u001B[1;32m      8\u001B[0m wrapped_env \u001B[38;5;241m=\u001B[39m CommunicationFailure(\n\u001B[1;32m      9\u001B[0m     env,\n\u001B[1;32m     10\u001B[0m     comms_model\u001B[38;5;241m=\u001B[39m\u001B[38;5;124m\"\u001B[39m\u001B[38;5;124mprobabilistic\u001B[39m\u001B[38;5;124m\"\u001B[39m,\n\u001B[1;32m     11\u001B[0m     failure_prob\u001B[38;5;241m=\u001B[39m\u001B[38;5;241m0.3\u001B[39m,\n\u001B[1;32m     12\u001B[0m     seed\u001B[38;5;241m=\u001B[39m\u001B[38;5;241m42\u001B[39m\n\u001B[1;32m     13\u001B[0m )\n\u001B[0;32m---> 15\u001B[0m \u001B[43mwrapped_env\u001B[49m\u001B[38;5;241;43m.\u001B[39;49m\u001B[43mreset\u001B[49m\u001B[43m(\u001B[49m\u001B[43m)\u001B[49m\n\u001B[1;32m     17\u001B[0m \u001B[38;5;28;01mfor\u001B[39;00m _ \u001B[38;5;129;01min\u001B[39;00m \u001B[38;5;28mrange\u001B[39m(\u001B[38;5;241m25\u001B[39m):\n\u001B[1;32m     18\u001B[0m     \u001B[38;5;28;01mfor\u001B[39;00m agent \u001B[38;5;129;01min\u001B[39;00m wrapped_env\u001B[38;5;241m.\u001B[39magen_iter():\n",
      "File \u001B[0;32m~/PycharmProjects/Bachelor_Thesis/Wrapper/comm_failure_api.py:257\u001B[0m, in \u001B[0;36mCommunicationFailure.reset\u001B[0;34m(self, seed, options)\u001B[0m\n\u001B[1;32m    250\u001B[0m     observations \u001B[38;5;241m=\u001B[39m {agent: \u001B[38;5;28mself\u001B[39m\u001B[38;5;241m.\u001B[39menv\u001B[38;5;241m.\u001B[39mobserve(agent) \u001B[38;5;28;01mfor\u001B[39;00m agent \u001B[38;5;129;01min\u001B[39;00m \u001B[38;5;28mself\u001B[39m\u001B[38;5;241m.\u001B[39menv\u001B[38;5;241m.\u001B[39magents}\n\u001B[1;32m    252\u001B[0m \u001B[38;5;28mself\u001B[39m\u001B[38;5;241m.\u001B[39mactive_comms \u001B[38;5;241m=\u001B[39m \u001B[38;5;28mself\u001B[39m\u001B[38;5;241m.\u001B[39m_init_communication_state()\n\u001B[1;32m    254\u001B[0m \u001B[38;5;28;01mreturn\u001B[39;00m {\n\u001B[1;32m    255\u001B[0m     agent: \u001B[38;5;28mself\u001B[39m\u001B[38;5;241m.\u001B[39mmodify_observation(agent, obs)\n\u001B[1;32m    256\u001B[0m     \u001B[38;5;28;01mfor\u001B[39;00m agent, obs \u001B[38;5;129;01min\u001B[39;00m observations\u001B[38;5;241m.\u001B[39mitems()\n\u001B[0;32m--> 257\u001B[0m }, \u001B[43minfos\u001B[49m\n",
      "\u001B[0;31mUnboundLocalError\u001B[0m: cannot access local variable 'infos' where it is not associated with a value"
     ]
    }
   ],
   "execution_count": 1
  },
  {
   "metadata": {
    "ExecuteTime": {
     "end_time": "2025-03-04T19:33:45.636684Z",
     "start_time": "2025-03-04T19:33:45.625931Z"
    }
   },
   "cell_type": "code",
   "source": [
    "env = simple_spread_v3.env()\n",
    "\n",
    "returned_value = env.reset()\n",
    "print(\"What does env.reset() return?\", returned_value)\n"
   ],
   "id": "1ed940d0d7a5acb7",
   "outputs": [
    {
     "name": "stdout",
     "output_type": "stream",
     "text": [
      "What does env.reset() return? None\n"
     ]
    }
   ],
   "execution_count": 2
  },
  {
   "metadata": {},
   "cell_type": "code",
   "outputs": [],
   "execution_count": null,
   "source": "",
   "id": "5f79eeea6855274e"
  }
 ],
 "metadata": {
  "kernelspec": {
   "display_name": "Python 3",
   "language": "python",
   "name": "python3"
  },
  "language_info": {
   "codemirror_mode": {
    "name": "ipython",
    "version": 2
   },
   "file_extension": ".py",
   "mimetype": "text/x-python",
   "name": "python",
   "nbconvert_exporter": "python",
   "pygments_lexer": "ipython2",
   "version": "2.7.6"
  }
 },
 "nbformat": 4,
 "nbformat_minor": 5
}
