{
 "cells": [
  {
   "cell_type": "code",
   "id": "initial_id",
   "metadata": {
    "collapsed": true,
    "ExecuteTime": {
     "end_time": "2025-01-22T16:16:40.323941Z",
     "start_time": "2025-01-22T16:16:39.493208Z"
    }
   },
   "source": [
    "import pettingzoo\n",
    "print(pettingzoo.__version__)\n",
    "\n",
    "import seaborn as sns"
   ],
   "outputs": [
    {
     "name": "stdout",
     "output_type": "stream",
     "text": [
      "1.24.3\n"
     ]
    }
   ],
   "execution_count": 3
  },
  {
   "metadata": {
    "jupyter": {
     "is_executing": true
    }
   },
   "cell_type": "code",
   "source": [
    "# Loading the built-in environment from pettingzoo\n",
    "import pandas as pd\n",
    "from pettingzoo.mpe import simple_adversary_v3\n",
    "\n",
    "# load the environment\n",
    "env = simple_adversary_v3.env()\n",
    "\n",
    "# Reset environment\n",
    "env.reset()\n",
    "\n",
    "# Step through the environment using agent iter()\n",
    "\n",
    "for agent in env.agent_iter():\n",
    "    obs, reward, done,truncated, info = env.last() #get last agents info\n",
    "    \n",
    "    if done or truncated:\n",
    "        action = None\n",
    "    else:\n",
    "        action = env.action_space(agent).sample() #Select an action\n",
    "    env .step(action)\n",
    "\n",
    "\n",
    "for agent in env.agent_iter():\n",
    "    obs, reward, done, truncated, info = env.last()\n",
    "    if done or truncated:\n",
    "        action = None\n",
    "    else:\n",
    "        action = env.action_space(agent).sample()\n",
    "    env.step(action)\n",
    "    print(f\"{agent} took action {action} -> Reward: {reward}\")\n",
    "\n",
    "env.close()\n",
    "\n"
   ],
   "id": "a4d7a2ab07607400",
   "outputs": [],
   "execution_count": null
  },
  {
   "metadata": {
    "ExecuteTime": {
     "end_time": "2025-01-21T13:09:36.911568Z",
     "start_time": "2025-01-21T13:09:36.880198Z"
    }
   },
   "cell_type": "code",
   "source": [
    "print(\"Active Agents Before Reset\", env.agents)\n",
    "print(\"Possible  agents\", env.possible_agents)"
   ],
   "id": "1efbdac938dc2f1b",
   "outputs": [
    {
     "name": "stdout",
     "output_type": "stream",
     "text": [
      "Active Agents Before Reset []\n",
      "Possible  agents ['adversary_0', 'agent_0', 'agent_1']\n"
     ]
    }
   ],
   "execution_count": 7
  },
  {
   "metadata": {
    "ExecuteTime": {
     "end_time": "2025-01-21T13:09:39.658387Z",
     "start_time": "2025-01-21T13:09:39.626576Z"
    }
   },
   "cell_type": "code",
   "source": "env.reset() # Re-initializing the states of the agents ",
   "id": "c7032af55a9c2779",
   "outputs": [],
   "execution_count": 8
  },
  {
   "metadata": {
    "ExecuteTime": {
     "end_time": "2025-01-21T13:09:42.168104Z",
     "start_time": "2025-01-21T13:09:42.150594Z"
    }
   },
   "cell_type": "code",
   "source": [
    "print(\"Active Agents After Reset\", env.agents)\n",
    "print(\"Possible  agents\", env.possible_agents)"
   ],
   "id": "2943e7cc1a6d9fb2",
   "outputs": [
    {
     "name": "stdout",
     "output_type": "stream",
     "text": [
      "Active Agents After Reset ['adversary_0', 'agent_0', 'agent_1']\n",
      "Possible  agents ['adversary_0', 'agent_0', 'agent_1']\n"
     ]
    }
   ],
   "execution_count": 9
  },
  {
   "metadata": {
    "jupyter": {
     "is_executing": true
    }
   },
   "cell_type": "code",
   "source": [
    "obs = env.observe(\"agent_0\")\n",
    "df_matrix = pd.DataFrame(obs)\n",
    "print(\"Observation for agent 0\", df_matrix)"
   ],
   "id": "e2abfd0c82a6350",
   "outputs": [],
   "execution_count": null
  },
  {
   "metadata": {
    "ExecuteTime": {
     "end_time": "2025-01-21T13:30:11.173225Z",
     "start_time": "2025-01-21T13:30:11.089446Z"
    }
   },
   "cell_type": "code",
   "source": [
    "import numpy as np\n",
    "import pandas as pd\n",
    "\n",
    "# Store observations in a matrix\n",
    "obs_matrix = []\n",
    "\n",
    "for agent in env.agent_iter():\n",
    "    obs, reward, done, truncated, info = env.last()\n",
    "    action = None if done or truncated else env.action_space(agent).sample()\n",
    "\n",
    "    # Convert observation to a flat array (if needed)\n",
    "    obs_array = np.array(obs).flatten()  # Flatten if it's multi-dimensional\n",
    "    \n",
    "    # Append to matrix\n",
    "    obs_matrix.append(obs_array)\n",
    "\n",
    "    print(f\"Agent: {agent}, Done: {done}, Truncated: {truncated}, Action: {action}\")\n",
    "\n",
    "    env.step(action)\n",
    "\n",
    "env.close()\n",
    "\n",
    "# Convert to a DataFrame (Matrix Format)\n",
    "df_matrix = pd.DataFrame(obs_matrix)\n",
    "\n",
    "# Display the matrix format\n",
    "import ace_tools as tools\n",
    "tools.display_dataframe_to_user(name=\"Observation Matrix\", dataframe=df_matrix)\n"
   ],
   "id": "79242e98adec01e6",
   "outputs": [
    {
     "name": "stdout",
     "output_type": "stream",
     "text": [
      "Agent: adversary_0, Done: False, Truncated: False, Action: 1\n",
      "Agent: agent_0, Done: False, Truncated: False, Action: 0\n",
      "Agent: agent_1, Done: False, Truncated: False, Action: 1\n",
      "Agent: adversary_0, Done: False, Truncated: False, Action: 2\n",
      "Agent: agent_0, Done: False, Truncated: False, Action: 4\n",
      "Agent: agent_1, Done: False, Truncated: False, Action: 3\n",
      "Agent: adversary_0, Done: False, Truncated: False, Action: 3\n",
      "Agent: agent_0, Done: False, Truncated: False, Action: 4\n",
      "Agent: agent_1, Done: False, Truncated: False, Action: 3\n",
      "Agent: adversary_0, Done: False, Truncated: False, Action: 3\n",
      "Agent: agent_0, Done: False, Truncated: False, Action: 0\n",
      "Agent: agent_1, Done: False, Truncated: False, Action: 0\n",
      "Agent: adversary_0, Done: False, Truncated: False, Action: 2\n",
      "Agent: agent_0, Done: False, Truncated: False, Action: 3\n",
      "Agent: agent_1, Done: False, Truncated: False, Action: 3\n",
      "Agent: adversary_0, Done: False, Truncated: False, Action: 2\n",
      "Agent: agent_0, Done: False, Truncated: False, Action: 3\n",
      "Agent: agent_1, Done: False, Truncated: False, Action: 4\n",
      "Agent: adversary_0, Done: False, Truncated: False, Action: 4\n",
      "Agent: agent_0, Done: False, Truncated: False, Action: 1\n",
      "Agent: agent_1, Done: False, Truncated: False, Action: 1\n",
      "Agent: adversary_0, Done: False, Truncated: False, Action: 4\n",
      "Agent: agent_0, Done: False, Truncated: False, Action: 2\n",
      "Agent: agent_1, Done: False, Truncated: False, Action: 0\n",
      "Agent: adversary_0, Done: False, Truncated: False, Action: 2\n",
      "Agent: agent_0, Done: False, Truncated: False, Action: 0\n",
      "Agent: agent_1, Done: False, Truncated: False, Action: 1\n",
      "Agent: adversary_0, Done: False, Truncated: False, Action: 2\n",
      "Agent: agent_0, Done: False, Truncated: False, Action: 4\n",
      "Agent: agent_1, Done: False, Truncated: False, Action: 4\n",
      "Agent: adversary_0, Done: False, Truncated: False, Action: 4\n",
      "Agent: agent_0, Done: False, Truncated: False, Action: 1\n",
      "Agent: agent_1, Done: False, Truncated: False, Action: 1\n",
      "Agent: adversary_0, Done: False, Truncated: False, Action: 2\n",
      "Agent: agent_0, Done: False, Truncated: False, Action: 2\n",
      "Agent: agent_1, Done: False, Truncated: False, Action: 1\n",
      "Agent: adversary_0, Done: False, Truncated: False, Action: 3\n",
      "Agent: agent_0, Done: False, Truncated: False, Action: 1\n",
      "Agent: agent_1, Done: False, Truncated: False, Action: 1\n",
      "Agent: adversary_0, Done: False, Truncated: False, Action: 4\n",
      "Agent: agent_0, Done: False, Truncated: False, Action: 2\n",
      "Agent: agent_1, Done: False, Truncated: False, Action: 1\n",
      "Agent: adversary_0, Done: False, Truncated: False, Action: 0\n",
      "Agent: agent_0, Done: False, Truncated: False, Action: 1\n",
      "Agent: agent_1, Done: False, Truncated: False, Action: 3\n",
      "Agent: adversary_0, Done: False, Truncated: False, Action: 0\n",
      "Agent: agent_0, Done: False, Truncated: False, Action: 1\n",
      "Agent: agent_1, Done: False, Truncated: False, Action: 0\n",
      "Agent: adversary_0, Done: False, Truncated: False, Action: 0\n",
      "Agent: agent_0, Done: False, Truncated: False, Action: 3\n",
      "Agent: agent_1, Done: False, Truncated: False, Action: 2\n",
      "Agent: adversary_0, Done: False, Truncated: False, Action: 0\n",
      "Agent: agent_0, Done: False, Truncated: False, Action: 4\n",
      "Agent: agent_1, Done: False, Truncated: False, Action: 4\n",
      "Agent: adversary_0, Done: False, Truncated: False, Action: 1\n",
      "Agent: agent_0, Done: False, Truncated: False, Action: 4\n",
      "Agent: agent_1, Done: False, Truncated: False, Action: 0\n",
      "Agent: adversary_0, Done: False, Truncated: False, Action: 2\n",
      "Agent: agent_0, Done: False, Truncated: False, Action: 2\n",
      "Agent: agent_1, Done: False, Truncated: False, Action: 0\n",
      "Agent: adversary_0, Done: False, Truncated: False, Action: 4\n",
      "Agent: agent_0, Done: False, Truncated: False, Action: 2\n",
      "Agent: agent_1, Done: False, Truncated: False, Action: 2\n",
      "Agent: adversary_0, Done: False, Truncated: False, Action: 2\n",
      "Agent: agent_0, Done: False, Truncated: False, Action: 1\n",
      "Agent: agent_1, Done: False, Truncated: False, Action: 1\n",
      "Agent: adversary_0, Done: False, Truncated: False, Action: 2\n",
      "Agent: agent_0, Done: False, Truncated: False, Action: 4\n",
      "Agent: agent_1, Done: False, Truncated: False, Action: 0\n",
      "Agent: adversary_0, Done: False, Truncated: False, Action: 2\n",
      "Agent: agent_0, Done: False, Truncated: False, Action: 3\n",
      "Agent: agent_1, Done: False, Truncated: False, Action: 0\n",
      "Agent: adversary_0, Done: False, Truncated: False, Action: 2\n",
      "Agent: agent_0, Done: False, Truncated: False, Action: 0\n",
      "Agent: agent_1, Done: False, Truncated: False, Action: 2\n",
      "Agent: adversary_0, Done: False, Truncated: True, Action: None\n",
      "Agent: agent_0, Done: False, Truncated: True, Action: None\n",
      "Agent: agent_1, Done: False, Truncated: True, Action: None\n"
     ]
    },
    {
     "ename": "ModuleNotFoundError",
     "evalue": "No module named 'ace_tools'",
     "output_type": "error",
     "traceback": [
      "\u001B[1;31m---------------------------------------------------------------------------\u001B[0m",
      "\u001B[1;31mModuleNotFoundError\u001B[0m                       Traceback (most recent call last)",
      "Cell \u001B[1;32mIn[11], line 27\u001B[0m\n\u001B[0;32m     24\u001B[0m df_matrix \u001B[38;5;241m=\u001B[39m pd\u001B[38;5;241m.\u001B[39mDataFrame(obs_matrix)\n\u001B[0;32m     26\u001B[0m \u001B[38;5;66;03m# Display the matrix format\u001B[39;00m\n\u001B[1;32m---> 27\u001B[0m \u001B[38;5;28;01mimport\u001B[39;00m\u001B[38;5;250m \u001B[39m\u001B[38;5;21;01mace_tools\u001B[39;00m\u001B[38;5;250m \u001B[39m\u001B[38;5;28;01mas\u001B[39;00m\u001B[38;5;250m \u001B[39m\u001B[38;5;21;01mtools\u001B[39;00m\n\u001B[0;32m     28\u001B[0m tools\u001B[38;5;241m.\u001B[39mdisplay_dataframe_to_user(name\u001B[38;5;241m=\u001B[39m\u001B[38;5;124m\"\u001B[39m\u001B[38;5;124mObservation Matrix\u001B[39m\u001B[38;5;124m\"\u001B[39m, dataframe\u001B[38;5;241m=\u001B[39mdf_matrix)\n",
      "\u001B[1;31mModuleNotFoundError\u001B[0m: No module named 'ace_tools'"
     ]
    }
   ],
   "execution_count": 11
  },
  {
   "metadata": {
    "ExecuteTime": {
     "end_time": "2025-01-21T12:56:46.118873Z",
     "start_time": "2025-01-21T12:56:41.863797Z"
    }
   },
   "cell_type": "code",
   "source": "import matplotlib.pyplot as plt",
   "id": "7e1f418eea310e21",
   "outputs": [],
   "execution_count": 4
  },
  {
   "metadata": {
    "ExecuteTime": {
     "end_time": "2025-01-21T14:55:55.915362Z",
     "start_time": "2025-01-21T14:55:55.876130Z"
    }
   },
   "cell_type": "code",
   "source": [
    "#Testing the API\n",
    "env = SimpleAECEnv()\n",
    "env.reset()\n",
    "\n",
    "for agent in env.agent_iter():\n",
    "    print(f\"Current agent: {agent}\")\n",
    "    obs = env.observe(agent)\n",
    "    print(obs)\n",
    "    action = input(\"Enter an action(move/quit): \")\n",
    "    env.step(action)"
   ],
   "id": "cfda0df0f0a59953",
   "outputs": [
    {
     "ename": "NameError",
     "evalue": "name 'SimpleAECEnv' is not defined",
     "output_type": "error",
     "traceback": [
      "\u001B[1;31m---------------------------------------------------------------------------\u001B[0m",
      "\u001B[1;31mNameError\u001B[0m                                 Traceback (most recent call last)",
      "Cell \u001B[1;32mIn[17], line 2\u001B[0m\n\u001B[0;32m      1\u001B[0m \u001B[38;5;66;03m#Testing the API\u001B[39;00m\n\u001B[1;32m----> 2\u001B[0m env \u001B[38;5;241m=\u001B[39m \u001B[43mSimpleAECEnv\u001B[49m()\n\u001B[0;32m      3\u001B[0m env\u001B[38;5;241m.\u001B[39mreset()\n\u001B[0;32m      5\u001B[0m \u001B[38;5;28;01mfor\u001B[39;00m agent \u001B[38;5;129;01min\u001B[39;00m env\u001B[38;5;241m.\u001B[39magent_iter():\n",
      "\u001B[1;31mNameError\u001B[0m: name 'SimpleAECEnv' is not defined"
     ]
    }
   ],
   "execution_count": 17
  },
  {
   "metadata": {
    "ExecuteTime": {
     "end_time": "2025-01-22T16:36:16.147203Z",
     "start_time": "2025-01-22T16:36:16.140867Z"
    }
   },
   "cell_type": "code",
   "source": "from Custom_API.AEC_API.RobotEnv_Converted_to_PettingZoo_AEC import RobotFactoryEnv\n",
   "id": "293e5131e409dba3",
   "outputs": [],
   "execution_count": 9
  },
  {
   "metadata": {
    "ExecuteTime": {
     "end_time": "2025-01-22T16:36:25.253551Z",
     "start_time": "2025-01-22T16:36:25.209602Z"
    }
   },
   "cell_type": "code",
   "source": "env = RobotFactoryEnv()",
   "id": "6d7624f0b2ca3b30",
   "outputs": [
    {
     "ename": "NameError",
     "evalue": "name 'agent' is not defined",
     "output_type": "error",
     "traceback": [
      "\u001B[0;31m---------------------------------------------------------------------------\u001B[0m",
      "\u001B[0;31mNameError\u001B[0m                                 Traceback (most recent call last)",
      "Cell \u001B[0;32mIn[10], line 1\u001B[0m\n\u001B[0;32m----> 1\u001B[0m env \u001B[38;5;241m=\u001B[39m \u001B[43mRobotFactoryEnv\u001B[49m\u001B[43m(\u001B[49m\u001B[43m)\u001B[49m\n",
      "File \u001B[0;32m~/myenv/Bachelor_Thesis/Custom_API/AEC_API/RobotEnv_Converted_to_PettingZoo_AEC.py:19\u001B[0m, in \u001B[0;36mRobotFactoryEnv.__init__\u001B[0;34m(self)\u001B[0m\n\u001B[1;32m     17\u001B[0m \u001B[38;5;28mself\u001B[39m\u001B[38;5;241m.\u001B[39mtask_status \u001B[38;5;241m=\u001B[39m {agent: \u001B[38;5;124m\"\u001B[39m\u001B[38;5;124mIdle\u001B[39m\u001B[38;5;124m\"\u001B[39m \u001B[38;5;28;01mfor\u001B[39;00m agent \u001B[38;5;129;01min\u001B[39;00m \u001B[38;5;28mself\u001B[39m\u001B[38;5;241m.\u001B[39magents}\n\u001B[1;32m     18\u001B[0m \u001B[38;5;28mself\u001B[39m\u001B[38;5;241m.\u001B[39menergy_levels \u001B[38;5;241m=\u001B[39m {agent: \u001B[38;5;241m100\u001B[39m \u001B[38;5;28;01mfor\u001B[39;00m agent \u001B[38;5;129;01min\u001B[39;00m \u001B[38;5;28mself\u001B[39m\u001B[38;5;241m.\u001B[39magents}\n\u001B[0;32m---> 19\u001B[0m \u001B[38;5;28mself\u001B[39m\u001B[38;5;241m.\u001B[39mtask_queue \u001B[38;5;241m=\u001B[39m {\u001B[43magent\u001B[49m: [random\u001B[38;5;241m.\u001B[39mchoice([\u001B[38;5;124m\"\u001B[39m\u001B[38;5;124mPick\u001B[39m\u001B[38;5;124m\"\u001B[39m, \u001B[38;5;124m\"\u001B[39m\u001B[38;5;124mMove\u001B[39m\u001B[38;5;124m\"\u001B[39m, \u001B[38;5;124m\"\u001B[39m\u001B[38;5;124mAssemble Part\u001B[39m\u001B[38;5;124m\"\u001B[39m,\n\u001B[1;32m     20\u001B[0m                                         \u001B[38;5;124m\"\u001B[39m\u001B[38;5;124mInspect Quality\u001B[39m\u001B[38;5;124m\"\u001B[39m, \u001B[38;5;124m\"\u001B[39m\u001B[38;5;124mCharge\u001B[39m\u001B[38;5;124m\"\u001B[39m]) \u001B[38;5;28;01mfor\u001B[39;00m _ \u001B[38;5;129;01min\u001B[39;00m \u001B[38;5;28mrange\u001B[39m(\u001B[38;5;241m3\u001B[39m)]}\n\u001B[1;32m     21\u001B[0m \u001B[38;5;28mself\u001B[39m\u001B[38;5;241m.\u001B[39mobstacles \u001B[38;5;241m=\u001B[39m {\u001B[38;5;124mf\u001B[39m\u001B[38;5;124m\"\u001B[39m\u001B[38;5;124mobstacle_\u001B[39m\u001B[38;5;132;01m{\u001B[39;00mrandom\u001B[38;5;241m.\u001B[39mrandint(\u001B[38;5;241m1\u001B[39m,\u001B[38;5;250m \u001B[39m\u001B[38;5;241m10\u001B[39m)\u001B[38;5;132;01m}\u001B[39;00m\u001B[38;5;124m\"\u001B[39m \u001B[38;5;28;01mfor\u001B[39;00m _ \u001B[38;5;129;01min\u001B[39;00m \u001B[38;5;28mrange\u001B[39m(\u001B[38;5;241m3\u001B[39m)}\n\u001B[1;32m     24\u001B[0m \u001B[38;5;66;03m# Define action and observation spaces\u001B[39;00m\n",
      "\u001B[0;31mNameError\u001B[0m: name 'agent' is not defined"
     ]
    }
   ],
   "execution_count": 10
  },
  {
   "metadata": {},
   "cell_type": "code",
   "outputs": [],
   "execution_count": null,
   "source": "",
   "id": "9bf6dc3f7ee9bc51"
  }
 ],
 "metadata": {
  "kernelspec": {
   "display_name": "Python 3",
   "language": "python",
   "name": "python3"
  },
  "language_info": {
   "codemirror_mode": {
    "name": "ipython",
    "version": 2
   },
   "file_extension": ".py",
   "mimetype": "text/x-python",
   "name": "python",
   "nbconvert_exporter": "python",
   "pygments_lexer": "ipython2",
   "version": "2.7.6"
  }
 },
 "nbformat": 4,
 "nbformat_minor": 5
}
