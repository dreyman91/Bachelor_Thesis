{
 "cells": [
  {
   "cell_type": "code",
   "execution_count": 1,
   "id": "initial_id",
   "metadata": {
    "ExecuteTime": {
     "end_time": "2025-01-22T16:16:40.323941Z",
     "start_time": "2025-01-22T16:16:39.493208Z"
    }
   },
   "outputs": [
    {
     "name": "stdout",
     "output_type": "stream",
     "text": [
      "1.24.3\n"
     ]
    }
   ],
   "source": [
    "import pettingzoo\n",
    "print(pettingzoo.__version__)\n",
    "\n",
    "import seaborn as sns"
   ]
  },
  {
   "cell_type": "code",
   "execution_count": null,
   "id": "a4d7a2ab07607400",
   "metadata": {
    "jupyter": {
     "is_executing": true
    }
   },
   "outputs": [],
   "source": [
    "# Loading the built-in environment from pettingzoo\n",
    "import pandas as pd\n",
    "from pettingzoo.mpe import simple_adversary_v3\n",
    "\n",
    "# load the environment\n",
    "env = simple_adversary_v3.env()\n",
    "\n",
    "# Reset environment\n",
    "env.reset()\n",
    "\n",
    "# Step through the environment using agent iter()\n",
    "\n",
    "for agent in env.agent_iter():\n",
    "    obs, reward, done,truncated, info = env.last() #get last agents info\n",
    "    \n",
    "    if done or truncated:\n",
    "        action = None\n",
    "    else:\n",
    "        action = env.action_space(agent).sample() #Select an action\n",
    "    env .step(action)\n",
    "\n",
    "\n",
    "for agent in env.agent_iter():\n",
    "    obs, reward, done, truncated, info = env.last()\n",
    "    if done or truncated:\n",
    "        action = None\n",
    "    else:\n",
    "        action = env.action_space(agent).sample()\n",
    "    env.step(action)\n",
    "    print(f\"{agent} took action {action} -> Reward: {reward}\")\n",
    "\n",
    "env.close()\n",
    "\n"
   ]
  },
  {
   "cell_type": "code",
   "execution_count": 7,
   "id": "1efbdac938dc2f1b",
   "metadata": {
    "ExecuteTime": {
     "end_time": "2025-01-21T13:09:36.911568Z",
     "start_time": "2025-01-21T13:09:36.880198Z"
    }
   },
   "outputs": [
    {
     "name": "stdout",
     "output_type": "stream",
     "text": [
      "Active Agents Before Reset []\n",
      "Possible  agents ['adversary_0', 'agent_0', 'agent_1']\n"
     ]
    }
   ],
   "source": [
    "print(\"Active Agents Before Reset\", env.agents)\n",
    "print(\"Possible  agents\", env.possible_agents)"
   ]
  },
  {
   "cell_type": "code",
   "execution_count": 8,
   "id": "c7032af55a9c2779",
   "metadata": {
    "ExecuteTime": {
     "end_time": "2025-01-21T13:09:39.658387Z",
     "start_time": "2025-01-21T13:09:39.626576Z"
    }
   },
   "outputs": [],
   "source": [
    "env.reset() # Re-initializing the states of the agents "
   ]
  },
  {
   "cell_type": "code",
   "execution_count": 9,
   "id": "2943e7cc1a6d9fb2",
   "metadata": {
    "ExecuteTime": {
     "end_time": "2025-01-21T13:09:42.168104Z",
     "start_time": "2025-01-21T13:09:42.150594Z"
    }
   },
   "outputs": [
    {
     "name": "stdout",
     "output_type": "stream",
     "text": [
      "Active Agents After Reset ['adversary_0', 'agent_0', 'agent_1']\n",
      "Possible  agents ['adversary_0', 'agent_0', 'agent_1']\n"
     ]
    }
   ],
   "source": [
    "print(\"Active Agents After Reset\", env.agents)\n",
    "print(\"Possible  agents\", env.possible_agents)"
   ]
  },
  {
   "cell_type": "code",
   "execution_count": null,
   "id": "e2abfd0c82a6350",
   "metadata": {
    "jupyter": {
     "is_executing": true
    }
   },
   "outputs": [],
   "source": [
    "obs = env.observe(\"agent_0\")\n",
    "df_matrix = pd.DataFrame(obs)\n",
    "print(\"Observation for agent 0\", df_matrix)"
   ]
  },
  {
   "cell_type": "code",
   "execution_count": 2,
   "id": "79242e98adec01e6",
   "metadata": {
    "ExecuteTime": {
     "end_time": "2025-01-21T13:30:11.173225Z",
     "start_time": "2025-01-21T13:30:11.089446Z"
    }
   },
   "outputs": [
    {
     "ename": "NameError",
     "evalue": "name 'env' is not defined",
     "output_type": "error",
     "traceback": [
      "\u001B[0;31m---------------------------------------------------------------------------\u001B[0m",
      "\u001B[0;31mNameError\u001B[0m                                 Traceback (most recent call last)",
      "Cell \u001B[0;32mIn[2], line 7\u001B[0m\n\u001B[1;32m      4\u001B[0m \u001B[38;5;66;03m# Store observations in a matrix\u001B[39;00m\n\u001B[1;32m      5\u001B[0m obs_matrix \u001B[38;5;241m=\u001B[39m []\n\u001B[0;32m----> 7\u001B[0m \u001B[38;5;28;01mfor\u001B[39;00m agent \u001B[38;5;129;01min\u001B[39;00m \u001B[43menv\u001B[49m\u001B[38;5;241m.\u001B[39magent_iter():\n\u001B[1;32m      8\u001B[0m     obs, reward, done, truncated, info \u001B[38;5;241m=\u001B[39m env\u001B[38;5;241m.\u001B[39mlast()\n\u001B[1;32m      9\u001B[0m     action \u001B[38;5;241m=\u001B[39m \u001B[38;5;28;01mNone\u001B[39;00m \u001B[38;5;28;01mif\u001B[39;00m done \u001B[38;5;129;01mor\u001B[39;00m truncated \u001B[38;5;28;01melse\u001B[39;00m env\u001B[38;5;241m.\u001B[39maction_space(agent)\u001B[38;5;241m.\u001B[39msample()\n",
      "\u001B[0;31mNameError\u001B[0m: name 'env' is not defined"
     ]
    }
   ],
   "source": [
    "import numpy as np\n",
    "import pandas as pd\n",
    "\n",
    "# Store observations in a matrix\n",
    "obs_matrix = []\n",
    "\n",
    "for agent in env.agent_iter():\n",
    "    obs, reward, done, truncated, info = env.last()\n",
    "    action = None if done or truncated else env.action_space(agent).sample()\n",
    "\n",
    "    # Convert observation to a flat array (if needed)\n",
    "    obs_array = np.array(obs).flatten()  # Flatten if it's multi-dimensional\n",
    "    \n",
    "    # Append to matrix\n",
    "    obs_matrix.append(obs_array)\n",
    "\n",
    "    print(f\"Agent: {agent}, Done: {done}, Truncated: {truncated}, Action: {action}\")\n",
    "\n",
    "    env.step(action)\n",
    "\n",
    "env.close()\n",
    "\n",
    "# Convert to a DataFrame (Matrix Format)\n",
    "df_matrix = pd.DataFrame(obs_matrix)\n",
    "\n",
    "# Display the matrix format\n",
    "import ace_tools as tools\n",
    "tools.display_dataframe_to_user(name=\"Observation Matrix\", dataframe=df_matrix)\n"
   ]
  },
  {
   "cell_type": "code",
   "id": "7e1f418eea310e21",
   "metadata": {
    "ExecuteTime": {
     "end_time": "2025-01-24T12:24:38.897971Z",
     "start_time": "2025-01-24T12:24:38.568532Z"
    }
   },
   "source": [
    "import matplotlib.pyplot as plt"
   ],
   "outputs": [
    {
     "ename": "ImportError",
     "evalue": "Error importing numpy: you should not try to import numpy from\n        its source directory; please exit the numpy source tree, and relaunch\n        your python interpreter from there.",
     "output_type": "error",
     "traceback": [
      "\u001B[0;31m---------------------------------------------------------------------------\u001B[0m",
      "\u001B[0;31mModuleNotFoundError\u001B[0m                       Traceback (most recent call last)",
      "File \u001B[0;32m/usr/lib/python3/dist-packages/numpy/core/__init__.py:24\u001B[0m\n\u001B[1;32m     23\u001B[0m \u001B[38;5;28;01mtry\u001B[39;00m:\n\u001B[0;32m---> 24\u001B[0m     \u001B[38;5;28;01mfrom\u001B[39;00m \u001B[38;5;21;01m.\u001B[39;00m \u001B[38;5;28;01mimport\u001B[39;00m multiarray\n\u001B[1;32m     25\u001B[0m \u001B[38;5;28;01mexcept\u001B[39;00m \u001B[38;5;167;01mImportError\u001B[39;00m \u001B[38;5;28;01mas\u001B[39;00m exc:\n",
      "File \u001B[0;32m/usr/lib/python3/dist-packages/numpy/core/multiarray.py:10\u001B[0m\n\u001B[1;32m      9\u001B[0m \u001B[38;5;28;01mimport\u001B[39;00m \u001B[38;5;21;01mfunctools\u001B[39;00m\n\u001B[0;32m---> 10\u001B[0m \u001B[38;5;28;01mfrom\u001B[39;00m \u001B[38;5;21;01m.\u001B[39;00m \u001B[38;5;28;01mimport\u001B[39;00m overrides\n\u001B[1;32m     11\u001B[0m \u001B[38;5;28;01mfrom\u001B[39;00m \u001B[38;5;21;01m.\u001B[39;00m \u001B[38;5;28;01mimport\u001B[39;00m _multiarray_umath\n",
      "File \u001B[0;32m/usr/lib/python3/dist-packages/numpy/core/overrides.py:8\u001B[0m\n\u001B[1;32m      7\u001B[0m \u001B[38;5;28;01mfrom\u001B[39;00m \u001B[38;5;21;01m.\u001B[39;00m\u001B[38;5;21;01m.\u001B[39;00m\u001B[38;5;21;01m_utils\u001B[39;00m\u001B[38;5;21;01m.\u001B[39;00m\u001B[38;5;21;01m_inspect\u001B[39;00m \u001B[38;5;28;01mimport\u001B[39;00m getargspec\n\u001B[0;32m----> 8\u001B[0m \u001B[38;5;28;01mfrom\u001B[39;00m \u001B[38;5;21;01mnumpy\u001B[39;00m\u001B[38;5;21;01m.\u001B[39;00m\u001B[38;5;21;01mcore\u001B[39;00m\u001B[38;5;21;01m.\u001B[39;00m\u001B[38;5;21;01m_multiarray_umath\u001B[39;00m \u001B[38;5;28;01mimport\u001B[39;00m (\n\u001B[1;32m      9\u001B[0m     add_docstring,  _get_implementing_args, _ArrayFunctionDispatcher)\n\u001B[1;32m     12\u001B[0m ARRAY_FUNCTIONS \u001B[38;5;241m=\u001B[39m \u001B[38;5;28mset\u001B[39m()\n",
      "\u001B[0;31mModuleNotFoundError\u001B[0m: No module named 'numpy.core._multiarray_umath'",
      "\nDuring handling of the above exception, another exception occurred:\n",
      "\u001B[0;31mImportError\u001B[0m                               Traceback (most recent call last)",
      "File \u001B[0;32m/usr/lib/python3/dist-packages/numpy/__init__.py:130\u001B[0m\n\u001B[1;32m    129\u001B[0m \u001B[38;5;28;01mtry\u001B[39;00m:\n\u001B[0;32m--> 130\u001B[0m     \u001B[38;5;28;01mfrom\u001B[39;00m \u001B[38;5;21;01mnumpy\u001B[39;00m\u001B[38;5;21;01m.\u001B[39;00m\u001B[38;5;21;01m__config__\u001B[39;00m \u001B[38;5;28;01mimport\u001B[39;00m show \u001B[38;5;28;01mas\u001B[39;00m show_config\n\u001B[1;32m    131\u001B[0m \u001B[38;5;28;01mexcept\u001B[39;00m \u001B[38;5;167;01mImportError\u001B[39;00m \u001B[38;5;28;01mas\u001B[39;00m e:\n",
      "File \u001B[0;32m/usr/lib/python3/dist-packages/numpy/__config__.py:4\u001B[0m\n\u001B[1;32m      3\u001B[0m \u001B[38;5;28;01mfrom\u001B[39;00m \u001B[38;5;21;01menum\u001B[39;00m \u001B[38;5;28;01mimport\u001B[39;00m Enum\n\u001B[0;32m----> 4\u001B[0m \u001B[38;5;28;01mfrom\u001B[39;00m \u001B[38;5;21;01mnumpy\u001B[39;00m\u001B[38;5;21;01m.\u001B[39;00m\u001B[38;5;21;01mcore\u001B[39;00m\u001B[38;5;21;01m.\u001B[39;00m\u001B[38;5;21;01m_multiarray_umath\u001B[39;00m \u001B[38;5;28;01mimport\u001B[39;00m (\n\u001B[1;32m      5\u001B[0m     __cpu_features__,\n\u001B[1;32m      6\u001B[0m     __cpu_baseline__,\n\u001B[1;32m      7\u001B[0m     __cpu_dispatch__,\n\u001B[1;32m      8\u001B[0m )\n\u001B[1;32m     10\u001B[0m __all__ \u001B[38;5;241m=\u001B[39m [\u001B[38;5;124m\"\u001B[39m\u001B[38;5;124mshow\u001B[39m\u001B[38;5;124m\"\u001B[39m]\n",
      "File \u001B[0;32m/usr/lib/python3/dist-packages/numpy/core/__init__.py:50\u001B[0m\n\u001B[1;32m     27\u001B[0m     msg \u001B[38;5;241m=\u001B[39m \u001B[38;5;124m\"\"\"\u001B[39m\n\u001B[1;32m     28\u001B[0m \n\u001B[1;32m     29\u001B[0m \u001B[38;5;124mIMPORTANT: PLEASE READ THIS FOR ADVICE ON HOW TO SOLVE THIS ISSUE!\u001B[39m\n\u001B[0;32m   (...)\u001B[0m\n\u001B[1;32m     48\u001B[0m \u001B[38;5;124m\"\"\"\u001B[39m \u001B[38;5;241m%\u001B[39m (sys\u001B[38;5;241m.\u001B[39mversion_info[\u001B[38;5;241m0\u001B[39m], sys\u001B[38;5;241m.\u001B[39mversion_info[\u001B[38;5;241m1\u001B[39m], sys\u001B[38;5;241m.\u001B[39mexecutable,\n\u001B[1;32m     49\u001B[0m         __version__, exc)\n\u001B[0;32m---> 50\u001B[0m     \u001B[38;5;28;01mraise\u001B[39;00m \u001B[38;5;167;01mImportError\u001B[39;00m(msg)\n\u001B[1;32m     51\u001B[0m \u001B[38;5;28;01mfinally\u001B[39;00m:\n",
      "\u001B[0;31mImportError\u001B[0m: \n\nIMPORTANT: PLEASE READ THIS FOR ADVICE ON HOW TO SOLVE THIS ISSUE!\n\nImporting the numpy C-extensions failed. This error can happen for\nmany reasons, often due to issues with your setup or how NumPy was\ninstalled.\n\nWe have compiled some common reasons and troubleshooting tips at:\n\n    https://numpy.org/devdocs/user/troubleshooting-importerror.html\n\nPlease note and check the following:\n\n  * The Python version is: Python3.11 from \"/usr/bin/python3.11\"\n  * The NumPy version is: \"1.26.4\"\n\nand make sure that they are the versions you expect.\nPlease carefully study the documentation linked above for further help.\n\nOriginal error was: No module named 'numpy.core._multiarray_umath'\n",
      "\nThe above exception was the direct cause of the following exception:\n",
      "\u001B[0;31mImportError\u001B[0m                               Traceback (most recent call last)",
      "Cell \u001B[0;32mIn[1], line 1\u001B[0m\n\u001B[0;32m----> 1\u001B[0m \u001B[38;5;28;01mimport\u001B[39;00m \u001B[38;5;21;01mmatplotlib\u001B[39;00m\u001B[38;5;21;01m.\u001B[39;00m\u001B[38;5;21;01mpyplot\u001B[39;00m \u001B[38;5;28;01mas\u001B[39;00m \u001B[38;5;21;01mplt\u001B[39;00m\n",
      "File \u001B[0;32m/usr/lib/python3/dist-packages/matplotlib/__init__.py:108\u001B[0m\n\u001B[1;32m    105\u001B[0m \u001B[38;5;28;01mimport\u001B[39;00m \u001B[38;5;21;01mtempfile\u001B[39;00m\n\u001B[1;32m    106\u001B[0m \u001B[38;5;28;01mimport\u001B[39;00m \u001B[38;5;21;01mwarnings\u001B[39;00m\n\u001B[0;32m--> 108\u001B[0m \u001B[38;5;28;01mimport\u001B[39;00m \u001B[38;5;21;01mnumpy\u001B[39;00m\n\u001B[1;32m    109\u001B[0m \u001B[38;5;28;01mfrom\u001B[39;00m \u001B[38;5;21;01mpackaging\u001B[39;00m\u001B[38;5;21;01m.\u001B[39;00m\u001B[38;5;21;01mversion\u001B[39;00m \u001B[38;5;28;01mimport\u001B[39;00m parse \u001B[38;5;28;01mas\u001B[39;00m parse_version\n\u001B[1;32m    111\u001B[0m \u001B[38;5;66;03m# cbook must import matplotlib only within function\u001B[39;00m\n\u001B[1;32m    112\u001B[0m \u001B[38;5;66;03m# definitions, so it is safe to import from it here.\u001B[39;00m\n",
      "File \u001B[0;32m/usr/lib/python3/dist-packages/numpy/__init__.py:135\u001B[0m\n\u001B[1;32m    131\u001B[0m \u001B[38;5;28;01mexcept\u001B[39;00m \u001B[38;5;167;01mImportError\u001B[39;00m \u001B[38;5;28;01mas\u001B[39;00m e:\n\u001B[1;32m    132\u001B[0m     msg \u001B[38;5;241m=\u001B[39m \u001B[38;5;124m\"\"\"\u001B[39m\u001B[38;5;124mError importing numpy: you should not try to import numpy from\u001B[39m\n\u001B[1;32m    133\u001B[0m \u001B[38;5;124m    its source directory; please exit the numpy source tree, and relaunch\u001B[39m\n\u001B[1;32m    134\u001B[0m \u001B[38;5;124m    your python interpreter from there.\u001B[39m\u001B[38;5;124m\"\"\"\u001B[39m\n\u001B[0;32m--> 135\u001B[0m     \u001B[38;5;28;01mraise\u001B[39;00m \u001B[38;5;167;01mImportError\u001B[39;00m(msg) \u001B[38;5;28;01mfrom\u001B[39;00m \u001B[38;5;21;01me\u001B[39;00m\n\u001B[1;32m    137\u001B[0m __all__ \u001B[38;5;241m=\u001B[39m [\n\u001B[1;32m    138\u001B[0m     \u001B[38;5;124m'\u001B[39m\u001B[38;5;124mexceptions\u001B[39m\u001B[38;5;124m'\u001B[39m, \u001B[38;5;124m'\u001B[39m\u001B[38;5;124mModuleDeprecationWarning\u001B[39m\u001B[38;5;124m'\u001B[39m, \u001B[38;5;124m'\u001B[39m\u001B[38;5;124mVisibleDeprecationWarning\u001B[39m\u001B[38;5;124m'\u001B[39m,\n\u001B[1;32m    139\u001B[0m     \u001B[38;5;124m'\u001B[39m\u001B[38;5;124mComplexWarning\u001B[39m\u001B[38;5;124m'\u001B[39m, \u001B[38;5;124m'\u001B[39m\u001B[38;5;124mTooHardError\u001B[39m\u001B[38;5;124m'\u001B[39m, \u001B[38;5;124m'\u001B[39m\u001B[38;5;124mAxisError\u001B[39m\u001B[38;5;124m'\u001B[39m]\n\u001B[1;32m    141\u001B[0m \u001B[38;5;66;03m# mapping of {name: (value, deprecation_msg)}\u001B[39;00m\n",
      "\u001B[0;31mImportError\u001B[0m: Error importing numpy: you should not try to import numpy from\n        its source directory; please exit the numpy source tree, and relaunch\n        your python interpreter from there."
     ]
    }
   ],
   "execution_count": 1
  },
  {
   "cell_type": "code",
   "execution_count": 17,
   "id": "cfda0df0f0a59953",
   "metadata": {
    "ExecuteTime": {
     "end_time": "2025-01-21T14:55:55.915362Z",
     "start_time": "2025-01-21T14:55:55.876130Z"
    }
   },
   "outputs": [
    {
     "ename": "NameError",
     "evalue": "name 'SimpleAECEnv' is not defined",
     "output_type": "error",
     "traceback": [
      "\u001B[1;31m---------------------------------------------------------------------------\u001B[0m",
      "\u001B[1;31mNameError\u001B[0m                                 Traceback (most recent call last)",
      "Cell \u001B[1;32mIn[17], line 2\u001B[0m\n\u001B[0;32m      1\u001B[0m \u001B[38;5;66;03m#Testing the API\u001B[39;00m\n\u001B[1;32m----> 2\u001B[0m env \u001B[38;5;241m=\u001B[39m \u001B[43mSimpleAECEnv\u001B[49m()\n\u001B[0;32m      3\u001B[0m env\u001B[38;5;241m.\u001B[39mreset()\n\u001B[0;32m      5\u001B[0m \u001B[38;5;28;01mfor\u001B[39;00m agent \u001B[38;5;129;01min\u001B[39;00m env\u001B[38;5;241m.\u001B[39magent_iter():\n",
      "\u001B[1;31mNameError\u001B[0m: name 'SimpleAECEnv' is not defined"
     ]
    }
   ],
   "source": [
    "#Testing the API\n",
    "env = SimpleAECEnv()\n",
    "env.reset()\n",
    "\n",
    "for agent in env.agent_iter():\n",
    "    print(f\"Current agent: {agent}\")\n",
    "    obs = env.observe(agent)\n",
    "    print(obs)\n",
    "    action = input(\"Enter an action(move/quit): \")\n",
    "    env.step(action)"
   ]
  },
  {
   "cell_type": "code",
   "execution_count": 9,
   "id": "293e5131e409dba3",
   "metadata": {
    "ExecuteTime": {
     "end_time": "2025-01-22T16:36:16.147203Z",
     "start_time": "2025-01-22T16:36:16.140867Z"
    }
   },
   "outputs": [],
   "source": [
    "from Custom_API.AEC_API.RobotEnv_Converted_to_PettingZoo_AEC import RobotFactoryEnv\n"
   ]
  },
  {
   "cell_type": "code",
   "execution_count": 10,
   "id": "6d7624f0b2ca3b30",
   "metadata": {
    "ExecuteTime": {
     "end_time": "2025-01-22T16:36:25.253551Z",
     "start_time": "2025-01-22T16:36:25.209602Z"
    }
   },
   "outputs": [
    {
     "ename": "NameError",
     "evalue": "name 'agent' is not defined",
     "output_type": "error",
     "traceback": [
      "\u001B[0;31m---------------------------------------------------------------------------\u001B[0m",
      "\u001B[0;31mNameError\u001B[0m                                 Traceback (most recent call last)",
      "Cell \u001B[0;32mIn[10], line 1\u001B[0m\n\u001B[0;32m----> 1\u001B[0m env \u001B[38;5;241m=\u001B[39m \u001B[43mRobotFactoryEnv\u001B[49m\u001B[43m(\u001B[49m\u001B[43m)\u001B[49m\n",
      "File \u001B[0;32m~/myenv/Bachelor_Thesis/Custom_API/AEC_API/RobotEnv_Converted_to_PettingZoo_AEC.py:19\u001B[0m, in \u001B[0;36mRobotFactoryEnv.__init__\u001B[0;34m(self)\u001B[0m\n\u001B[1;32m     17\u001B[0m \u001B[38;5;28mself\u001B[39m\u001B[38;5;241m.\u001B[39mtask_status \u001B[38;5;241m=\u001B[39m {agent: \u001B[38;5;124m\"\u001B[39m\u001B[38;5;124mIdle\u001B[39m\u001B[38;5;124m\"\u001B[39m \u001B[38;5;28;01mfor\u001B[39;00m agent \u001B[38;5;129;01min\u001B[39;00m \u001B[38;5;28mself\u001B[39m\u001B[38;5;241m.\u001B[39magents}\n\u001B[1;32m     18\u001B[0m \u001B[38;5;28mself\u001B[39m\u001B[38;5;241m.\u001B[39menergy_levels \u001B[38;5;241m=\u001B[39m {agent: \u001B[38;5;241m100\u001B[39m \u001B[38;5;28;01mfor\u001B[39;00m agent \u001B[38;5;129;01min\u001B[39;00m \u001B[38;5;28mself\u001B[39m\u001B[38;5;241m.\u001B[39magents}\n\u001B[0;32m---> 19\u001B[0m \u001B[38;5;28mself\u001B[39m\u001B[38;5;241m.\u001B[39mtask_queue \u001B[38;5;241m=\u001B[39m {\u001B[43magent\u001B[49m: [random\u001B[38;5;241m.\u001B[39mchoice([\u001B[38;5;124m\"\u001B[39m\u001B[38;5;124mPick\u001B[39m\u001B[38;5;124m\"\u001B[39m, \u001B[38;5;124m\"\u001B[39m\u001B[38;5;124mMove\u001B[39m\u001B[38;5;124m\"\u001B[39m, \u001B[38;5;124m\"\u001B[39m\u001B[38;5;124mAssemble Part\u001B[39m\u001B[38;5;124m\"\u001B[39m,\n\u001B[1;32m     20\u001B[0m                                         \u001B[38;5;124m\"\u001B[39m\u001B[38;5;124mInspect Quality\u001B[39m\u001B[38;5;124m\"\u001B[39m, \u001B[38;5;124m\"\u001B[39m\u001B[38;5;124mCharge\u001B[39m\u001B[38;5;124m\"\u001B[39m]) \u001B[38;5;28;01mfor\u001B[39;00m _ \u001B[38;5;129;01min\u001B[39;00m \u001B[38;5;28mrange\u001B[39m(\u001B[38;5;241m3\u001B[39m)]}\n\u001B[1;32m     21\u001B[0m \u001B[38;5;28mself\u001B[39m\u001B[38;5;241m.\u001B[39mobstacles \u001B[38;5;241m=\u001B[39m {\u001B[38;5;124mf\u001B[39m\u001B[38;5;124m\"\u001B[39m\u001B[38;5;124mobstacle_\u001B[39m\u001B[38;5;132;01m{\u001B[39;00mrandom\u001B[38;5;241m.\u001B[39mrandint(\u001B[38;5;241m1\u001B[39m,\u001B[38;5;250m \u001B[39m\u001B[38;5;241m10\u001B[39m)\u001B[38;5;132;01m}\u001B[39;00m\u001B[38;5;124m\"\u001B[39m \u001B[38;5;28;01mfor\u001B[39;00m _ \u001B[38;5;129;01min\u001B[39;00m \u001B[38;5;28mrange\u001B[39m(\u001B[38;5;241m3\u001B[39m)}\n\u001B[1;32m     24\u001B[0m \u001B[38;5;66;03m# Define action and observation spaces\u001B[39;00m\n",
      "\u001B[0;31mNameError\u001B[0m: name 'agent' is not defined"
     ]
    }
   ],
   "source": [
    "env = RobotFactoryEnv()"
   ]
  },
  {
   "cell_type": "code",
   "execution_count": null,
   "id": "9bf6dc3f7ee9bc51",
   "metadata": {},
   "outputs": [],
   "source": []
  }
 ],
 "metadata": {
  "kernelspec": {
   "display_name": "Python 3 (ipykernel)",
   "language": "python",
   "name": "python3"
  },
  "language_info": {
   "codemirror_mode": {
    "name": "ipython",
    "version": 3
   },
   "file_extension": ".py",
   "mimetype": "text/x-python",
   "name": "python",
   "nbconvert_exporter": "python",
   "pygments_lexer": "ipython3",
   "version": "3.11.11"
  }
 },
 "nbformat": 4,
 "nbformat_minor": 5
}
