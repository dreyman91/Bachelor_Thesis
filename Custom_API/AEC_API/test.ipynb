{
 "cells": [
  {
   "cell_type": "code",
   "id": "initial_id",
   "metadata": {
    "collapsed": true,
    "ExecuteTime": {
     "end_time": "2025-01-22T16:53:27.589002Z",
     "start_time": "2025-01-22T16:53:27.439448Z"
    }
   },
   "source": [
    "from Custom_API.AEC_API.RobotEnv_Converted_to_PettingZoo_AEC import RobotFactoryEnv\n",
    "env = RobotFactoryEnv()"
   ],
   "outputs": [],
   "execution_count": 1
  },
  {
   "metadata": {
    "ExecuteTime": {
     "end_time": "2025-01-22T16:53:27.598634Z",
     "start_time": "2025-01-22T16:53:27.595002Z"
    }
   },
   "cell_type": "code",
   "source": "env.reset()",
   "id": "fb8f42fd4065f03",
   "outputs": [],
   "execution_count": 2
  },
  {
   "metadata": {
    "ExecuteTime": {
     "end_time": "2025-01-22T16:54:35.060181Z",
     "start_time": "2025-01-22T16:53:27.757345Z"
    }
   },
   "cell_type": "code",
   "source": [
    "while env.agents:\n",
    "    agent = env.agent_selection\n",
    "    print(f\"Current robot: {agent}\")\n",
    "\n",
    "    obs = env.observe(agent)\n",
    "    print(f\"Observation: {obs}\")\n",
    "\n",
    "    print(\"Select an action:\")\n",
    "    print(\"(0) Pick  (1) Move  (2) Assemble  (3) Inspect  (4) Charge  (5) Shutdown\")\n",
    "\n",
    "    action = int(input(\"Select an action: \"))\n",
    "\n",
    "    env.step(action)\n",
    "\n",
    "    env.render()\n",
    "\n",
    "    if all(env.terminations.values()):\n",
    "        print(\"All robots have completed their tasks or shutdown. Simulation completed\")\n",
    "        break\n",
    "\n",
    "env.close()\n"
   ],
   "id": "27192ede66deec83",
   "outputs": [
    {
     "name": "stdout",
     "output_type": "stream",
     "text": [
      "Current robot: robots_1\n",
      "Observation: {'energy': array([100.], dtype=float32), 'tasks_left': 3, 'obstacles_nearby': 2}\n",
      "Select an action:\n",
      "(0) Pick  (1) Move  (2) Assemble  (3) Inspect  (4) Charge  (5) Shutdown\n",
      "➡️ robots_1 executes: Charge\n",
      "robot factory state:\n",
      "robots_1: | Status: Idle| Energy: 86| Task left: Idle| Obstacles: 2\n",
      "robots_2: | Status: Idle| Energy: 100| Task left: Idle| Obstacles: 2\n",
      "robots_3: | Status: Idle| Energy: 100| Task left: Idle| Obstacles: 2\n",
      "robots_4: | Status: Idle| Energy: 100| Task left: Idle| Obstacles: 2\n",
      "robots_5: | Status: Idle| Energy: 100| Task left: Idle| Obstacles: 2\n",
      "Current robot: robots_2\n",
      "Observation: {'energy': array([100.], dtype=float32), 'tasks_left': 3, 'obstacles_nearby': 2}\n",
      "Select an action:\n",
      "(0) Pick  (1) Move  (2) Assemble  (3) Inspect  (4) Charge  (5) Shutdown\n",
      "➡️ robots_2 executes: Inspect\n",
      "✅ SUCCESS: robots_2 passed inspection!\n",
      "robot factory state:\n",
      "robots_1: | Status: Idle| Energy: 86| Task left: Idle| Obstacles: 2\n",
      "robots_2: | Status: Inspection Passed| Energy: 93| Task left: Inspection Passed| Obstacles: 2\n",
      "robots_3: | Status: Idle| Energy: 100| Task left: Idle| Obstacles: 2\n",
      "robots_4: | Status: Idle| Energy: 100| Task left: Idle| Obstacles: 2\n",
      "robots_5: | Status: Idle| Energy: 100| Task left: Idle| Obstacles: 2\n",
      "Current robot: robots_3\n",
      "Observation: {'energy': array([100.], dtype=float32), 'tasks_left': 3, 'obstacles_nearby': 2}\n",
      "Select an action:\n",
      "(0) Pick  (1) Move  (2) Assemble  (3) Inspect  (4) Charge  (5) Shutdown\n",
      "➡️ robots_3 executes: Pick\n",
      "robot factory state:\n",
      "robots_1: | Status: Idle| Energy: 86| Task left: Idle| Obstacles: 2\n",
      "robots_2: | Status: Inspection Passed| Energy: 93| Task left: Inspection Passed| Obstacles: 2\n",
      "robots_3: | Status: Idle| Energy: 92| Task left: Idle| Obstacles: 2\n",
      "robots_4: | Status: Idle| Energy: 100| Task left: Idle| Obstacles: 2\n",
      "robots_5: | Status: Idle| Energy: 100| Task left: Idle| Obstacles: 2\n",
      "Current robot: robots_4\n",
      "Observation: {'energy': array([100.], dtype=float32), 'tasks_left': 3, 'obstacles_nearby': 2}\n",
      "Select an action:\n",
      "(0) Pick  (1) Move  (2) Assemble  (3) Inspect  (4) Charge  (5) Shutdown\n"
     ]
    },
    {
     "ename": "KeyboardInterrupt",
     "evalue": "Interrupted by user",
     "output_type": "error",
     "traceback": [
      "\u001B[0;31m---------------------------------------------------------------------------\u001B[0m",
      "\u001B[0;31mKeyboardInterrupt\u001B[0m                         Traceback (most recent call last)",
      "Cell \u001B[0;32mIn[3], line 11\u001B[0m\n\u001B[1;32m      8\u001B[0m \u001B[38;5;28mprint\u001B[39m(\u001B[38;5;124m\"\u001B[39m\u001B[38;5;124mSelect an action:\u001B[39m\u001B[38;5;124m\"\u001B[39m)\n\u001B[1;32m      9\u001B[0m \u001B[38;5;28mprint\u001B[39m(\u001B[38;5;124m\"\u001B[39m\u001B[38;5;124m(0) Pick  (1) Move  (2) Assemble  (3) Inspect  (4) Charge  (5) Shutdown\u001B[39m\u001B[38;5;124m\"\u001B[39m)\n\u001B[0;32m---> 11\u001B[0m action \u001B[38;5;241m=\u001B[39m \u001B[38;5;28mint\u001B[39m(\u001B[38;5;28;43minput\u001B[39;49m\u001B[43m(\u001B[49m\u001B[38;5;124;43m\"\u001B[39;49m\u001B[38;5;124;43mSelect an action: \u001B[39;49m\u001B[38;5;124;43m\"\u001B[39;49m\u001B[43m)\u001B[49m)\n\u001B[1;32m     13\u001B[0m env\u001B[38;5;241m.\u001B[39mstep(action)\n\u001B[1;32m     15\u001B[0m env\u001B[38;5;241m.\u001B[39mrender()\n",
      "File \u001B[0;32m~/myenv/Bachelor_Thesis/.venv/lib/python3.12/site-packages/ipykernel/kernelbase.py:1282\u001B[0m, in \u001B[0;36mKernel.raw_input\u001B[0;34m(self, prompt)\u001B[0m\n\u001B[1;32m   1280\u001B[0m     msg \u001B[38;5;241m=\u001B[39m \u001B[38;5;124m\"\u001B[39m\u001B[38;5;124mraw_input was called, but this frontend does not support input requests.\u001B[39m\u001B[38;5;124m\"\u001B[39m\n\u001B[1;32m   1281\u001B[0m     \u001B[38;5;28;01mraise\u001B[39;00m StdinNotImplementedError(msg)\n\u001B[0;32m-> 1282\u001B[0m \u001B[38;5;28;01mreturn\u001B[39;00m \u001B[38;5;28;43mself\u001B[39;49m\u001B[38;5;241;43m.\u001B[39;49m\u001B[43m_input_request\u001B[49m\u001B[43m(\u001B[49m\n\u001B[1;32m   1283\u001B[0m \u001B[43m    \u001B[49m\u001B[38;5;28;43mstr\u001B[39;49m\u001B[43m(\u001B[49m\u001B[43mprompt\u001B[49m\u001B[43m)\u001B[49m\u001B[43m,\u001B[49m\n\u001B[1;32m   1284\u001B[0m \u001B[43m    \u001B[49m\u001B[38;5;28;43mself\u001B[39;49m\u001B[38;5;241;43m.\u001B[39;49m\u001B[43m_parent_ident\u001B[49m\u001B[43m[\u001B[49m\u001B[38;5;124;43m\"\u001B[39;49m\u001B[38;5;124;43mshell\u001B[39;49m\u001B[38;5;124;43m\"\u001B[39;49m\u001B[43m]\u001B[49m\u001B[43m,\u001B[49m\n\u001B[1;32m   1285\u001B[0m \u001B[43m    \u001B[49m\u001B[38;5;28;43mself\u001B[39;49m\u001B[38;5;241;43m.\u001B[39;49m\u001B[43mget_parent\u001B[49m\u001B[43m(\u001B[49m\u001B[38;5;124;43m\"\u001B[39;49m\u001B[38;5;124;43mshell\u001B[39;49m\u001B[38;5;124;43m\"\u001B[39;49m\u001B[43m)\u001B[49m\u001B[43m,\u001B[49m\n\u001B[1;32m   1286\u001B[0m \u001B[43m    \u001B[49m\u001B[43mpassword\u001B[49m\u001B[38;5;241;43m=\u001B[39;49m\u001B[38;5;28;43;01mFalse\u001B[39;49;00m\u001B[43m,\u001B[49m\n\u001B[1;32m   1287\u001B[0m \u001B[43m\u001B[49m\u001B[43m)\u001B[49m\n",
      "File \u001B[0;32m~/myenv/Bachelor_Thesis/.venv/lib/python3.12/site-packages/ipykernel/kernelbase.py:1325\u001B[0m, in \u001B[0;36mKernel._input_request\u001B[0;34m(self, prompt, ident, parent, password)\u001B[0m\n\u001B[1;32m   1322\u001B[0m \u001B[38;5;28;01mexcept\u001B[39;00m \u001B[38;5;167;01mKeyboardInterrupt\u001B[39;00m:\n\u001B[1;32m   1323\u001B[0m     \u001B[38;5;66;03m# re-raise KeyboardInterrupt, to truncate traceback\u001B[39;00m\n\u001B[1;32m   1324\u001B[0m     msg \u001B[38;5;241m=\u001B[39m \u001B[38;5;124m\"\u001B[39m\u001B[38;5;124mInterrupted by user\u001B[39m\u001B[38;5;124m\"\u001B[39m\n\u001B[0;32m-> 1325\u001B[0m     \u001B[38;5;28;01mraise\u001B[39;00m \u001B[38;5;167;01mKeyboardInterrupt\u001B[39;00m(msg) \u001B[38;5;28;01mfrom\u001B[39;00m\u001B[38;5;250m \u001B[39m\u001B[38;5;28;01mNone\u001B[39;00m\n\u001B[1;32m   1326\u001B[0m \u001B[38;5;28;01mexcept\u001B[39;00m \u001B[38;5;167;01mException\u001B[39;00m:\n\u001B[1;32m   1327\u001B[0m     \u001B[38;5;28mself\u001B[39m\u001B[38;5;241m.\u001B[39mlog\u001B[38;5;241m.\u001B[39mwarning(\u001B[38;5;124m\"\u001B[39m\u001B[38;5;124mInvalid Message:\u001B[39m\u001B[38;5;124m\"\u001B[39m, exc_info\u001B[38;5;241m=\u001B[39m\u001B[38;5;28;01mTrue\u001B[39;00m)\n",
      "\u001B[0;31mKeyboardInterrupt\u001B[0m: Interrupted by user"
     ]
    }
   ],
   "execution_count": 3
  },
  {
   "metadata": {},
   "cell_type": "code",
   "outputs": [],
   "execution_count": null,
   "source": "",
   "id": "35ae4800892743f5"
  }
 ],
 "metadata": {
  "kernelspec": {
   "display_name": "Python 3",
   "language": "python",
   "name": "python3"
  },
  "language_info": {
   "codemirror_mode": {
    "name": "ipython",
    "version": 2
   },
   "file_extension": ".py",
   "mimetype": "text/x-python",
   "name": "python",
   "nbconvert_exporter": "python",
   "pygments_lexer": "ipython2",
   "version": "2.7.6"
  }
 },
 "nbformat": 4,
 "nbformat_minor": 5
}
