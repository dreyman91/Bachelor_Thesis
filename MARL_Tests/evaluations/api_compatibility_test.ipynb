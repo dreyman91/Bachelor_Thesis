{
 "cells": [
  {
   "cell_type": "code",
   "id": "initial_id",
   "metadata": {
    "collapsed": true,
    "ExecuteTime": {
     "end_time": "2025-05-20T18:59:45.800358Z",
     "start_time": "2025-05-20T18:59:45.794916Z"
    }
   },
   "source": [
    "# === Imports and Globals ===\n",
    "import numpy as np\n",
    "from pettingzoo.utils import aec_to_parallel\n",
    "from mpe2 import simple_spread_v3\n",
    "from failure_api.communication_models import ProbabilisticModel\n",
    "from failure_api.wrappers import CommunicationWrapper\n"
   ],
   "outputs": [],
   "execution_count": 17
  },
  {
   "metadata": {
    "ExecuteTime": {
     "end_time": "2025-05-20T18:59:45.843361Z",
     "start_time": "2025-05-20T18:59:45.832320Z"
    }
   },
   "cell_type": "code",
   "source": [
    "# === Basic Wrapping Test ===\n",
    "N = 3\n",
    "max_cycles = 25\n",
    "failure_prob = 0.5\n",
    "\n",
    "base_env = simple_spread_v3.env(N=N, max_cycles=max_cycles)\n",
    "agent_ids = base_env.possible_agents\n",
    "\n",
    "failure_model = ProbabilisticModel(agent_ids=agent_ids, failure_prob=failure_prob)\n",
    "env = CommunicationWrapper(base_env, failure_models=[failure_model])\n",
    "\n",
    "print(\"✅ Environment wrapped successfully.\")\n"
   ],
   "id": "e26df532bfa32378",
   "outputs": [
    {
     "name": "stdout",
     "output_type": "stream",
     "text": [
      "✅ Environment wrapped successfully.\n"
     ]
    }
   ],
   "execution_count": 18
  },
  {
   "metadata": {
    "ExecuteTime": {
     "end_time": "2025-05-20T18:59:45.893220Z",
     "start_time": "2025-05-20T18:59:45.881816Z"
    }
   },
   "cell_type": "code",
   "source": [
    "# === Agent Cycling Check ===\n",
    "env.reset()\n",
    "visited_agents = set()\n",
    "\n",
    "for _ in range(len(agent_ids) * 2):  # Step through 2 full cycles\n",
    "    agent = env.agent_selection\n",
    "    visited_agents.add(agent)\n",
    "    action = env.action_space(agent).sample()\n",
    "    env.step(action)\n",
    "\n",
    "assert visited_agents == set(agent_ids), f\"❌ Missing agents in cycle: {set(agent_ids) - visited_agents}\"\n",
    "print(\"✅ All agents participated in stepping.\")\n"
   ],
   "id": "aca9151236c8cf9b",
   "outputs": [
    {
     "name": "stdout",
     "output_type": "stream",
     "text": [
      "✅ All agents participated in stepping.\n"
     ]
    }
   ],
   "execution_count": 19
  },
  {
   "metadata": {
    "ExecuteTime": {
     "end_time": "2025-05-20T18:59:45.901261Z",
     "start_time": "2025-05-20T18:59:45.895619Z"
    }
   },
   "cell_type": "code",
   "source": [
    "# === Parallel Conversion Check ===\n",
    "parallel_env = aec_to_parallel(env)\n",
    "obs, _ = parallel_env.reset()\n",
    "agent = agent_ids[0]\n",
    "\n",
    "assert isinstance(obs[agent], (np.ndarray, dict)), \"❌ Observation format invalid after wrapping\"\n",
    "print(\"✅ AEC to Parallel conversion successful. Observation format is valid.\")\n"
   ],
   "id": "32c31fb166c05d65",
   "outputs": [
    {
     "name": "stdout",
     "output_type": "stream",
     "text": [
      "✅ AEC to Parallel conversion successful. Observation format is valid.\n"
     ]
    }
   ],
   "execution_count": 20
  },
  {
   "metadata": {
    "ExecuteTime": {
     "end_time": "2025-05-20T18:59:45.920710Z",
     "start_time": "2025-05-20T18:59:45.914111Z"
    }
   },
   "cell_type": "code",
   "source": [
    "# === RL Agent I/O Consistency Check ===\n",
    "obs, _ = parallel_env.reset()\n",
    "agent = agent_ids[0]\n",
    "obs_sample = obs[agent]\n",
    "act_sample = parallel_env.action_space(agent).sample()\n",
    "\n",
    "print(\"🔎 Observation sample:\", obs_sample)\n",
    "print(\"🔎 Action sample:\", act_sample)\n",
    "\n",
    "assert obs_sample is not None, \"❌ Observation is None!\"\n",
    "assert isinstance(act_sample, (int, np.integer)), \"❌ Action is not a valid integer!\"\n",
    "print(\"✅ Observations and actions are RL-compatible.\")\n"
   ],
   "id": "a5896d3713ebc9e7",
   "outputs": [
    {
     "name": "stdout",
     "output_type": "stream",
     "text": [
      "🔎 Observation sample: {'agent_0': array([ 0.        ,  0.        ,  0.62890613, -0.33670315, -1.2189927 ,\n",
      "        1.022272  , -0.89130807,  0.22785118, -1.004614  ,  0.8011287 ,\n",
      "       -1.1653311 ,  0.18965533, -0.3012079 ,  0.02562328,  0.        ,\n",
      "        0.        ,  0.        ,  0.        ], dtype=float32)}\n",
      "🔎 Action sample: 0\n",
      "✅ Observations and actions are RL-compatible.\n"
     ]
    }
   ],
   "execution_count": 21
  },
  {
   "metadata": {
    "ExecuteTime": {
     "end_time": "2025-05-20T18:59:45.945979Z",
     "start_time": "2025-05-20T18:59:45.937046Z"
    }
   },
   "cell_type": "code",
   "source": [
    "# === RL Agent I/O Consistency Check ===\n",
    "\n",
    "\n",
    "obs, _ = parallel_env.reset()\n",
    "agent = agent_ids[0]\n",
    "obs_sample = obs[agent]\n",
    "act_sample = parallel_env.action_space(agent).sample()\n",
    "\n",
    "print(\"🔎 Observation sample:\", obs_sample)\n",
    "print(\"🔎 Action sample:\", act_sample)\n",
    "\n",
    "assert obs_sample is not None, \"❌ Observation is None!\"\n",
    "assert isinstance(act_sample, (int, np.integer)), \"❌ Action is not a valid integer!\"\n",
    "print(\"✅ Observations and actions are RL-compatible.\")\n"
   ],
   "id": "7d78d9f4bb72ca4e",
   "outputs": [
    {
     "name": "stdout",
     "output_type": "stream",
     "text": [
      "🔎 Observation sample: {'agent_0': array([ 0.        ,  0.        ,  0.93148357, -0.43511134, -0.64171386,\n",
      "        1.1667687 , -0.6242568 ,  0.5788818 , -0.35251883,  0.37126014,\n",
      "       -1.7695892 ,  1.397471  , -0.96134335, -0.2914375 ,  0.        ,\n",
      "        0.        ,  0.        ,  0.        ], dtype=float32)}\n",
      "🔎 Action sample: 2\n",
      "✅ Observations and actions are RL-compatible.\n"
     ]
    }
   ],
   "execution_count": 22
  },
  {
   "metadata": {
    "ExecuteTime": {
     "end_time": "2025-05-20T19:06:23.664086Z",
     "start_time": "2025-05-20T19:06:23.544051Z"
    }
   },
   "cell_type": "code",
   "source": [
    "# === FailureAPI Behavior Check (ParallelEnv-Compatible) ===\n",
    "\n",
    "aec_env = env  # Your CommunicationWrapper (AEC)\n",
    "parallel_env = aec_to_parallel(aec_env)\n",
    "\n",
    "obs, _ = parallel_env.reset()\n",
    "comm_matrix = aec_env._comm_matrix\n",
    "\n",
    "print(\"📡 Communication Matrix:\")\n",
    "for sender in agent_ids:\n",
    "    row = {receiver: comm_matrix[sender][receiver] for receiver in agent_ids}\n",
    "    print(f\"{sender}: {row}\")\n",
    "\n",
    "# Show initial observation to check masking\n",
    "for agent in agent_ids:\n",
    "    print(f\"🔎 Initial observation for {agent}:\", obs[agent])\n"
   ],
   "id": "4595c19d39cb7ce4",
   "outputs": [
    {
     "ename": "AttributeError",
     "evalue": "accessing private attribute '_comm_matrix' is prohibited",
     "output_type": "error",
     "traceback": [
      "\u001B[31m---------------------------------------------------------------------------\u001B[39m",
      "\u001B[31mAttributeError\u001B[39m                            Traceback (most recent call last)",
      "\u001B[36mCell\u001B[39m\u001B[36m \u001B[39m\u001B[32mIn[29]\u001B[39m\u001B[32m, line 7\u001B[39m\n\u001B[32m      4\u001B[39m parallel_env = aec_to_parallel(aec_env)\n\u001B[32m      6\u001B[39m obs, _ = parallel_env.reset()\n\u001B[32m----> \u001B[39m\u001B[32m7\u001B[39m comm_matrix = \u001B[43maec_env\u001B[49m\u001B[43m.\u001B[49m\u001B[43m_comm_matrix\u001B[49m\n\u001B[32m      9\u001B[39m \u001B[38;5;28mprint\u001B[39m(\u001B[33m\"\u001B[39m\u001B[33m📡 Communication Matrix:\u001B[39m\u001B[33m\"\u001B[39m)\n\u001B[32m     10\u001B[39m \u001B[38;5;28;01mfor\u001B[39;00m sender \u001B[38;5;129;01min\u001B[39;00m agent_ids:\n",
      "\u001B[36mFile \u001B[39m\u001B[32m~\\venv\\Bachelor_Thesis\\.venv\\Lib\\site-packages\\pettingzoo\\utils\\wrappers\\base.py:24\u001B[39m, in \u001B[36mBaseWrapper.__getattr__\u001B[39m\u001B[34m(self, name)\u001B[39m\n\u001B[32m     22\u001B[39m \u001B[38;5;250m\u001B[39m\u001B[33;03m\"\"\"Returns an attribute with ``name``, unless ``name`` starts with an underscore.\"\"\"\u001B[39;00m\n\u001B[32m     23\u001B[39m \u001B[38;5;28;01mif\u001B[39;00m name.startswith(\u001B[33m\"\u001B[39m\u001B[33m_\u001B[39m\u001B[33m\"\u001B[39m) \u001B[38;5;129;01mand\u001B[39;00m name != \u001B[33m\"\u001B[39m\u001B[33m_cumulative_rewards\u001B[39m\u001B[33m\"\u001B[39m:\n\u001B[32m---> \u001B[39m\u001B[32m24\u001B[39m     \u001B[38;5;28;01mraise\u001B[39;00m \u001B[38;5;167;01mAttributeError\u001B[39;00m(\u001B[33mf\u001B[39m\u001B[33m\"\u001B[39m\u001B[33maccessing private attribute \u001B[39m\u001B[33m'\u001B[39m\u001B[38;5;132;01m{\u001B[39;00mname\u001B[38;5;132;01m}\u001B[39;00m\u001B[33m'\u001B[39m\u001B[33m is prohibited\u001B[39m\u001B[33m\"\u001B[39m)\n\u001B[32m     25\u001B[39m \u001B[38;5;28;01mreturn\u001B[39;00m \u001B[38;5;28mgetattr\u001B[39m(\u001B[38;5;28mself\u001B[39m.env, name)\n",
      "\u001B[31mAttributeError\u001B[39m: accessing private attribute '_comm_matrix' is prohibited"
     ]
    }
   ],
   "execution_count": 29
  },
  {
   "metadata": {
    "ExecuteTime": {
     "end_time": "2025-05-20T18:59:46.014010Z",
     "start_time": "2025-05-20T18:59:46.004880Z"
    }
   },
   "cell_type": "code",
   "source": [
    "# === FailureAPI Behavior Check ===\n",
    "parallel_env.reset()\n",
    "comm_matrix = env.communication_matrix  # Direct access for testing\n",
    "\n",
    "print(\"📡 Communication Matrix:\")\n",
    "print(comm_matrix)\n",
    "\n",
    "obs = parallel_env.observe(agent)\n",
    "print(f\"🔎 Observation for {agent}:\", obs[agent])\n",
    "\n",
    "if not comm_matrix[agent][agent_ids[1]]:  # Example mask\n",
    "    assert np.allclose(obs[agent_ids[1]], 0), f\"❌ Observation not masked for {agent_ids[1]}\"\n",
    "    print(f\"✅ Masking applied to {agent_ids[1]} as expected.\")\n",
    "else:\n",
    "    print(f\"ℹ️ Communication allowed with {agent_ids[1]}\")\n"
   ],
   "id": "c1fd7dbd258e2d20",
   "outputs": [
    {
     "ename": "SyntaxError",
     "evalue": "invalid syntax (3237731005.py, line 3)",
     "output_type": "error",
     "traceback": [
      "  \u001B[36mCell\u001B[39m\u001B[36m \u001B[39m\u001B[32mIn[24]\u001B[39m\u001B[32m, line 3\u001B[39m\n\u001B[31m    \u001B[39m\u001B[31mcomm_matrix = env.get_communication_state()astype(int)  # Direct access for testing\u001B[39m\n                                               ^\n\u001B[31mSyntaxError\u001B[39m\u001B[31m:\u001B[39m invalid syntax\n"
     ]
    }
   ],
   "execution_count": 24
  },
  {
   "metadata": {
    "ExecuteTime": {
     "end_time": "2025-05-20T18:59:46.043090Z",
     "start_time": "2025-05-20T18:59:46.031890Z"
    }
   },
   "cell_type": "code",
   "source": [
    "# === FailureAPI Behavior Check ===\n",
    "parallel_env.reset()\n",
    "comm_matrix = env.communication_matrix  # Direct access for testing\n",
    "\n",
    "print(\"📡 Communication Matrix:\")\n",
    "print(comm_matrix)\n",
    "\n",
    "obs = parallel_env.observe(agent)\n",
    "print(f\"🔎 Observation for {agent}:\", obs[agent])\n",
    "\n",
    "if not comm_matrix[agent][agent_ids[1]]:  # Example mask\n",
    "    assert np.allclose(obs[agent_ids[1]], 0), f\"❌ Observation not masked for {agent_ids[1]}\"\n",
    "    print(f\"✅ Masking applied to {agent_ids[1]} as expected.\")\n",
    "else:\n",
    "    print(f\"ℹ️ Communication allowed with {agent_ids[1]}\")\n"
   ],
   "id": "c507e827edd4fa1a",
   "outputs": [
    {
     "ename": "SyntaxError",
     "evalue": "invalid syntax (3237731005.py, line 3)",
     "output_type": "error",
     "traceback": [
      "  \u001B[36mCell\u001B[39m\u001B[36m \u001B[39m\u001B[32mIn[25]\u001B[39m\u001B[32m, line 3\u001B[39m\n\u001B[31m    \u001B[39m\u001B[31mcomm_matrix = env.get_communication_state()astype(int)  # Direct access for testing\u001B[39m\n                                               ^\n\u001B[31mSyntaxError\u001B[39m\u001B[31m:\u001B[39m invalid syntax\n"
     ]
    }
   ],
   "execution_count": 25
  }
 ],
 "metadata": {
  "kernelspec": {
   "display_name": "Python 3",
   "language": "python",
   "name": "python3"
  },
  "language_info": {
   "codemirror_mode": {
    "name": "ipython",
    "version": 2
   },
   "file_extension": ".py",
   "mimetype": "text/x-python",
   "name": "python",
   "nbconvert_exporter": "python",
   "pygments_lexer": "ipython2",
   "version": "2.7.6"
  }
 },
 "nbformat": 4,
 "nbformat_minor": 5
}
