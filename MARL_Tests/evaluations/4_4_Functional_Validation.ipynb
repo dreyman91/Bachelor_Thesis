{
 "cells": [
  {
   "metadata": {},
   "cell_type": "markdown",
   "source": "#### Functional Validation",
   "id": "66c2a707ec98694"
  },
  {
   "metadata": {
    "ExecuteTime": {
     "end_time": "2025-05-20T22:50:44.325102Z",
     "start_time": "2025-05-20T22:50:44.319306Z"
    }
   },
   "cell_type": "code",
   "source": [
    "import numpy as np\n",
    "import pandas as pd\n",
    "from tqdm import tqdm\n",
    "from mpe2 import simple_spread_v3\n",
    "from pettingzoo.utils import aec_to_parallel\n",
    "from failure_api.communication_models import (\n",
    "    ProbabilisticModel, DistanceModel, BaseMarkovModel, \n",
    "    SignalBasedModel, DelayBasedModel\n",
    ")\n",
    "from failure_api.wrappers import CommunicationWrapper\n",
    "from utils.position_utils import make_position_fn\n",
    "import matplotlib.pyplot as plt\n",
    "import seaborn as sns\n",
    "\n",
    "# --- Config ---\n",
    "N = 3  # Number of agents\n",
    "EPISODES = 5  # Keep small for testing, raise later\n",
    "MAX_CYCLES = 25\n",
    "SEED = 42\n",
    "THRESHOLD_ACCURACY = 95  # %\n",
    "\n",
    "model_names = [\"probabilistic\", \"markov\", \"distance\", \"signal\", \"delay\"]"
   ],
   "id": "80d38d6052f813d8",
   "outputs": [],
   "execution_count": 6
  },
  {
   "metadata": {
    "ExecuteTime": {
     "end_time": "2025-05-20T22:50:46.875134Z",
     "start_time": "2025-05-20T22:50:46.871129Z"
    }
   },
   "cell_type": "code",
   "source": [
    "\n",
    "\n",
    "def make_test_env(N=3, max_cycles=25, seed=42):\n",
    "    \"\"\"Creates a base environment and returns agent ids and env instance.\"\"\"\n",
    "    base_env = simple_spread_v3.env(N=N, max_cycles=max_cycles)\n",
    "    agent_ids = base_env.possible_agents\n",
    "    base_env.reset(seed=seed)\n",
    "\n",
    "    return base_env, agent_ids\n",
    "\n"
   ],
   "id": "6487f25852aed2c7",
   "outputs": [],
   "execution_count": 7
  },
  {
   "cell_type": "code",
   "id": "initial_id",
   "metadata": {
    "collapsed": true,
    "ExecuteTime": {
     "end_time": "2025-05-20T22:50:48.383130Z",
     "start_time": "2025-05-20T22:50:48.374916Z"
    }
   },
   "source": [
    "# === Cell 3: Shared Helpers ===\n",
    "\n",
    "def compute_observed_visibility(observations, agent_ids):\n",
    "    \"\"\"\n",
    "    Computes observed visibility based on current timestep's observations.\n",
    "    Returns (visible_links, total_links).\n",
    "    \"\"\"\n",
    "    visible_links = 0\n",
    "    total_links = 0\n",
    "\n",
    "    for i, agent_i in enumerate(agent_ids):\n",
    "        obs_i = observations.get(agent_i, {})\n",
    "        if not isinstance(obs_i, dict):\n",
    "            continue\n",
    "        for j, agent_j in enumerate(agent_ids):\n",
    "            if i == j:\n",
    "                continue\n",
    "            if agent_j in obs_i and np.any(obs_i[agent_j]):\n",
    "                visible_links += 1\n",
    "            total_links += 1\n",
    "\n",
    "    return visible_links, total_links\n",
    "\n",
    "\n",
    "def compute_distance_visibility(env, model, agent_ids):\n",
    "    \"\"\"\n",
    "    Estimates expected visibility for DistanceModel based on threshold.\n",
    "    \"\"\"\n",
    "    try:\n",
    "        threshold = model.distance_threshold\n",
    "    except AttributeError:\n",
    "        threshold = 1.0  # fallback\n",
    "\n",
    "    pos_fn = model.pos_fn\n",
    "    positions = [pos_fn(agent) for agent in agent_ids]\n",
    "\n",
    "    visible_links = 0\n",
    "    total_links = 0\n",
    "    for i, pos_i in enumerate(positions):\n",
    "        for j, pos_j in enumerate(positions):\n",
    "            if i == j:\n",
    "                continue\n",
    "            dist = np.linalg.norm(pos_i - pos_j)\n",
    "            if dist <= threshold:\n",
    "                visible_links += 1\n",
    "            total_links += 1\n",
    "\n",
    "    return visible_links / total_links if total_links else 1.0"
   ],
   "outputs": [],
   "execution_count": 8
  },
  {
   "metadata": {
    "ExecuteTime": {
     "end_time": "2025-05-20T22:51:20.239743Z",
     "start_time": "2025-05-20T22:51:20.037194Z"
    }
   },
   "cell_type": "code",
   "source": [
    "# === Updated Cell 4: DistanceModel Accuracy with Ground-Truth Comparison ===\n",
    "\n",
    "# Step 1: Setup\n",
    "base_env, agent_ids = make_test_env(N=N, max_cycles=MAX_CYCLES, seed=SEED)\n",
    "pos_fn = make_position_fn(base_env)\n",
    "distance_threshold = 1.0\n",
    "\n",
    "# Step 2: Wrap with DistanceModel\n",
    "model = DistanceModel(\n",
    "    agent_ids=agent_ids,\n",
    "    distance_threshold=distance_threshold,\n",
    "    pos_fn=pos_fn\n",
    ")\n",
    "wrapped_env = CommunicationWrapper(base_env, failure_models=[model])\n",
    "parallel_env = aec_to_parallel(wrapped_env)\n",
    "\n",
    "# === New Accuracy Logic ===\n",
    "def compute_distance_masking_accuracy(env, model, agent_ids, observations):\n",
    "    \"\"\"\n",
    "    Compares distance threshold logic with actual masking in observations.\n",
    "    Returns (correct_links, total_links).\n",
    "    \"\"\"\n",
    "    pos_fn = model.pos_fn\n",
    "    threshold = model.distance_threshold\n",
    "    positions = [pos_fn(agent) for agent in agent_ids]\n",
    "\n",
    "    correct = 0\n",
    "    total = 0\n",
    "\n",
    "    for i, agent_i in enumerate(agent_ids):\n",
    "        obs_i = observations.get(agent_i, {})\n",
    "        if not isinstance(obs_i, dict):\n",
    "            continue\n",
    "\n",
    "        for j, agent_j in enumerate(agent_ids):\n",
    "            if i == j:\n",
    "                continue\n",
    "\n",
    "            dist = np.linalg.norm(positions[i] - positions[j])\n",
    "            should_see = dist <= threshold\n",
    "            does_see = agent_j in obs_i and np.any(obs_i[agent_j])\n",
    "\n",
    "            if should_see == does_see:\n",
    "                correct += 1\n",
    "            total += 1\n",
    "\n",
    "    return correct, total\n",
    "\n",
    "# Step 3: Run episodes\n",
    "correct_links = 0\n",
    "total_links = 0\n",
    "\n",
    "for episode in range(EPISODES):\n",
    "    observations, _ = parallel_env.reset(seed=SEED + episode)\n",
    "\n",
    "    for step in range(MAX_CYCLES):\n",
    "        if not parallel_env.agents:\n",
    "            break\n",
    "            \n",
    "\n",
    "        actions = {\n",
    "            agent: parallel_env.action_space(agent).sample()\n",
    "            for agent in parallel_env.agents\n",
    "        }\n",
    "        observations, _, _, _, _ = parallel_env.step(actions)\n",
    "\n",
    "        correct, total = compute_distance_masking_accuracy(wrapped_env, model, agent_ids, observations)\n",
    "        correct_links += correct\n",
    "        total_links += total\n",
    "\n",
    "# Step 4: Final Accuracy Output\n",
    "accuracy = 100 * correct_links / total_links if total_links else 100\n",
    "\n",
    "print(f\"🔍 DistanceModel Ground-Truth Accuracy Summary:\")\n",
    "print(f\"Correct Masked/Unmasked Links: {correct_links} / {total_links}\")\n",
    "print(f\"Masking Accuracy              : {accuracy:.2f}%\")\n",
    "\n",
    "# Optional assertion\n",
    "if accuracy < THRESHOLD_ACCURACY:\n",
    "    print(f\"❌ Accuracy below threshold of {THRESHOLD_ACCURACY}%!\")\n",
    "else:\n",
    "    print(f\"✅ Accuracy meets threshold.\")\n"
   ],
   "id": "31a0dbdffb7c94ba",
   "outputs": [
    {
     "name": "stdout",
     "output_type": "stream",
     "text": [
      "🔍 DistanceModel Ground-Truth Accuracy Summary:\n",
      "Correct Masked/Unmasked Links: 550 / 750\n",
      "Masking Accuracy              : 73.33%\n",
      "❌ Accuracy below threshold of 95%!\n"
     ]
    }
   ],
   "execution_count": 24
  },
  {
   "metadata": {},
   "cell_type": "markdown",
   "source": "",
   "id": "669ce13997cac389"
  },
  {
   "metadata": {
    "ExecuteTime": {
     "end_time": "2025-05-20T22:50:32.509937Z",
     "start_time": "2025-05-20T22:50:32.323980Z"
    }
   },
   "cell_type": "code",
   "source": [
    "# === Cell 5: DelayBasedModel Accuracy Test ===\n",
    "\n",
    "# Step 1: Setup\n",
    "base_env, agent_ids = make_test_env(N=N, max_cycles=MAX_CYCLES, seed=SEED)\n",
    "pos_fn = make_position_fn(base_env, return_batch=True)  # Delay model may use batch pos\n",
    "drop_prob = 0.5\n",
    "min_delay = 1\n",
    "max_delay = 3\n",
    "\n",
    "# Step 2: Wrap with DelayBasedModel\n",
    "model = DelayBasedModel(\n",
    "    agent_ids=agent_ids,\n",
    "    min_delay=min_delay,\n",
    "    max_delay=max_delay,\n",
    "    message_drop_probability=drop_prob\n",
    ")\n",
    "wrapped_env = CommunicationWrapper(base_env, failure_models=[model])\n",
    "parallel_env = aec_to_parallel(wrapped_env)\n",
    "\n",
    "# Step 3: Run episodes\n",
    "all_visible_links = 0\n",
    "all_total_links = 0\n",
    "\n",
    "for episode in range(EPISODES):\n",
    "    observations, _ = parallel_env.reset(seed=SEED + episode)\n",
    "\n",
    "    for step in range(MAX_CYCLES):\n",
    "        if not parallel_env.agents:\n",
    "            break\n",
    "\n",
    "        actions = {\n",
    "            agent: parallel_env.action_space(agent).sample()\n",
    "            for agent in parallel_env.agents\n",
    "        }\n",
    "        observations, _, _, _, _ = parallel_env.step(actions)\n",
    "\n",
    "        v_links, t_links = compute_observed_visibility(observations, agent_ids)\n",
    "        all_visible_links += v_links\n",
    "        all_total_links += t_links\n",
    "\n",
    "# Step 4: Compute Accuracy\n",
    "observed_visibility = all_visible_links / all_total_links if all_total_links else 0\n",
    "\n",
    "# Approximate expected visibility: messages not dropped and not delayed beyond cycle\n",
    "avg_delay = (min_delay + max_delay) / 2\n",
    "expected_visibility = (1 - drop_prob) / (1 + avg_delay)\n",
    "accuracy = 100 - abs(observed_visibility - expected_visibility) * 100\n",
    "\n",
    "# Step 5: Output\n",
    "print(f\"🔍 DelayBasedModel Test Summary:\")\n",
    "print(f\"Observed Visibility     : {observed_visibility:.4f}\")\n",
    "print(f\"Expected Visibility     : {expected_visibility:.4f}\")\n",
    "print(f\"Masking Accuracy        : {accuracy:.2f}%\")\n",
    "\n",
    "# Step 6: Optional Assertion\n",
    "if accuracy < THRESHOLD_ACCURACY:\n",
    "    print(f\"❌ Accuracy below threshold of {THRESHOLD_ACCURACY}%!\")\n",
    "else:\n",
    "    print(f\"✅ Accuracy meets threshold.\")\n"
   ],
   "id": "90e522ad170a5c29",
   "outputs": [
    {
     "name": "stdout",
     "output_type": "stream",
     "text": [
      "🔍 DelayBasedModel Test Summary:\n",
      "Observed Visibility     : 0.2160\n",
      "Expected Visibility     : 0.1667\n",
      "Masking Accuracy        : 95.07%\n",
      "✅ Accuracy meets threshold.\n"
     ]
    }
   ],
   "execution_count": 5
  },
  {
   "metadata": {},
   "cell_type": "markdown",
   "source": "",
   "id": "a1bdc2cc736d2a81"
  },
  {
   "metadata": {
    "ExecuteTime": {
     "end_time": "2025-05-20T22:49:02.675222Z",
     "start_time": "2025-05-20T22:49:02.388042Z"
    }
   },
   "cell_type": "code",
   "source": [
    "# === Cell 6: SignalBasedModel Accuracy Test ===\n",
    "\n",
    "# Step 1: Setup\n",
    "base_env, agent_ids = make_test_env(N=N, max_cycles=MAX_CYCLES, seed=SEED)\n",
    "pos_fn = make_position_fn(base_env, return_batch=True)\n",
    "dropout_alpha = 0.5  # Moderate signal sensitivity\n",
    "\n",
    "# Step 2: Wrap with SignalBasedModel\n",
    "model = SignalBasedModel(\n",
    "    agent_ids=agent_ids,\n",
    "    pos_fn=pos_fn,\n",
    "    dropout_alpha=dropout_alpha\n",
    ")\n",
    "wrapped_env = CommunicationWrapper(base_env, failure_models=[model])\n",
    "parallel_env = aec_to_parallel(wrapped_env)\n",
    "\n",
    "# Step 3: Run episodes\n",
    "all_visible_links = 0\n",
    "all_total_links = 0\n",
    "\n",
    "for episode in range(EPISODES):\n",
    "    observations, _ = parallel_env.reset(seed=SEED + episode)\n",
    "\n",
    "    for step in range(MAX_CYCLES):\n",
    "        if not parallel_env.agents:\n",
    "            break\n",
    "\n",
    "        actions = {\n",
    "            agent: parallel_env.action_space(agent).sample()\n",
    "            for agent in parallel_env.agents\n",
    "        }\n",
    "        observations, _, _, _, _ = parallel_env.step(actions)\n",
    "\n",
    "        v_links, t_links = compute_observed_visibility(observations, agent_ids)\n",
    "        all_visible_links += v_links\n",
    "        all_total_links += t_links\n",
    "\n",
    "# Step 4: Compute Accuracy\n",
    "observed_visibility = all_visible_links / all_total_links if all_total_links else 0\n",
    "\n",
    "# Approximate expected visibility:\n",
    "# Here, we estimate a \"signal strength\"-based dropout as a function of alpha.\n",
    "# This is a placeholder — can be replaced with more accurate signal model if known.\n",
    "signal_strength_estimate = 0.5  # Tuned from empirical profile or assumption\n",
    "expected_visibility = signal_strength_estimate\n",
    "accuracy = 100 - abs(observed_visibility - expected_visibility) * 100\n",
    "\n",
    "# Step 5: Output\n",
    "print(f\"🔍 SignalBasedModel Test Summary:\")\n",
    "print(f\"Observed Visibility     : {observed_visibility:.4f}\")\n",
    "print(f\"Expected Visibility     : {expected_visibility:.4f}\")\n",
    "print(f\"Masking Accuracy        : {accuracy:.2f}%\")\n",
    "\n",
    "# Step 6: Optional Assertion\n",
    "if accuracy < THRESHOLD_ACCURACY:\n",
    "    print(f\"❌ Accuracy below threshold of {THRESHOLD_ACCURACY}%!\")\n",
    "else:\n",
    "    print(f\"✅ Accuracy meets threshold.\")\n"
   ],
   "id": "4557dbc722ca308f",
   "outputs": [
    {
     "name": "stdout",
     "output_type": "stream",
     "text": [
      "🔍 SignalBasedModel Test Summary:\n",
      "Observed Visibility     : 0.6467\n",
      "Expected Visibility     : 0.5000\n",
      "Masking Accuracy        : 85.33%\n",
      "❌ Accuracy below threshold of 95%!\n"
     ]
    }
   ],
   "execution_count": 70
  },
  {
   "metadata": {},
   "cell_type": "markdown",
   "source": "",
   "id": "c5fa50d6728760cb"
  },
  {
   "metadata": {
    "ExecuteTime": {
     "end_time": "2025-05-20T22:49:02.828705Z",
     "start_time": "2025-05-20T22:49:02.676286Z"
    }
   },
   "cell_type": "code",
   "source": [
    "# === Cell 7: ProbabilisticModel Accuracy Test ===\n",
    "\n",
    "# Step 1: Setup\n",
    "base_env, agent_ids = make_test_env(N=N, max_cycles=MAX_CYCLES, seed=SEED)\n",
    "failure_prob = 0.5\n",
    "\n",
    "# Step 2: Wrap with ProbabilisticModel\n",
    "model = ProbabilisticModel(agent_ids=agent_ids, failure_prob=failure_prob)\n",
    "wrapped_env = CommunicationWrapper(base_env, failure_models=[model])\n",
    "parallel_env = aec_to_parallel(wrapped_env)\n",
    "\n",
    "# Step 3: Run episodes\n",
    "all_visible_links = 0\n",
    "all_total_links = 0\n",
    "\n",
    "for episode in range(EPISODES):\n",
    "    observations, _ = parallel_env.reset(seed=SEED + episode)\n",
    "\n",
    "    for step in range(MAX_CYCLES):\n",
    "        if not parallel_env.agents:\n",
    "            break\n",
    "\n",
    "        actions = {\n",
    "            agent: parallel_env.action_space(agent).sample()\n",
    "            for agent in parallel_env.agents\n",
    "        }\n",
    "        observations, _, _, _, _ = parallel_env.step(actions)\n",
    "\n",
    "        v_links, t_links = compute_observed_visibility(observations, agent_ids)\n",
    "        all_visible_links += v_links\n",
    "        all_total_links += t_links\n",
    "\n",
    "# Step 4: Compute Accuracy\n",
    "observed_visibility = all_visible_links / all_total_links if all_total_links else 0\n",
    "expected_visibility = 1 - failure_prob\n",
    "accuracy = 100 - abs(observed_visibility - expected_visibility) * 100\n",
    "\n",
    "# Step 5: Output\n",
    "print(f\"🔍 ProbabilisticModel Test Summary:\")\n",
    "print(f\"Observed Visibility     : {observed_visibility:.4f}\")\n",
    "print(f\"Expected Visibility     : {expected_visibility:.4f}\")\n",
    "print(f\"Masking Accuracy        : {accuracy:.2f}%\")\n",
    "\n",
    "# Step 6: Optional Assertion\n",
    "if accuracy < THRESHOLD_ACCURACY:\n",
    "    print(f\"❌ Accuracy below threshold of {THRESHOLD_ACCURACY}%!\")\n",
    "else:\n",
    "    print(f\"✅ Accuracy meets threshold.\")\n"
   ],
   "id": "ed718919963e1286",
   "outputs": [
    {
     "name": "stdout",
     "output_type": "stream",
     "text": [
      "🔍 ProbabilisticModel Test Summary:\n",
      "Observed Visibility     : 0.4773\n",
      "Expected Visibility     : 0.5000\n",
      "Masking Accuracy        : 97.73%\n",
      "✅ Accuracy meets threshold.\n"
     ]
    }
   ],
   "execution_count": 71
  },
  {
   "metadata": {
    "ExecuteTime": {
     "end_time": "2025-05-20T22:49:03.062676Z",
     "start_time": "2025-05-20T22:49:02.828705Z"
    }
   },
   "cell_type": "code",
   "source": [
    "# === Cell 8: MarkovModel Accuracy Test ===\n",
    "\n",
    "# Step 1: Setup\n",
    "base_env, agent_ids = make_test_env(N=N, max_cycles=MAX_CYCLES, seed=SEED)\n",
    "p = 0.5  # Transition probability (symmetric)\n",
    "\n",
    "# Step 2: Define symmetric transition matrix\n",
    "# 0 = disconnected, 1 = connected\n",
    "transition_matrix = np.array([\n",
    "    [1 - p, p],\n",
    "    [p, 1 - p]\n",
    "])\n",
    "\n",
    "# Step 3: Wrap with BaseMarkovModel\n",
    "model = BaseMarkovModel(agent_ids=agent_ids, default_matrix=transition_matrix)\n",
    "wrapped_env = CommunicationWrapper(base_env, failure_models=[model])\n",
    "parallel_env = aec_to_parallel(wrapped_env)\n",
    "\n",
    "# Step 4: Run episodes\n",
    "all_visible_links = 0\n",
    "all_total_links = 0\n",
    "\n",
    "for episode in range(EPISODES):\n",
    "    observations, _ = parallel_env.reset(seed=SEED + episode)\n",
    "\n",
    "    for step in range(MAX_CYCLES):\n",
    "        if not parallel_env.agents:\n",
    "            break\n",
    "\n",
    "        actions = {\n",
    "            agent: parallel_env.action_space(agent).sample()\n",
    "            for agent in parallel_env.agents\n",
    "        }\n",
    "        observations, _, _, _, _ = parallel_env.step(actions)\n",
    "\n",
    "        v_links, t_links = compute_observed_visibility(observations, agent_ids)\n",
    "        all_visible_links += v_links\n",
    "        all_total_links += t_links\n",
    "\n",
    "# Step 5: Compute Accuracy\n",
    "observed_visibility = all_visible_links / all_total_links if all_total_links else 0\n",
    "\n",
    "# Compute steady-state probability of being in connected state (state 1)\n",
    "# π1 = p / (p + (1 - p)) = p\n",
    "expected_visibility = p\n",
    "accuracy = 100 - abs(observed_visibility - expected_visibility) * 100\n",
    "\n",
    "# Step 6: Output\n",
    "print(f\"🔍 MarkovModel Test Summary:\")\n",
    "print(f\"Observed Visibility     : {observed_visibility:.4f}\")\n",
    "print(f\"Expected Visibility     : {expected_visibility:.4f}\")\n",
    "print(f\"Masking Accuracy        : {accuracy:.2f}%\")\n",
    "\n",
    "# Step 7: Optional Assertion\n",
    "if accuracy < THRESHOLD_ACCURACY:\n",
    "    print(f\"❌ Accuracy below threshold of {THRESHOLD_ACCURACY}%!\")\n",
    "else:\n",
    "    print(f\"✅ Accuracy meets threshold.\")\n"
   ],
   "id": "d66744880c61f14b",
   "outputs": [
    {
     "name": "stdout",
     "output_type": "stream",
     "text": [
      "🔍 MarkovModel Test Summary:\n",
      "Observed Visibility     : 0.4960\n",
      "Expected Visibility     : 0.5000\n",
      "Masking Accuracy        : 99.60%\n",
      "✅ Accuracy meets threshold.\n"
     ]
    }
   ],
   "execution_count": 72
  },
  {
   "metadata": {
    "ExecuteTime": {
     "end_time": "2025-05-20T22:49:03.286216Z",
     "start_time": "2025-05-20T22:49:03.062676Z"
    }
   },
   "cell_type": "code",
   "source": [
    "# === Cell 9: Summary Statistics & Plot ===\n",
    "\n",
    "# Step 1: Collect accuracy values from previous cells\n",
    "accuracy_results = {\n",
    "    \"probabilistic\": accuracy if 'probabilistic' in model.__class__.__name__.lower() else None,\n",
    "    \"markov\":        accuracy if 'markov' in model.__class__.__name__.lower() else None,\n",
    "    \"distance\":      accuracy if 'distance' in model.__class__.__name__.lower() else None,\n",
    "    \"signal\":        accuracy if 'signal' in model.__class__.__name__.lower() else None,\n",
    "    \"delay\":         accuracy if 'delay' in model.__class__.__name__.lower() else None,\n",
    "}\n",
    "\n",
    "# If you ran the models separately, manually input their final accuracy from each cell:\n",
    "accuracy_results = {\n",
    "    \"probabilistic\": 97.3,  # Replace with actual\n",
    "    \"markov\": 99.6,\n",
    "    \"distance\": 61.8,\n",
    "    \"signal\": 83.73,\n",
    "    \"delay\": 95.07\n",
    "}\n",
    "\n",
    "# Step 2: Convert to DataFrame\n",
    "df_acc = pd.DataFrame([\n",
    "    {\"Model\": model.title(), \"Accuracy\": acc}\n",
    "    for model, acc in accuracy_results.items()\n",
    "])\n",
    "\n",
    "# Step 3: Plot\n",
    "plt.figure(figsize=(8, 5))\n",
    "sns.barplot(data=df_acc, x=\"Model\", y=\"Accuracy\", hue=\"Model\")\n",
    "plt.axhline(95, color=\"red\", linestyle=\"--\", label=\"Hypothesis Threshold (95%)\")\n",
    "plt.title(\"Masking Accuracy by Failure Model\")\n",
    "plt.ylabel(\"Accuracy (%)\")\n",
    "plt.ylim(80, 100)\n",
    "plt.legend()\n",
    "plt.grid(axis='y')\n",
    "plt.tight_layout()\n",
    "plt.show()\n",
    "\n",
    "# Step 4: Display Table\n",
    "\n"
   ],
   "id": "4993b6346370a7ea",
   "outputs": [
    {
     "data": {
      "text/plain": [
       "<Figure size 800x500 with 1 Axes>"
      ],
      "image/png": "[encoded data removed]"
     },
     "metadata": {},
     "output_type": "display_data"
    }
   ],
   "execution_count": 73
  },
  {
   "metadata": {},
   "cell_type": "markdown",
   "source": "",
   "id": "2ad849985f2f8ae9"
  },
  {
   "metadata": {
    "ExecuteTime": {
     "end_time": "2025-05-20T22:49:03.296694Z",
     "start_time": "2025-05-20T22:49:03.287478Z"
    }
   },
   "cell_type": "code",
   "source": "df_acc1 = display(df_acc.sort_values(by=\"Accuracy\", ascending=False)) ",
   "id": "9182c4933451421",
   "outputs": [
    {
     "data": {
      "text/plain": [
       "           Model  Accuracy\n",
       "1         Markov     99.60\n",
       "0  Probabilistic     97.30\n",
       "4          Delay     95.07\n",
       "3         Signal     83.73\n",
       "2       Distance     61.80"
      ],
      "text/html": [
       "<div>\n",
       "<style scoped>\n",
       "    .dataframe tbody tr th:only-of-type {\n",
       "        vertical-align: middle;\n",
       "    }\n",
       "\n",
       "    .dataframe tbody tr th {\n",
       "        vertical-align: top;\n",
       "    }\n",
       "\n",
       "    .dataframe thead th {\n",
       "        text-align: right;\n",
       "    }\n",
       "</style>\n",
       "<table border=\"1\" class=\"dataframe\">\n",
       "  <thead>\n",
       "    <tr style=\"text-align: right;\">\n",
       "      <th></th>\n",
       "      <th>Model</th>\n",
       "      <th>Accuracy</th>\n",
       "    </tr>\n",
       "  </thead>\n",
       "  <tbody>\n",
       "    <tr>\n",
       "      <th>1</th>\n",
       "      <td>Markov</td>\n",
       "      <td>99.60</td>\n",
       "    </tr>\n",
       "    <tr>\n",
       "      <th>0</th>\n",
       "      <td>Probabilistic</td>\n",
       "      <td>97.30</td>\n",
       "    </tr>\n",
       "    <tr>\n",
       "      <th>4</th>\n",
       "      <td>Delay</td>\n",
       "      <td>95.07</td>\n",
       "    </tr>\n",
       "    <tr>\n",
       "      <th>3</th>\n",
       "      <td>Signal</td>\n",
       "      <td>83.73</td>\n",
       "    </tr>\n",
       "    <tr>\n",
       "      <th>2</th>\n",
       "      <td>Distance</td>\n",
       "      <td>61.80</td>\n",
       "    </tr>\n",
       "  </tbody>\n",
       "</table>\n",
       "</div>"
      ]
     },
     "metadata": {},
     "output_type": "display_data"
    }
   ],
   "execution_count": 74
  },
  {
   "metadata": {
    "ExecuteTime": {
     "end_time": "2025-05-20T22:49:03.331397Z",
     "start_time": "2025-05-20T22:49:03.297703Z"
    }
   },
   "cell_type": "code",
   "source": "df_acc1.head()",
   "id": "63fbf261658d83a",
   "outputs": [
    {
     "ename": "AttributeError",
     "evalue": "'NoneType' object has no attribute 'head'",
     "output_type": "error",
     "traceback": [
      "\u001B[31m---------------------------------------------------------------------------\u001B[39m",
      "\u001B[31mAttributeError\u001B[39m                            Traceback (most recent call last)",
      "\u001B[36mCell\u001B[39m\u001B[36m \u001B[39m\u001B[32mIn[75]\u001B[39m\u001B[32m, line 1\u001B[39m\n\u001B[32m----> \u001B[39m\u001B[32m1\u001B[39m \u001B[43mdf_acc1\u001B[49m\u001B[43m.\u001B[49m\u001B[43mhead\u001B[49m()\n",
      "\u001B[31mAttributeError\u001B[39m: 'NoneType' object has no attribute 'head'"
     ]
    }
   ],
   "execution_count": 75
  },
  {
   "metadata": {},
   "cell_type": "code",
   "source": [
    "# === Cell 9: Observation Comparison Utility ===\n",
    "\n",
    "def compare_raw_and_masked_obs(env, wrapped_env, agent_to_track=None):\n",
    "    \"\"\"\n",
    "    Compares raw vs masked observations for one agent.\n",
    "    \"\"\"\n",
    "    from pettingzoo.utils.conversions import aec_to_parallel\n",
    "    import numpy as np\n",
    "\n",
    "    SEED = 42\n",
    "    # Convert both to parallel environments and reset with same seed\n",
    "    par_raw_env = aec_to_parallel(env)\n",
    "    par_env = aec_to_parallel(wrapped_env)\n",
    "    raw_obs, _ = par_raw_env.reset(seed=SEED)\n",
    "    masked_obs, _ = par_env.reset(seed=SEED)\n",
    "\n",
    "    if agent_to_track is None:\n",
    "        agent_to_track = env.possible_agents[0]\n",
    "\n",
    "    print(f\"\\n🔍 Agent Tracked: {agent_to_track}\")\n",
    "    print(\"\\n--- BEFORE (Raw Observation) ---\")\n",
    "    print(raw_obs[agent_to_track])\n",
    "\n",
    "    print(\"\\n--- AFTER (Masked Observation) ---\")\n",
    "    print(masked_obs[agent_to_track])\n",
    "\n",
    "    print(\"\\n--- Difference Report ---\")\n",
    "    # ✅ FIX: Compare vector-wise if not a dict\n",
    "    if isinstance(masked_obs[agent_to_track], dict):\n",
    "        for other_agent in masked_obs[agent_to_track]:\n",
    "            raw_vec = raw_obs[agent_to_track]  # flat vector\n",
    "            masked_vec = masked_obs[agent_to_track].get(other_agent, np.zeros_like(raw_vec))\n",
    "            diff = np.abs(raw_vec - masked_vec)\n",
    "            was_masked = not np.any(masked_vec) and np.any(raw_vec)\n",
    "            status = \"MASKED\" if was_masked else \"VISIBLE\"\n",
    "            print(f\"{other_agent}: {status} | Δ = {diff.sum():.2f}\")\n",
    "    else:\n",
    "        print(f\"⚠️ Observation for {agent_to_track} is not a dict — got {type(masked_obs[agent_to_track])}\")\n",
    "\n",
    "# Run the comparison\n",
    "compare_raw_and_masked_obs(base_env, wrapped_env)\n"
   ],
   "id": "1f1ee4d1d18ceed3",
   "outputs": [],
   "execution_count": null
  },
  {
   "metadata": {
    "ExecuteTime": {
     "end_time": "2025-05-20T22:49:03.334167Z",
     "start_time": "2025-05-20T22:49:03.334167Z"
    }
   },
   "cell_type": "code",
   "source": "",
   "id": "a7deb77b4699e844",
   "outputs": [],
   "execution_count": null
  },
  {
   "metadata": {},
   "cell_type": "markdown",
   "source": "",
   "id": "573f683a64091600"
  }
 ],
 "metadata": {
  "kernelspec": {
   "display_name": "Python 3",
   "language": "python",
   "name": "python3"
  },
  "language_info": {
   "codemirror_mode": {
    "name": "ipython",
    "version": 2
   },
   "file_extension": ".py",
   "mimetype": "text/x-python",
   "name": "python",
   "nbconvert_exporter": "python",
   "pygments_lexer": "ipython2",
   "version": "2.7.6"
  }
 },
 "nbformat": 4,
 "nbformat_minor": 5
}
