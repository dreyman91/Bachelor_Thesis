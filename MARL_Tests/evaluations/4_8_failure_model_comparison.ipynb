{
 "cells": [
  {
   "cell_type": "code",
   "id": "initial_id",
   "metadata": {
    "collapsed": true,
    "ExecuteTime": {
     "end_time": "2025-05-20T11:38:07.368806Z",
     "start_time": "2025-05-20T11:38:07.364165Z"
    }
   },
   "source": [
    "import numpy as np\n",
    "import matplotlib.pyplot as plt\n",
    "import seaborn as sns\n",
    "import pandas as pd\n",
    "from tqdm import tqdm\n",
    "from utils.position_utils import make_position_fn\n",
    "\n",
    "from mpe2 import simple_spread_v3\n",
    "from pettingzoo.utils.conversions import aec_to_parallel\n",
    "\n",
    "from stable_baselines3 import DQN  \n",
    "\n",
    "from failure_api.communication_models import (\n",
    "    ProbabilisticModel,\n",
    "    DistanceModel,\n",
    "    BaseMarkovModel,\n",
    "    SignalBasedModel,\n",
    "    DelayBasedModel\n",
    ")\n",
    "from failure_api.wrappers import CommunicationWrapper"
   ],
   "outputs": [],
   "execution_count": 20
  },
  {
   "metadata": {
    "ExecuteTime": {
     "end_time": "2025-05-20T11:38:09.144014Z",
     "start_time": "2025-05-20T11:38:09.134202Z"
    }
   },
   "cell_type": "code",
   "source": [
    "\n",
    "\n",
    "\n",
    "def evaluate_failure_models(model_name, trained_policy, agent_count=3, episodes=30, max_cycles=25, seed=42):\n",
    "    env = simple_spread_v3.env(N=agent_count, max_cycles=max_cycles)\n",
    "    agent_ids = env.possible_agents\n",
    "    env.reset(seed=seed)\n",
    "    pos_fn = make_position_fn(env)\n",
    "    \n",
    "    if model_name == \"probabilistic\":\n",
    "        rng = np.random.RandomState(seed + 200)\n",
    "        failure_model = ProbabilisticModel(agent_ids=agent_ids, failure_prob=0.5, rng=rng)\n",
    "    elif model_name == \"distance\":\n",
    "        failure_model = DistanceModel(agent_ids=agent_ids, distance_threshold=1.0, pos_fn=pos_fn, rng = np.random.RandomState(seed + 42))\n",
    "    elif model_name == \"markov\":\n",
    "        p = np.array([[0.8, 0.2], [0.2, 0.8]])\n",
    "        failure_model = BaseMarkovModel(agent_ids=agent_ids, default_matrix=p)\n",
    "    else:\n",
    "        raise ValueError(\"Unknown model\")\n",
    "    \n",
    "    wrapped_env = CommunicationWrapper(env, failure_models=[failure_model])\n",
    "    parallel_env = aec_to_parallel(wrapped_env)\n",
    "    \n",
    "    rewards = []\n",
    "    \n",
    "    for _ in tqdm(range(episodes), desc=f\"Evaluating {model_name}\"):\n",
    "        obs, _ = parallel_env.reset(seed=seed)\n",
    "        total_reward = 0\n",
    "        for _ in range(max_cycles):\n",
    "                \n",
    "            def flatten_obs(obs_dict, agent_id=None):\n",
    "                if isinstance(obs_dict, dict):\n",
    "                    if agent_id and agent_id in obs_dict:\n",
    "                        return obs_dict[agent_id]\n",
    "                    return np.concatenate([v for v in obs_dict.values()])\n",
    "                return obs_dict  \n",
    "            \n",
    "            actions = {\n",
    "                agent: trained_policy.predict(\n",
    "                    flatten_obs(obs[agent], agent_id=agent),\n",
    "                    deterministic=True\n",
    "                )[0]\n",
    "                for agent in parallel_env.agents\n",
    "}\n",
    "            obs, rews, terms, truncs, infos = parallel_env.step(actions=actions)\n",
    "            \n",
    "            total_reward += sum(float(r) for r in rews.values())\n",
    "            \n",
    "            if all(terms.values()) or all(truncs.values()):\n",
    "                break\n",
    "        rewards.append(total_reward)\n",
    "                \n",
    "    return rewards"
   ],
   "id": "5eb1c94192c328e7",
   "outputs": [],
   "execution_count": 21
  },
  {
   "metadata": {
    "ExecuteTime": {
     "end_time": "2025-05-20T11:38:15.648105Z",
     "start_time": "2025-05-20T11:38:10.243123Z"
    }
   },
   "cell_type": "code",
   "source": [
    "from stable_baselines3 import DQN\n",
    "model_path = r\"C:\\Users\\koste\\venv\\Bachelor_Thesis\\MARL_Tests\\evaluations\\.iql_training\\simple_spread_v3_model_0.zip\"\n",
    "trained_model = DQN.load(model_path)\n",
    "\n",
    "results = {}\n",
    "\n",
    "for model_name in [\"probabilistic\", \"distance\", \"markov\"]:\n",
    "    rewards = evaluate_failure_models(model_name, trained_model)\n",
    "    results[model_name] = rewards"
   ],
   "id": "16dae8d537449ee5",
   "outputs": [
    {
     "name": "stderr",
     "output_type": "stream",
     "text": [
      "Evaluating probabilistic: 100%|██████████| 30/30 [00:01<00:00, 20.42it/s]\n"
     ]
    },
    {
     "name": "stdout",
     "output_type": "stream",
     "text": [
      "[INIT] Created DistanceModel with agent_ids = ['agent_0', 'agent_1', 'agent_2']\n"
     ]
    },
    {
     "name": "stderr",
     "output_type": "stream",
     "text": [
      "Evaluating distance: 100%|██████████| 30/30 [00:01<00:00, 17.12it/s]\n",
      "Evaluating markov: 100%|██████████| 30/30 [00:02<00:00, 13.98it/s]\n"
     ]
    }
   ],
   "execution_count": 22
  },
  {
   "metadata": {
    "ExecuteTime": {
     "end_time": "2025-05-20T11:38:55.463009Z",
     "start_time": "2025-05-20T11:38:55.270865Z"
    }
   },
   "cell_type": "code",
   "source": [
    "import  scipy.stats as stats\n",
    "\n",
    "reward_df = pd.DataFrame({\n",
    "    \"reward\": np.concatenate(list(results.values())),\n",
    "    \"model\": np.repeat(list(results.keys()), [len(r) for r in results.values()])\n",
    "})\n",
    "\n",
    "plt.figure(figsize=(8, 5))\n",
    "sns.barplot(data=reward_df, x=\"model\", y=\"reward\")\n",
    "plt.title(\"Average Episodic Reward per Failure Model\")\n",
    "plt.ylabel(\"Total Episode Reward\")\n",
    "plt.xlabel(\"Failure Model\")\n",
    "plt.show()\n",
    "\n",
    "f_val, p_val = stats.f_oneway(*results.values())\n",
    "print(f\"ANOVA F = {f_val:.4f}, p = {p_val:.4g}\")"
   ],
   "id": "3790905eaeb2bd8d",
   "outputs": [
    {
     "data": {
      "text/plain": [
       "<Figure size 800x500 with 1 Axes>"
      ],
      "image/png": "[encoded data removed]"
     },
     "metadata": {},
     "output_type": "display_data"
    },
    {
     "name": "stdout",
     "output_type": "stream",
     "text": [
      "ANOVA F = 54725.6698, p = 1.406e-135\n"
     ]
    }
   ],
   "execution_count": 26
  },
  {
   "metadata": {
    "ExecuteTime": {
     "end_time": "2025-05-20T11:38:58.196515Z",
     "start_time": "2025-05-20T11:38:58.191153Z"
    }
   },
   "cell_type": "code",
   "source": [
    "for k, v in results.items():\n",
    "    print(f\"{k}: mean={np.mean(v):.2f}, std={np.std(v):.2f}, values={v[:5]}...\")\n"
   ],
   "id": "63d8f51943536649",
   "outputs": [
    {
     "name": "stdout",
     "output_type": "stream",
     "text": [
      "probabilistic: mean=-71.55, std=0.00, values=[-71.5525897124206, -71.5525897124206, -71.5525897124206, -71.5525897124206, -71.5525897124206]...\n",
      "distance: mean=-67.64, std=0.00, values=[-67.6416495945462, -67.6416495945462, -67.6416495945462, -67.6416495945462, -67.6416495945462]...\n",
      "markov: mean=-65.16, std=0.13, values=[-65.85551852735836, -65.1400680852755, -65.1400680852755, -65.1400680852755, -65.1400680852755]...\n"
     ]
    }
   ],
   "execution_count": 27
  },
  {
   "metadata": {},
   "cell_type": "markdown",
   "source": [
    "### 4.8 Failure Model Comparison (H5)\n",
    "\n",
    "This section evaluates whether different communication failure models result in significantly different agent behaviors, as postulated in Hypothesis H5.\n",
    "\n",
    "Using a fixed DQN policy trained on `simple_spread_v3`, we ran 30 evaluation episodes each for three communication models: **probabilistic dropout**, **distance-based attenuation**, and **Markovian link persistence**. Communication masking was applied via the `CommunicationWrapper`, and the same policy was evaluated under each condition.\n",
    "\n",
    "#### 📊 Results Summary\n",
    "\n",
    "| Failure Model | Mean Reward | Std Dev |\n",
    "|---------------|-------------|---------|\n",
    "| Probabilistic | -71.55      | 0.00    |\n",
    "| Distance      | -67.64      | 0.00    |\n",
    "| Markovian     | -65.16      | 0.13    |\n",
    "\n",
    "A one-way ANOVA confirmed that failure model choice has a **statistically significant impact** on task performance  \n",
    "**(F = 54725.67, p ≈ 1.4 × 10⁻¹³⁵)**.  \n",
    "This strongly supports H5, indicating that MARL systems exhibit **measurable sensitivity** to how communication failures are modeled.\n",
    "\n",
    "Interestingly, the deterministic outcomes in the probabilistic and distance-based models suggest that their masking effects may have been consistently applied due to fixed seeds or static observation masks. In contrast, the Markov model introduced episode-to-episode variation, reflected in its higher standard deviation.\n",
    "\n",
    "These findings emphasize the importance of selecting appropriate failure models during MARL policy evaluation, especially in safety-critical applications. **Model-aware design may be necessary for robust policy development**.\n"
   ],
   "id": "27113366563931a1"
  },
  {
   "metadata": {},
   "cell_type": "code",
   "outputs": [],
   "execution_count": null,
   "source": "",
   "id": "1b704893af723f1e"
  }
 ],
 "metadata": {
  "kernelspec": {
   "display_name": "Python 3",
   "language": "python",
   "name": "python3"
  },
  "language_info": {
   "codemirror_mode": {
    "name": "ipython",
    "version": 2
   },
   "file_extension": ".py",
   "mimetype": "text/x-python",
   "name": "python",
   "nbconvert_exporter": "python",
   "pygments_lexer": "ipython2",
   "version": "2.7.6"
  }
 },
 "nbformat": 4,
 "nbformat_minor": 5
}
