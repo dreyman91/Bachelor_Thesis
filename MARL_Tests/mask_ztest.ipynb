{
 "cells": [
  {
   "cell_type": "code",
   "execution_count": null,
   "id": "initial_id",
   "metadata": {
    "collapsed": true
   },
   "outputs": [],
   "source": [
    ""
   ]
  },
  {
   "metadata": {
    "ExecuteTime": {
     "end_time": "2025-05-20T09:54:30.880708Z",
     "start_time": "2025-05-20T09:54:27.726553Z"
    }
   },
   "cell_type": "code",
   "source": [
    "import numpy as np\n",
    "from mpe2 import simple_spread_v3\n",
    "from pettingzoo.utils.conversions import aec_to_parallel\n",
    "\n",
    "from failure_api.wrappers import CommunicationWrapper\n",
    "from failure_api.communication_models import (\n",
    "    ProbabilisticModel,\n",
    "    BaseMarkovModel,\n",
    "    DistanceModel,\n",
    ")\n",
    "\n",
    "def test_masking_variability(model_class, model_args={}, model_name=\"UnknownModel\", N=3, runs=5):\n",
    "    print(f\"\\n🔎 Testing variability of: {model_name} ({model_class.__name__})\")\n",
    "    matrices = []\n",
    "\n",
    "    for i in range(runs):\n",
    "        # Fresh environment for each test run\n",
    "        env = simple_spread_v3.env(N=N)\n",
    "        env.reset(seed=42 + i)\n",
    "\n",
    "        # Special case for DistanceModel: define pos_fn dynamically\n",
    "        if model_class is DistanceModel:\n",
    "            def get_positions(env_ref):\n",
    "                return {\n",
    "                    agent: env_ref.env.state()[idx][:2]\n",
    "                    for idx, agent in enumerate(env_ref.possible_agents)\n",
    "                }\n",
    "            pos_fn = lambda env_ref=env: get_positions(env_ref)\n",
    "            model_args[\"pos_fn\"] = pos_fn\n",
    "\n",
    "        model = model_class(agent_ids=env.possible_agents, **model_args)\n",
    "        wrapped = CommunicationWrapper(env, failure_models=[model])\n",
    "        wrapped.reset(seed=42 + i)\n",
    "\n",
    "        matrix = np.round(wrapped.comms_matrix.matrix.toarray(), 2) \n",
    "        matrices.append(matrix)\n",
    "        print(f\"Run {i+1}:\\n{matrix}\")\n",
    "\n",
    "    # Check if at least one matrix differs from the others\n",
    "    unique = any(not np.array_equal(matrices[0], m) for m in matrices[1:])\n",
    "    if unique:\n",
    "        print(f\"✅ {model_name} shows variation across runs.\\n\")\n",
    "    else:\n",
    "        print(f\"❌ {model_name} is deterministic! No variation across runs.\\n\")\n",
    "\n",
    "# Run tests for all three models\n",
    "test_masking_variability(\n",
    "    ProbabilisticModel,\n",
    "    model_args={\"failure_prob\": 0.5},\n",
    "    model_name=\"ProbabilisticModel\"\n",
    ")\n",
    "\n",
    "agent_ids = [f\"agent_{i}\" for i in range(3)]\n",
    "tp_matrix = np.array([[0.8, 0.2], [0.2, 0.8]])\n",
    "\n",
    "transition_probs = {\n",
    "    (a1, a2): tp_matrix.copy()\n",
    "    for a1 in agent_ids\n",
    "    for a2 in agent_ids\n",
    "    if a1 != a2\n",
    "}\n",
    "\n",
    "test_masking_variability(\n",
    "    BaseMarkovModel,\n",
    "    model_args={\n",
    "        \"transition_probabilities\": transition_probs,\n",
    "        \"default_matrix\": np.array([[0.8, 0.2], [0.2, 0.8]])  # ✅ Explicit default_matrix\n",
    "    },\n",
    "    model_name=\"BaseMarkovModel\"\n",
    ")\n",
    "\n",
    "test_masking_variability(\n",
    "    DistanceModel,\n",
    "    model_args={\"distance_threshold\": 1.0},  # pos_fn injected inside\n",
    "    model_name=\"DistanceModel\"\n",
    ")\n"
   ],
   "id": "d10582941ce2f164",
   "outputs": [
    {
     "name": "stdout",
     "output_type": "stream",
     "text": [
      "\n",
      "🔎 Testing variability of: ProbabilisticModel (ProbabilisticModel)\n"
     ]
    },
    {
     "ename": "AttributeError",
     "evalue": "'numpy.ndarray' object has no attribute 'toarray'",
     "output_type": "error",
     "traceback": [
      "\u001B[31m---------------------------------------------------------------------------\u001B[39m",
      "\u001B[31mAttributeError\u001B[39m                            Traceback (most recent call last)",
      "\u001B[36mCell\u001B[39m\u001B[36m \u001B[39m\u001B[32mIn[1]\u001B[39m\u001B[32m, line 47\u001B[39m\n\u001B[32m     44\u001B[39m         \u001B[38;5;28mprint\u001B[39m(\u001B[33mf\u001B[39m\u001B[33m\"\u001B[39m\u001B[33m❌ \u001B[39m\u001B[38;5;132;01m{\u001B[39;00mmodel_name\u001B[38;5;132;01m}\u001B[39;00m\u001B[33m is deterministic! No variation across runs.\u001B[39m\u001B[38;5;130;01m\\n\u001B[39;00m\u001B[33m\"\u001B[39m)\n\u001B[32m     46\u001B[39m \u001B[38;5;66;03m# Run tests for all three models\u001B[39;00m\n\u001B[32m---> \u001B[39m\u001B[32m47\u001B[39m \u001B[43mtest_masking_variability\u001B[49m\u001B[43m(\u001B[49m\n\u001B[32m     48\u001B[39m \u001B[43m    \u001B[49m\u001B[43mProbabilisticModel\u001B[49m\u001B[43m,\u001B[49m\n\u001B[32m     49\u001B[39m \u001B[43m    \u001B[49m\u001B[43mmodel_args\u001B[49m\u001B[43m=\u001B[49m\u001B[43m{\u001B[49m\u001B[33;43m\"\u001B[39;49m\u001B[33;43mfailure_prob\u001B[39;49m\u001B[33;43m\"\u001B[39;49m\u001B[43m:\u001B[49m\u001B[43m \u001B[49m\u001B[32;43m0.5\u001B[39;49m\u001B[43m}\u001B[49m\u001B[43m,\u001B[49m\n\u001B[32m     50\u001B[39m \u001B[43m    \u001B[49m\u001B[43mmodel_name\u001B[49m\u001B[43m=\u001B[49m\u001B[33;43m\"\u001B[39;49m\u001B[33;43mProbabilisticModel\u001B[39;49m\u001B[33;43m\"\u001B[39;49m\n\u001B[32m     51\u001B[39m \u001B[43m)\u001B[49m\n\u001B[32m     53\u001B[39m agent_ids = [\u001B[33mf\u001B[39m\u001B[33m\"\u001B[39m\u001B[33magent_\u001B[39m\u001B[38;5;132;01m{\u001B[39;00mi\u001B[38;5;132;01m}\u001B[39;00m\u001B[33m\"\u001B[39m \u001B[38;5;28;01mfor\u001B[39;00m i \u001B[38;5;129;01min\u001B[39;00m \u001B[38;5;28mrange\u001B[39m(\u001B[32m3\u001B[39m)]\n\u001B[32m     54\u001B[39m tp_matrix = np.array([[\u001B[32m0.8\u001B[39m, \u001B[32m0.2\u001B[39m], [\u001B[32m0.2\u001B[39m, \u001B[32m0.8\u001B[39m]])\n",
      "\u001B[36mCell\u001B[39m\u001B[36m \u001B[39m\u001B[32mIn[1]\u001B[39m\u001B[32m, line 35\u001B[39m, in \u001B[36mtest_masking_variability\u001B[39m\u001B[34m(model_class, model_args, model_name, N, runs)\u001B[39m\n\u001B[32m     32\u001B[39m wrapped = CommunicationWrapper(env, failure_models=[model])\n\u001B[32m     33\u001B[39m wrapped.reset(seed=\u001B[32m42\u001B[39m + i)\n\u001B[32m---> \u001B[39m\u001B[32m35\u001B[39m matrix = np.round(\u001B[43mwrapped\u001B[49m\u001B[43m.\u001B[49m\u001B[43mcomms_matrix\u001B[49m\u001B[43m.\u001B[49m\u001B[43mmatrix\u001B[49m\u001B[43m.\u001B[49m\u001B[43mtoarray\u001B[49m(), \u001B[32m2\u001B[39m) \n\u001B[32m     36\u001B[39m matrices.append(matrix)\n\u001B[32m     37\u001B[39m \u001B[38;5;28mprint\u001B[39m(\u001B[33mf\u001B[39m\u001B[33m\"\u001B[39m\u001B[33mRun \u001B[39m\u001B[38;5;132;01m{\u001B[39;00mi+\u001B[32m1\u001B[39m\u001B[38;5;132;01m}\u001B[39;00m\u001B[33m:\u001B[39m\u001B[38;5;130;01m\\n\u001B[39;00m\u001B[38;5;132;01m{\u001B[39;00mmatrix\u001B[38;5;132;01m}\u001B[39;00m\u001B[33m\"\u001B[39m)\n",
      "\u001B[31mAttributeError\u001B[39m: 'numpy.ndarray' object has no attribute 'toarray'"
     ]
    }
   ],
   "execution_count": 1
  },
  {
   "metadata": {},
   "cell_type": "code",
   "outputs": [],
   "execution_count": null,
   "source": "",
   "id": "42b6154f5ce778bd"
  }
 ],
 "metadata": {
  "kernelspec": {
   "display_name": "Python 3",
   "language": "python",
   "name": "python3"
  },
  "language_info": {
   "codemirror_mode": {
    "name": "ipython",
    "version": 2
   },
   "file_extension": ".py",
   "mimetype": "text/x-python",
   "name": "python",
   "nbconvert_exporter": "python",
   "pygments_lexer": "ipython2",
   "version": "2.7.6"
  }
 },
 "nbformat": 4,
 "nbformat_minor": 5
}
