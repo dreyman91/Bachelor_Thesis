{
 "cells": [
  {
   "cell_type": "code",
   "execution_count": null,
   "id": "initial_id",
   "metadata": {
    "collapsed": true
   },
   "outputs": [],
   "source": [
    "from mpe2 import simple_spread_v3\n",
    "from pettingzoo.utils.conversions import aec_to_parallel\n",
    "from failure_api.communication_models.adversarial_jamming_model import BaseJammingModel\n",
    "from failure_api.wrappers.communication_wrapper import CommunicationWrapper\n",
    "\n",
    "import numpy as np\n",
    "import matplotlib.pyplot as plt\n",
    "import seaborn as sns\n",
    "\n",
    "\n",
    "env = simple_spread_v3.env(N=3, local_ratio=0.5)\n",
    "agent_ids = env.possible_agents\n",
    "model = BaseJammingModel(agent_ids)\n",
    "\n",
    "wrapped_env = CommunicationWrapper(env, failure_models=[model])\n",
    "par_env = aec_to_parallel(wrapped_env)\n",
    "observations, infos = par_env.reset()\n",
    "\n",
    "communication_matrices = [wrapped_env.get_communication_state().astype(int).copy()]\n",
    "rewards_over_time = []\n",
    "\n",
    "for t in range(10):\n",
    "    actions = {agent: par_env.action_space(agent).sample() for agent in par_env.agents}\n",
    "    observations, rewards, terminations, truncations, infos = par_env.step(actions)\n",
    "    \n",
    "    \n",
    "    matrix = wrapped_env.get_communication_state().astype(int).copy()\n",
    "    communication_matrices.append(matrix)\n",
    "    rewards_over_time.append(rewards)\n",
    "\n",
    "    print(f\"\\nStep {t}: Communication Matrix\")\n",
    "    print(matrix)"
   ]
  }
 ],
 "metadata": {
  "kernelspec": {
   "display_name": "Python 3",
   "language": "python",
   "name": "python3"
  },
  "language_info": {
   "codemirror_mode": {
    "name": "ipython",
    "version": 2
   },
   "file_extension": ".py",
   "mimetype": "text/x-python",
   "name": "python",
   "nbconvert_exporter": "python",
   "pygments_lexer": "ipython2",
   "version": "2.7.6"
  }
 },
 "nbformat": 4,
 "nbformat_minor": 5
}
