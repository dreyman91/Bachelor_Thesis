{
 "cells": [
  {
   "metadata": {},
   "cell_type": "markdown",
   "source": [
    "## **Noise Models**\n",
    "\n",
    "##### To test the functionality of the **NoiseModels** in isolation from the rest of the API. This is to confirm that noise is applied correctly to observations and that the result is valid and clipped to the observation space bounds."
   ],
   "id": "d83cbd23903b785b"
  },
  {
   "metadata": {},
   "cell_type": "markdown",
   "source": "#### Gaussian Model",
   "id": "cdf515096e7f60bb"
  },
  {
   "metadata": {
    "ExecuteTime": {
     "end_time": "2025-04-07T07:38:45.222949Z",
     "start_time": "2025-04-07T07:38:45.046958Z"
    }
   },
   "cell_type": "code",
   "source": [
    "import importlib\n",
    "import Failure_API.tests.utils.dummy_env as dv\n",
    "import Failure_API.src.wrapper_api.models.noise_model as nm\n",
    "import Failure_API.src.wrapper_api.failure_apis.noise_wrapper as nw\n",
    "import Failure_API.src.wrapper_api.failure_apis.sharedobs_wrapper as swr\n",
    "from Failure_API.src.wrapper_api.failure_apis.sharedobs_wrapper import SharedObsWrapper\n",
    "\n",
    "importlib.reload(nm)\n",
    "importlib.reload(nw)\n",
    "importlib.reload(dv)\n",
    "importlib.reload(swr)\n",
    "from Failure_API.tests.utils.dummy_env import DummyEnv\n",
    "from Failure_API.src.wrapper_api.failure_apis.noise_wrapper import NoiseWrapper\n",
    "from Failure_API.src.wrapper_api.models.noise_model import GaussianNoise, LaplacianNoise, CustomNoise\n",
    "\n",
    "from gymnasium import spaces\n",
    "import numpy as np\n",
    "\n"
   ],
   "id": "bbd2024a5f9b04d6",
   "outputs": [],
   "execution_count": 1
  },
  {
   "metadata": {},
   "cell_type": "markdown",
   "source": "### Gaussian",
   "id": "ac85d01dade2e72"
  },
  {
   "metadata": {
    "ExecuteTime": {
     "end_time": "2025-04-07T07:40:10.719285Z",
     "start_time": "2025-04-07T07:40:10.710175Z"
    }
   },
   "cell_type": "code",
   "source": [
    "\n",
    "# Create a Gaussian noise model\n",
    "env = DummyEnv()\n",
    "env = SharedObsWrapper(env)\n",
    "ns_model = GaussianNoise(mean=0.2, std=0.5)\n",
    "\n",
    "env = NoiseWrapper(env, noise_model= ns_model)\n",
    "# Reset and observe\n",
    "env.reset()\n",
    "\n",
    "obs0 = env.observe(\"agent0\")\n",
    "obs1 = env.observe(\"agent1\")\n",
    "\n",
    "print(\"Agent0 Observation:\")\n",
    "for k, v in obs0.items():\n",
    "    print(f\"{k}: {v}\")\n",
    "\n",
    "print(\"Agent1 Observation:\")\n",
    "for k, v in obs1.items():\n",
    "    print(f\"{k}: {v}\")\n"
   ],
   "id": "af784b1fa05c978e",
   "outputs": [
    {
     "name": "stdout",
     "output_type": "stream",
     "text": [
      "Agent0 Observation:\n",
      "agent0: [ 3. -1.]\n",
      "agent1: [-0.30757792  4.68788465]\n",
      "Agent1 Observation:\n",
      "agent0: [ 3.03420878 -0.09989437]\n",
      "agent1: [0. 4.]\n"
     ]
    }
   ],
   "execution_count": 8
  },
  {
   "metadata": {},
   "cell_type": "markdown",
   "source": "#### Laplacian Model",
   "id": "77bce1a56bb2da27"
  },
  {
   "metadata": {
    "ExecuteTime": {
     "end_time": "2025-04-07T07:38:45.679505Z",
     "start_time": "2025-04-07T07:38:45.394976Z"
    }
   },
   "cell_type": "code",
   "source": [
    "\n",
    "# Create a Laplacian noise model\n",
    "laplace_model = LaplacianNoise(loc=0.0, scale=0.2)\n",
    "\n",
    "# Wrap with Laplacian noise\n",
    "env = DummyNWEnv()\n",
    "wrapped_env = NoiseWrapper(env, noise_model=laplace_model)\n",
    "\n",
    "# Reset and observe\n",
    "wrapped_env.reset()\n",
    "agent = wrapped_env.agent_selection\n",
    "obs = wrapped_env.observe(agent)\n",
    "\n",
    "print(f\"Laplacian noisy observation for {agent}:\", obs)\n"
   ],
   "id": "96c73a1727c184f7",
   "outputs": [
    {
     "ename": "NameError",
     "evalue": "name 'DummyNWEnv' is not defined",
     "output_type": "error",
     "traceback": [
      "\u001B[0;31m---------------------------------------------------------------------------\u001B[0m",
      "\u001B[0;31mNameError\u001B[0m                                 Traceback (most recent call last)",
      "Cell \u001B[0;32mIn[3], line 5\u001B[0m\n\u001B[1;32m      2\u001B[0m laplace_model \u001B[38;5;241m=\u001B[39m LaplacianNoise(loc\u001B[38;5;241m=\u001B[39m\u001B[38;5;241m0.0\u001B[39m, scale\u001B[38;5;241m=\u001B[39m\u001B[38;5;241m0.2\u001B[39m)\n\u001B[1;32m      4\u001B[0m \u001B[38;5;66;03m# Wrap with Laplacian noise\u001B[39;00m\n\u001B[0;32m----> 5\u001B[0m env \u001B[38;5;241m=\u001B[39m \u001B[43mDummyNWEnv\u001B[49m()\n\u001B[1;32m      6\u001B[0m wrapped_env \u001B[38;5;241m=\u001B[39m NoiseWrapper(env, noise_model\u001B[38;5;241m=\u001B[39mlaplace_model)\n\u001B[1;32m      8\u001B[0m \u001B[38;5;66;03m# Reset and observe\u001B[39;00m\n",
      "\u001B[0;31mNameError\u001B[0m: name 'DummyNWEnv' is not defined"
     ]
    }
   ],
   "execution_count": 3
  },
  {
   "metadata": {
    "ExecuteTime": {
     "end_time": "2025-04-07T07:38:45.682472433Z",
     "start_time": "2025-04-05T14:53:28.411362Z"
    }
   },
   "cell_type": "code",
   "source": "",
   "id": "1c447a3bdd281df9",
   "outputs": [],
   "execution_count": null
  },
  {
   "metadata": {},
   "cell_type": "markdown",
   "source": [
    "### Custom Noise Model\n",
    "##### Allows definition of custom noise function"
   ],
   "id": "bea70005c081250f"
  },
  {
   "metadata": {
    "ExecuteTime": {
     "end_time": "2025-04-07T07:38:45.684517588Z",
     "start_time": "2025-04-05T14:53:28.472351Z"
    }
   },
   "cell_type": "code",
   "source": [
    "def custom_noise(cm_obs, space):\n",
    "    return np.clip(cm_obs + 0.3, space.low, space.high)\n",
    "\n",
    "cm_noise_model = CustomNoise(noise_fn=custom_noise)\n",
    "env = DummyNWEnv()\n",
    "wrapped_cm_env = NoiseWrapper(env, cm_noise_model)\n",
    "\n",
    "wrapped_cm_env.reset()\n",
    "\n",
    "agent = wrapped_cm_env.agent_selection\n",
    "cm_obs = wrapped_cm_env.observe(agent)\n",
    "\n",
    "print(f\"Custom Noisy observation for {agent}:\", cm_obs)\n",
    "\n"
   ],
   "id": "443fc9f14cce8a86",
   "outputs": [
    {
     "name": "stdout",
     "output_type": "stream",
     "text": [
      "Custom Noisy observation for agent_0: [0.70000005 0.90000004]\n"
     ]
    }
   ],
   "execution_count": 48
  },
  {
   "metadata": {
    "ExecuteTime": {
     "end_time": "2025-04-07T07:38:45.700965394Z",
     "start_time": "2025-04-05T14:53:28.529724Z"
    }
   },
   "cell_type": "code",
   "source": "",
   "id": "f96e1b17d9f99a0",
   "outputs": [],
   "execution_count": null
  }
 ],
 "metadata": {
  "kernelspec": {
   "display_name": "Python 3",
   "language": "python",
   "name": "python3"
  },
  "language_info": {
   "codemirror_mode": {
    "name": "ipython",
    "version": 2
   },
   "file_extension": ".py",
   "mimetype": "text/x-python",
   "name": "python",
   "nbconvert_exporter": "python",
   "pygments_lexer": "ipython2",
   "version": "2.7.6"
  }
 },
 "nbformat": 4,
 "nbformat_minor": 5
}
