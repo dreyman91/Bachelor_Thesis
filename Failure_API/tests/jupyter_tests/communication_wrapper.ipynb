{
 "cells": [
  {
   "cell_type": "code",
   "id": "initial_id",
   "metadata": {
    "collapsed": true,
    "ExecuteTime": {
     "end_time": "2025-04-06T23:11:00.971066Z",
     "start_time": "2025-04-06T23:11:00.810748Z"
    }
   },
   "source": [
    "import importlib\n",
    "import Failure_API.tests.utils.dummy_env as dv\n",
    "import Failure_API.src.wrapper_api.wrappers.communication_wrapper as cw\n",
    "import Failure_API.src.wrapper_api.models.active_communication as ac\n",
    "import Failure_API.src.wrapper_api.failure_apis.sharedobs_wrapper as sow\n",
    "from Failure_API.src.wrapper_api.failure_apis.sharedobs_wrapper import SharedObsWrapper\n",
    "\n",
    "importlib.reload(dv)\n",
    "importlib.reload(ac)\n",
    "importlib.reload(cw)\n",
    "importlib.reload(sow)\n",
    "\n",
    "from Failure_API.tests.utils.dummy_env import DummyEnv\n",
    "from Failure_API.src.wrapper_api.models.active_communication import ActiveCommunication\n",
    "from Failure_API.src.wrapper_api.wrappers.communication_wrapper import CommunicationWrapper\n",
    "from Failure_API.src.wrapper_api.models.communication_model import MatrixModel\n",
    "import numpy as np\n"
   ],
   "outputs": [],
   "execution_count": 1
  },
  {
   "metadata": {
    "ExecuteTime": {
     "end_time": "2025-04-06T23:11:06.334397Z",
     "start_time": "2025-04-06T23:11:06.325649Z"
    }
   },
   "cell_type": "code",
   "source": [
    "env = DummyEnv()\n",
    "sharedobs = SharedObsWrapper(env)\n",
    "manual_matrix = np.array([\n",
    "    [1,0],\n",
    "    [0,1]\n",
    "])\n",
    "comm_model = MatrixModel(agent_ids=[\"agent0\", \"agent1\"], comms_matrix_values=manual_matrix, failure_prob=0.0)\n",
    "wrpd = CommunicationWrapper(sharedobs, failure_models=[comm_model])\n",
    "\n",
    "wrpd.reset()\n",
    "print(\"Updated communication matrix:\")\n",
    "print(wrpd.get_communication_state())\n",
    "\n",
    "obs_a0 = wrpd.observe(\"agent0\")\n",
    "obs_a1 = wrpd.observe(\"agent1\")\n",
    "\n",
    "print(\"a0 Observation:\", obs_a0)\n",
    "print(\"a1 Observation:\", obs_a1)\n"
   ],
   "id": "161ce1706055f641",
   "outputs": [
    {
     "name": "stdout",
     "output_type": "stream",
     "text": [
      "Updated communication matrix:\n",
      "[[ True False]\n",
      " [False  True]]\n",
      "a0 Observation: {'agent0': array([ 3., -1.], dtype=float32), 'agent1': array([0., 0.], dtype=float32)}\n",
      "a1 Observation: {'agent0': array([0., 0.], dtype=float32), 'agent1': array([0., 4.], dtype=float32)}\n"
     ]
    }
   ],
   "execution_count": 3
  },
  {
   "metadata": {
    "ExecuteTime": {
     "end_time": "2025-04-06T23:11:01.140427Z",
     "start_time": "2025-04-06T23:11:01.136920Z"
    }
   },
   "cell_type": "code",
   "source": "",
   "id": "e57878f0d4ca9afe",
   "outputs": [],
   "execution_count": null
  },
  {
   "metadata": {
    "ExecuteTime": {
     "end_time": "2025-04-06T23:11:01.184843Z",
     "start_time": "2025-04-06T23:11:01.181279Z"
    }
   },
   "cell_type": "code",
   "source": "",
   "id": "fcea43896c7d175f",
   "outputs": [],
   "execution_count": null
  },
  {
   "metadata": {
    "ExecuteTime": {
     "end_time": "2025-04-06T23:11:01.231279Z",
     "start_time": "2025-04-06T23:11:01.228549Z"
    }
   },
   "cell_type": "code",
   "source": "",
   "id": "57d5ad04ef40dc62",
   "outputs": [],
   "execution_count": null
  },
  {
   "metadata": {
    "ExecuteTime": {
     "end_time": "2025-04-06T23:11:01.279958Z",
     "start_time": "2025-04-06T23:11:01.275701Z"
    }
   },
   "cell_type": "code",
   "source": "",
   "id": "89b7ce021b6558a3",
   "outputs": [],
   "execution_count": null
  },
  {
   "metadata": {
    "ExecuteTime": {
     "end_time": "2025-04-06T23:11:01.327317Z",
     "start_time": "2025-04-06T23:11:01.324570Z"
    }
   },
   "cell_type": "code",
   "source": "",
   "id": "54d612dc9caa3531",
   "outputs": [],
   "execution_count": null
  },
  {
   "metadata": {
    "ExecuteTime": {
     "end_time": "2025-04-06T23:11:01.374142Z",
     "start_time": "2025-04-06T23:11:01.371134Z"
    }
   },
   "cell_type": "code",
   "source": "",
   "id": "b3b1b21f00350fc4",
   "outputs": [],
   "execution_count": null
  }
 ],
 "metadata": {
  "kernelspec": {
   "display_name": "Python 3",
   "language": "python",
   "name": "python3"
  },
  "language_info": {
   "codemirror_mode": {
    "name": "ipython",
    "version": 2
   },
   "file_extension": ".py",
   "mimetype": "text/x-python",
   "name": "python",
   "nbconvert_exporter": "python",
   "pygments_lexer": "ipython2",
   "version": "2.7.6"
  }
 },
 "nbformat": 4,
 "nbformat_minor": 5
}
