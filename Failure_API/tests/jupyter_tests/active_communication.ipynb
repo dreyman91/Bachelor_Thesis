{
 "cells": [
  {
   "cell_type": "code",
   "id": "initial_id",
   "metadata": {
    "collapsed": true,
    "ExecuteTime": {
     "end_time": "2025-04-04T19:01:56.157598Z",
     "start_time": "2025-04-04T19:01:56.041488Z"
    }
   },
   "source": [
    "import importlib\n",
    "import Failure_API.src.wrapper_api.models.active_communication as ac\n",
    "importlib.reload(ac)\n",
    "from Failure_API.src.wrapper_api.models.active_communication import ActiveCommunication"
   ],
   "outputs": [],
   "execution_count": 1
  },
  {
   "metadata": {},
   "cell_type": "markdown",
   "source": "",
   "id": "a3d2de54cc469e1a"
  },
  {
   "metadata": {
    "ExecuteTime": {
     "end_time": "2025-04-04T19:02:00.305546Z",
     "start_time": "2025-04-04T19:02:00.298681Z"
    }
   },
   "cell_type": "code",
   "source": [
    "agent_ids = [\"agent_0\", \"agent_1\", \"agent_2\"]\n",
    "comm = ActiveCommunication(agent_ids=agent_ids)\n",
    "\n",
    "print(\"Initial matrix:\")\n",
    "print(comm.get_state())"
   ],
   "id": "8c5768d80f0e9722",
   "outputs": [
    {
     "name": "stdout",
     "output_type": "stream",
     "text": [
      "Initial matrix:\n",
      "[[ True  True  True]\n",
      " [ True  True  True]\n",
      " [ True  True  True]]\n"
     ]
    }
   ],
   "execution_count": 2
  },
  {
   "metadata": {
    "ExecuteTime": {
     "end_time": "2025-04-04T19:02:03.363549Z",
     "start_time": "2025-04-04T19:02:03.356493Z"
    }
   },
   "cell_type": "code",
   "source": [
    "print(\"\\n Test can_communicate\")\n",
    "print(\"agent_0 -> agent_1:\", comm.can_communicate(\"agent_0\", \"agent_1\"))\n",
    "print(\"agent_2 -> agent_0:\", comm.can_communicate(\"agent_2\", \"agent_0\"))"
   ],
   "id": "719499e989993e62",
   "outputs": [
    {
     "name": "stdout",
     "output_type": "stream",
     "text": [
      "\n",
      " Test can_communicate\n",
      "agent_0 -> agent_1: True\n",
      "agent_2 -> agent_0: True\n"
     ]
    }
   ],
   "execution_count": 3
  },
  {
   "metadata": {
    "ExecuteTime": {
     "end_time": "2025-04-04T19:02:05.816593Z",
     "start_time": "2025-04-04T19:02:05.811706Z"
    }
   },
   "cell_type": "code",
   "source": [
    "comm.update(\"agent_0\", \"agent_1\", False)\n",
    "print(\"\\nUpdated matrix (agent_0 can't communicate with agent_1):\")\n",
    "print(comm.get_state())\n",
    "\n",
    "print(\"\\nBlocked agents for agent_1:\")\n",
    "print(comm.get_blocked_agents(\"agent_1\"))"
   ],
   "id": "2e39ff9d4eddd682",
   "outputs": [
    {
     "name": "stdout",
     "output_type": "stream",
     "text": [
      "\n",
      "Updated matrix (agent_0 can't communicate with agent_1):\n",
      "[[ True False  True]\n",
      " [ True  True  True]\n",
      " [ True  True  True]]\n",
      "\n",
      "Blocked agents for agent_1:\n",
      "[]\n"
     ]
    }
   ],
   "execution_count": 4
  },
  {
   "metadata": {
    "ExecuteTime": {
     "end_time": "2025-04-04T19:02:08.590253Z",
     "start_time": "2025-04-04T19:02:08.583799Z"
    }
   },
   "cell_type": "code",
   "source": [
    "comm.reset()\n",
    "print(\"\\nMatrix after reset:\")\n",
    "print(comm.get_state())"
   ],
   "id": "e5be8108a31492f5",
   "outputs": [
    {
     "name": "stdout",
     "output_type": "stream",
     "text": [
      "\n",
      "Matrix after reset:\n",
      "[[ True  True  True]\n",
      " [ True  True  True]\n",
      " [ True  True  True]]\n"
     ]
    }
   ],
   "execution_count": 5
  },
  {
   "metadata": {},
   "cell_type": "code",
   "outputs": [],
   "execution_count": null,
   "source": "",
   "id": "c716d461b60467aa"
  }
 ],
 "metadata": {
  "kernelspec": {
   "display_name": "Python 3",
   "language": "python",
   "name": "python3"
  },
  "language_info": {
   "codemirror_mode": {
    "name": "ipython",
    "version": 2
   },
   "file_extension": ".py",
   "mimetype": "text/x-python",
   "name": "python",
   "nbconvert_exporter": "python",
   "pygments_lexer": "ipython2",
   "version": "2.7.6"
  }
 },
 "nbformat": 4,
 "nbformat_minor": 5
}
